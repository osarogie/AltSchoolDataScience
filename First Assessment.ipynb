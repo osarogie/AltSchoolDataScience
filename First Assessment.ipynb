{
 "cells": [
  {
   "attachments": {},
   "cell_type": "markdown",
   "id": "7d9fdc0f",
   "metadata": {},
   "source": [
    "## First Assessment Instructions\n",
    "\n",
    "1. Submission Date: 3rd of May, 2023\n",
    "\n",
    "2. Submission Link: https://bit.ly/first_assessment_DS\n",
    "\n",
    "3. You must Submit Jupyter Notebook, not a PDF file, not a .py file, etc\n"
   ]
  },
  {
   "attachments": {},
   "cell_type": "markdown",
   "id": "aaeb4c33",
   "metadata": {},
   "source": [
    "### 1st Question\n",
    "\n",
    "1. Download this dataset - https://bit.ly/read_dataset\n",
    "\n",
    "2. Read the dataset into DataFrame\n",
    "\n",
    "3. Display the first 5 rows\n",
    "\n",
    "4. Score = 10\n"
   ]
  },
  {
   "cell_type": "code",
   "execution_count": 10,
   "id": "d2298f64",
   "metadata": {},
   "outputs": [],
   "source": [
    "import pandas as pd"
   ]
  },
  {
   "cell_type": "code",
   "execution_count": 11,
   "id": "1795b5eb",
   "metadata": {},
   "outputs": [
    {
     "data": {
      "text/html": [
       "<div>\n",
       "<style scoped>\n",
       "    .dataframe tbody tr th:only-of-type {\n",
       "        vertical-align: middle;\n",
       "    }\n",
       "\n",
       "    .dataframe tbody tr th {\n",
       "        vertical-align: top;\n",
       "    }\n",
       "\n",
       "    .dataframe thead th {\n",
       "        text-align: right;\n",
       "    }\n",
       "</style>\n",
       "<table border=\"1\" class=\"dataframe\">\n",
       "  <thead>\n",
       "    <tr style=\"text-align: right;\">\n",
       "      <th></th>\n",
       "      <th>gender</th>\n",
       "      <th>situation</th>\n",
       "      <th>tea</th>\n",
       "      <th>coffee</th>\n",
       "      <th>height</th>\n",
       "      <th>weight</th>\n",
       "      <th>age</th>\n",
       "      <th>meat</th>\n",
       "      <th>fish</th>\n",
       "      <th>raw_fruit</th>\n",
       "      <th>cooked_fruit_veg</th>\n",
       "      <th>chocol</th>\n",
       "      <th>fat</th>\n",
       "    </tr>\n",
       "  </thead>\n",
       "  <tbody>\n",
       "    <tr>\n",
       "      <th>0</th>\n",
       "      <td>2</td>\n",
       "      <td>1</td>\n",
       "      <td>0</td>\n",
       "      <td>0</td>\n",
       "      <td>151</td>\n",
       "      <td>58</td>\n",
       "      <td>72</td>\n",
       "      <td>4</td>\n",
       "      <td>3</td>\n",
       "      <td>1</td>\n",
       "      <td>4</td>\n",
       "      <td>5</td>\n",
       "      <td>6</td>\n",
       "    </tr>\n",
       "    <tr>\n",
       "      <th>1</th>\n",
       "      <td>2</td>\n",
       "      <td>1</td>\n",
       "      <td>1</td>\n",
       "      <td>1</td>\n",
       "      <td>162</td>\n",
       "      <td>60</td>\n",
       "      <td>68</td>\n",
       "      <td>5</td>\n",
       "      <td>2</td>\n",
       "      <td>5</td>\n",
       "      <td>5</td>\n",
       "      <td>1</td>\n",
       "      <td>4</td>\n",
       "    </tr>\n",
       "    <tr>\n",
       "      <th>2</th>\n",
       "      <td>2</td>\n",
       "      <td>1</td>\n",
       "      <td>0</td>\n",
       "      <td>4</td>\n",
       "      <td>162</td>\n",
       "      <td>75</td>\n",
       "      <td>78</td>\n",
       "      <td>3</td>\n",
       "      <td>1</td>\n",
       "      <td>5</td>\n",
       "      <td>2</td>\n",
       "      <td>5</td>\n",
       "      <td>4</td>\n",
       "    </tr>\n",
       "    <tr>\n",
       "      <th>3</th>\n",
       "      <td>2</td>\n",
       "      <td>1</td>\n",
       "      <td>0</td>\n",
       "      <td>0</td>\n",
       "      <td>154</td>\n",
       "      <td>45</td>\n",
       "      <td>91</td>\n",
       "      <td>0</td>\n",
       "      <td>4</td>\n",
       "      <td>4</td>\n",
       "      <td>0</td>\n",
       "      <td>3</td>\n",
       "      <td>2</td>\n",
       "    </tr>\n",
       "    <tr>\n",
       "      <th>4</th>\n",
       "      <td>2</td>\n",
       "      <td>1</td>\n",
       "      <td>2</td>\n",
       "      <td>1</td>\n",
       "      <td>154</td>\n",
       "      <td>50</td>\n",
       "      <td>65</td>\n",
       "      <td>5</td>\n",
       "      <td>3</td>\n",
       "      <td>5</td>\n",
       "      <td>5</td>\n",
       "      <td>3</td>\n",
       "      <td>2</td>\n",
       "    </tr>\n",
       "  </tbody>\n",
       "</table>\n",
       "</div>"
      ],
      "text/plain": [
       "   gender  situation  tea  coffee  height  weight  age  meat  fish  raw_fruit  \\\n",
       "0       2          1    0       0     151      58   72     4     3          1   \n",
       "1       2          1    1       1     162      60   68     5     2          5   \n",
       "2       2          1    0       4     162      75   78     3     1          5   \n",
       "3       2          1    0       0     154      45   91     0     4          4   \n",
       "4       2          1    2       1     154      50   65     5     3          5   \n",
       "\n",
       "   cooked_fruit_veg  chocol  fat  \n",
       "0                 4       5    6  \n",
       "1                 5       1    4  \n",
       "2                 2       5    4  \n",
       "3                 0       3    2  \n",
       "4                 5       3    2  "
      ]
     },
     "execution_count": 11,
     "metadata": {},
     "output_type": "execute_result"
    }
   ],
   "source": [
    "df = pd.read_csv(\"data/nutrition_elderly.xls - EXO2.csv\")\n",
    "df.head()"
   ]
  },
  {
   "attachments": {},
   "cell_type": "markdown",
   "id": "137d2bde",
   "metadata": {},
   "source": [
    "### 2nd Question\n",
    "\n",
    "1. Print a concise summary of the DataFrame\n",
    "\n",
    "2. Score = 10\n"
   ]
  },
  {
   "cell_type": "code",
   "execution_count": 12,
   "id": "325951b6",
   "metadata": {},
   "outputs": [
    {
     "name": "stdout",
     "output_type": "stream",
     "text": [
      "<class 'pandas.core.frame.DataFrame'>\n",
      "RangeIndex: 226 entries, 0 to 225\n",
      "Data columns (total 13 columns):\n",
      " #   Column            Non-Null Count  Dtype\n",
      "---  ------            --------------  -----\n",
      " 0   gender            226 non-null    int64\n",
      " 1   situation         226 non-null    int64\n",
      " 2   tea               226 non-null    int64\n",
      " 3   coffee            226 non-null    int64\n",
      " 4   height            226 non-null    int64\n",
      " 5   weight            226 non-null    int64\n",
      " 6   age               226 non-null    int64\n",
      " 7   meat              226 non-null    int64\n",
      " 8   fish              226 non-null    int64\n",
      " 9   raw_fruit         226 non-null    int64\n",
      " 10  cooked_fruit_veg  226 non-null    int64\n",
      " 11  chocol            226 non-null    int64\n",
      " 12  fat               226 non-null    int64\n",
      "dtypes: int64(13)\n",
      "memory usage: 23.1 KB\n"
     ]
    }
   ],
   "source": [
    "df.info()"
   ]
  },
  {
   "attachments": {},
   "cell_type": "markdown",
   "id": "1f441093",
   "metadata": {},
   "source": [
    "### 3rd Question\n",
    "\n",
    "1. The display from the second question will show all the columns have identical data types\n",
    "\n",
    "2. Fix this by converting the column data types appropriately\n",
    "\n",
    "3. The data types should appropriately fall within the following categories: Qualitative, Discrete quantitative & Continuous quantitative\n",
    "\n",
    "4. Score = 10\n"
   ]
  },
  {
   "cell_type": "code",
   "execution_count": 13,
   "id": "b1dc7949",
   "metadata": {},
   "outputs": [
    {
     "name": "stdout",
     "output_type": "stream",
     "text": [
      "<class 'pandas.core.frame.DataFrame'>\n",
      "RangeIndex: 226 entries, 0 to 225\n",
      "Data columns (total 13 columns):\n",
      " #   Column            Non-Null Count  Dtype   \n",
      "---  ------            --------------  -----   \n",
      " 0   gender            226 non-null    category\n",
      " 1   situation         226 non-null    category\n",
      " 2   tea               226 non-null    category\n",
      " 3   coffee            226 non-null    category\n",
      " 4   height            226 non-null    float64 \n",
      " 5   weight            226 non-null    float64 \n",
      " 6   age               226 non-null    int64   \n",
      " 7   meat              226 non-null    category\n",
      " 8   fish              226 non-null    category\n",
      " 9   raw_fruit         226 non-null    category\n",
      " 10  cooked_fruit_veg  226 non-null    category\n",
      " 11  chocol            226 non-null    category\n",
      " 12  fat               226 non-null    category\n",
      "dtypes: category(10), float64(2), int64(1)\n",
      "memory usage: 9.9 KB\n"
     ]
    }
   ],
   "source": [
    "df = df.astype({\n",
    "    \"gender\": \"category\",\n",
    "    \"situation\": \"category\",\n",
    "    \"tea\": \"category\",\n",
    "    \"coffee\": \"category\",\n",
    "    \"meat\": \"category\",\n",
    "    \"fish\": \"category\",\n",
    "    \"raw_fruit\": \"category\",\n",
    "    \"cooked_fruit_veg\": \"category\",\n",
    "    \"chocol\": \"category\",\n",
    "    \"fat\": \"category\",\n",
    "    \"age\": \"int64\",\n",
    "    \"height\": \"float64\",\n",
    "    \"weight\": \"float64\",\n",
    "})\n",
    "df.info()"
   ]
  }
 ],
 "metadata": {
  "kernelspec": {
   "display_name": "Python 3 (ipykernel)",
   "language": "python",
   "name": "python3"
  },
  "language_info": {
   "codemirror_mode": {
    "name": "ipython",
    "version": 3
   },
   "file_extension": ".py",
   "mimetype": "text/x-python",
   "name": "python",
   "nbconvert_exporter": "python",
   "pygments_lexer": "ipython3",
   "version": "3.11.3"
  }
 },
 "nbformat": 4,
 "nbformat_minor": 5
}
