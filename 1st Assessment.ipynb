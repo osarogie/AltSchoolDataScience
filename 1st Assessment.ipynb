{
 "cells": [
  {
   "cell_type": "markdown",
   "id": "800f23a9",
   "metadata": {},
   "source": [
    "### First Assessment for Introduction to Python (Follow the Instructions diligently)\n",
    "\n",
    "1. Save your notebook file as your name, your date of submission & email. E.g \"Peter Okwukogu - 20-02-23 - pablo@altschoolafrica.com\" - Score = 4 points\n",
    "\n",
    "\n",
    "2. The assignment should be submitted to https://bit.ly/altschool-first-assessment - Score = 3 points\n",
    "\n",
    "\n",
    "3. Submission Deadline: On or before 11:59pm, 28th of February, 2023 - Score = 3 points"
   ]
  },
  {
   "cell_type": "markdown",
   "id": "8beb7b28",
   "metadata": {},
   "source": [
    "1. Read the is link https://en.wikipedia.org/wiki/List_of_Asian_countries_by_GDP_(PPP)_per_capita into a table/dataframe and show the first 10 rows of the List of Asian countries by GDP (PPP) per capita\n",
    "\n",
    "Score = 10 points"
   ]
  },
  {
   "cell_type": "markdown",
   "id": "8de0dacb",
   "metadata": {},
   "source": [
    "2. Change the column name \"GDP per capita (Int$)\" to \"Gross Domestic Product\"\n",
    "\n",
    "Score = 10 points"
   ]
  },
  {
   "cell_type": "markdown",
   "id": "d9aed8d4",
   "metadata": {},
   "source": [
    "3. Convert the data type of the values in \"Gross Domestic Product\" to Int\n",
    "\n",
    "Score = 10 points"
   ]
  },
  {
   "cell_type": "markdown",
   "id": "92e65ddb",
   "metadata": {},
   "source": [
    "4. Convert the column \"Gross Domestic Product\" to a list and give it an intuitive variable name\n",
    "\n",
    "Score = 5"
   ]
  },
  {
   "cell_type": "markdown",
   "id": "468065c7",
   "metadata": {},
   "source": [
    "5. What is the average of the elements in the list?\n",
    "\n",
    "Score = 5"
   ]
  },
  {
   "cell_type": "markdown",
   "id": "9fed6987",
   "metadata": {},
   "source": [
    "### Total Score = 50 points"
   ]
  },
  {
   "cell_type": "code",
   "execution_count": null,
   "id": "50355d95",
   "metadata": {},
   "outputs": [],
   "source": []
  }
 ],
 "metadata": {
  "kernelspec": {
   "display_name": "Python 3 (ipykernel)",
   "language": "python",
   "name": "python3"
  },
  "language_info": {
   "codemirror_mode": {
    "name": "ipython",
    "version": 3
   },
   "file_extension": ".py",
   "mimetype": "text/x-python",
   "name": "python",
   "nbconvert_exporter": "python",
   "pygments_lexer": "ipython3",
   "version": "3.9.13"
  }
 },
 "nbformat": 4,
 "nbformat_minor": 5
}
