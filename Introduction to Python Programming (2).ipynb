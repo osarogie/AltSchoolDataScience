{
 "cells": [
  {
   "cell_type": "markdown",
   "id": "0e267c85",
   "metadata": {},
   "source": [
    "### Introduction to Python"
   ]
  },
  {
   "cell_type": "markdown",
   "id": "b9c0aefc",
   "metadata": {},
   "source": [
    "### Starting with Documentation"
   ]
  },
  {
   "cell_type": "code",
   "execution_count": null,
   "id": "8b8293e8",
   "metadata": {},
   "outputs": [],
   "source": [
    "# Comments - Definition of comments:\n",
    "#   - A comment is a line of text that begins with a # character.\n",
    "#   - Comments are ignored by the interpreter.\n",
    "#   - Comments can be placed anywhere in a program, but are usually placed at the end."
   ]
  },
  {
   "cell_type": "code",
   "execution_count": null,
   "id": "d8981453",
   "metadata": {},
   "outputs": [],
   "source": [
    "my_name = 'Pablo' # Pablo is being assigned to my_name "
   ]
  },
  {
   "cell_type": "code",
   "execution_count": 8,
   "id": "8ca6fdaa",
   "metadata": {
    "ExecuteTime": {
     "end_time": "2023-02-11T17:50:26.824278Z",
     "start_time": "2023-02-11T17:50:26.790004Z"
    }
   },
   "outputs": [
    {
     "ename": "NameError",
     "evalue": "name 'my_name' is not defined",
     "output_type": "error",
     "traceback": [
      "\u001b[0;31m---------------------------------------------------------------------------\u001b[0m",
      "\u001b[0;31mNameError\u001b[0m                                 Traceback (most recent call last)",
      "\u001b[0;32m/var/folders/sj/vpbs2tm52r3gw6r1vgvt92200000gn/T/ipykernel_88245/2807883850.py\u001b[0m in \u001b[0;36m<module>\u001b[0;34m\u001b[0m\n\u001b[0;32m----> 1\u001b[0;31m \u001b[0mprint\u001b[0m\u001b[0;34m(\u001b[0m\u001b[0mmy_name\u001b[0m\u001b[0;34m)\u001b[0m\u001b[0;34m\u001b[0m\u001b[0;34m\u001b[0m\u001b[0m\n\u001b[0m",
      "\u001b[0;31mNameError\u001b[0m: name 'my_name' is not defined"
     ]
    }
   ],
   "source": [
    "print(my_name)"
   ]
  },
  {
   "cell_type": "code",
   "execution_count": 2,
   "id": "4ac56dd8",
   "metadata": {
    "ExecuteTime": {
     "end_time": "2023-01-22T02:54:04.281441Z",
     "start_time": "2023-01-22T02:54:04.263276Z"
    }
   },
   "outputs": [],
   "source": [
    "# Pablo is being assigned to my_name <--- bad comment\n",
    "my_name = 'Pablo' "
   ]
  },
  {
   "cell_type": "code",
   "execution_count": 3,
   "id": "bc129cb7",
   "metadata": {
    "ExecuteTime": {
     "end_time": "2023-01-22T02:54:18.938336Z",
     "start_time": "2023-01-22T02:54:18.882042Z"
    }
   },
   "outputs": [
    {
     "name": "stdout",
     "output_type": "stream",
     "text": [
      "Pablo\n"
     ]
    }
   ],
   "source": [
    "print(my_name) # Pablo is being printed"
   ]
  },
  {
   "cell_type": "markdown",
   "id": "32e326b1",
   "metadata": {},
   "source": [
    "### Commenting Out"
   ]
  },
  {
   "cell_type": "code",
   "execution_count": 1,
   "id": "6da145d1",
   "metadata": {
    "ExecuteTime": {
     "end_time": "2023-01-22T02:53:57.757280Z",
     "start_time": "2023-01-22T02:53:57.750631Z"
    }
   },
   "outputs": [],
   "source": [
    "# p = 'Pablo' # Pablo is being assigned to p\n",
    "name_instructor = 'Pablo' # Pablo is being assigned to name_instructor"
   ]
  },
  {
   "cell_type": "markdown",
   "id": "a559bdfb",
   "metadata": {},
   "source": [
    "### Docstrings\n",
    "\n",
    "1. They are ignored by the python interpreter\n",
    "\n",
    "2. Three literal string\n",
    "\n",
    "3. They are used for functions/modules"
   ]
  },
  {
   "cell_type": "code",
   "execution_count": 4,
   "id": "76f3d2a8",
   "metadata": {
    "ExecuteTime": {
     "end_time": "2023-01-22T03:02:13.292006Z",
     "start_time": "2023-01-22T03:02:13.277391Z"
    }
   },
   "outputs": [
    {
     "data": {
      "text/plain": [
       "'\\nThis function is used to data analysis \\n\\n'"
      ]
     },
     "execution_count": 4,
     "metadata": {},
     "output_type": "execute_result"
    }
   ],
   "source": [
    "\"\"\"\n",
    "This function is used to data analysis \n",
    "\n",
    "\"\"\""
   ]
  },
  {
   "cell_type": "code",
   "execution_count": 13,
   "id": "2746d61a",
   "metadata": {
    "ExecuteTime": {
     "end_time": "2023-01-29T02:49:34.750595Z",
     "start_time": "2023-01-29T02:49:34.720152Z"
    }
   },
   "outputs": [],
   "source": [
    "def greeter(): # function for greeting\n",
    "    \"\"\" This function simply says \n",
    "    hello\n",
    "    \"\"\" \n",
    "    print(\"Hello\")"
   ]
  },
  {
   "cell_type": "code",
   "execution_count": 7,
   "id": "f7fd46b4",
   "metadata": {
    "ExecuteTime": {
     "end_time": "2023-01-22T03:03:32.459480Z",
     "start_time": "2023-01-22T03:03:32.448535Z"
    }
   },
   "outputs": [
    {
     "name": "stdout",
     "output_type": "stream",
     "text": [
      "Hello\n"
     ]
    }
   ],
   "source": [
    "greeter()"
   ]
  },
  {
   "cell_type": "markdown",
   "id": "355d6ca8",
   "metadata": {},
   "source": [
    "### Introduction to Variables"
   ]
  },
  {
   "cell_type": "code",
   "execution_count": 12,
   "id": "e5b41e77",
   "metadata": {
    "ExecuteTime": {
     "end_time": "2023-01-22T03:31:20.591196Z",
     "start_time": "2023-01-22T03:31:20.545234Z"
    }
   },
   "outputs": [],
   "source": [
    "# How to create a variable\n",
    "# Create a label "
   ]
  },
  {
   "cell_type": "code",
   "execution_count": 13,
   "id": "a84e049c",
   "metadata": {
    "ExecuteTime": {
     "end_time": "2023-01-22T03:33:56.259028Z",
     "start_time": "2023-01-22T03:33:56.254550Z"
    }
   },
   "outputs": [],
   "source": [
    "x = 'Number' # x is the variable/label, it is assigned a value 'Number'"
   ]
  },
  {
   "cell_type": "code",
   "execution_count": 14,
   "id": "d69ff9d5",
   "metadata": {
    "ExecuteTime": {
     "end_time": "2023-01-22T03:34:28.278633Z",
     "start_time": "2023-01-22T03:34:28.273400Z"
    }
   },
   "outputs": [
    {
     "name": "stdout",
     "output_type": "stream",
     "text": [
      "Number\n"
     ]
    }
   ],
   "source": [
    "print(x)"
   ]
  },
  {
   "cell_type": "code",
   "execution_count": 15,
   "id": "e58274c5",
   "metadata": {
    "ExecuteTime": {
     "end_time": "2023-01-22T03:41:39.838548Z",
     "start_time": "2023-01-22T03:41:39.830805Z"
    }
   },
   "outputs": [],
   "source": [
    "# Rules to creating labels for variables\n",
    "# 1. Variable names can contain only letters, numbers, and underscores -\n",
    "# Variables can start with letters and underscore but not numbers"
   ]
  },
  {
   "cell_type": "code",
   "execution_count": 16,
   "id": "bcf3c3d8",
   "metadata": {
    "ExecuteTime": {
     "end_time": "2023-01-22T03:43:13.575129Z",
     "start_time": "2023-01-22T03:43:13.570894Z"
    }
   },
   "outputs": [],
   "source": [
    "name_student = 'Jeremiah' # Name of an Altschool Student"
   ]
  },
  {
   "cell_type": "code",
   "execution_count": 17,
   "id": "5ab45044",
   "metadata": {
    "ExecuteTime": {
     "end_time": "2023-01-22T03:44:17.212987Z",
     "start_time": "2023-01-22T03:44:17.178483Z"
    }
   },
   "outputs": [
    {
     "ename": "SyntaxError",
     "evalue": "invalid syntax (747080813.py, line 2)",
     "output_type": "error",
     "traceback": [
      "\u001b[0;36m  File \u001b[0;32m\"/var/folders/sj/vpbs2tm52r3gw6r1vgvt92200000gn/T/ipykernel_49874/747080813.py\"\u001b[0;36m, line \u001b[0;32m2\u001b[0m\n\u001b[0;31m    1name_student = 'Trevor' # Name of an AltSchool Student\u001b[0m\n\u001b[0m     ^\u001b[0m\n\u001b[0;31mSyntaxError\u001b[0m\u001b[0;31m:\u001b[0m invalid syntax\n"
     ]
    }
   ],
   "source": [
    "# Break rule 1 \n",
    "1name_student = 'Trevor' # Name of an AltSchool Student"
   ]
  },
  {
   "cell_type": "code",
   "execution_count": 18,
   "id": "53510e92",
   "metadata": {
    "ExecuteTime": {
     "end_time": "2023-01-22T03:52:41.602925Z",
     "start_time": "2023-01-22T03:52:41.569708Z"
    }
   },
   "outputs": [],
   "source": [
    "# 2. Spaces are not allowed in variable names\n",
    "# Underscores are used to seperate characters/words in variable names"
   ]
  },
  {
   "cell_type": "code",
   "execution_count": 19,
   "id": "786f9b4d",
   "metadata": {
    "ExecuteTime": {
     "end_time": "2023-01-22T03:54:48.804241Z",
     "start_time": "2023-01-22T03:54:48.786958Z"
    }
   },
   "outputs": [
    {
     "ename": "SyntaxError",
     "evalue": "invalid syntax (3278194910.py, line 2)",
     "output_type": "error",
     "traceback": [
      "\u001b[0;36m  File \u001b[0;32m\"/var/folders/sj/vpbs2tm52r3gw6r1vgvt92200000gn/T/ipykernel_49874/3278194910.py\"\u001b[0;36m, line \u001b[0;32m2\u001b[0m\n\u001b[0;31m    name student = \"Yomi\" # The AltSchool student that is whining me\u001b[0m\n\u001b[0m         ^\u001b[0m\n\u001b[0;31mSyntaxError\u001b[0m\u001b[0;31m:\u001b[0m invalid syntax\n"
     ]
    }
   ],
   "source": [
    "# Break rule 2 \n",
    "name student = \"Yomi\" # The AltSchool student that is whining me "
   ]
  },
  {
   "cell_type": "code",
   "execution_count": 10,
   "id": "ec7eabd9",
   "metadata": {
    "ExecuteTime": {
     "end_time": "2023-01-26T02:43:48.030752Z",
     "start_time": "2023-01-26T02:43:47.977212Z"
    }
   },
   "outputs": [],
   "source": [
    "# Part of the 2nd Rule\n",
    "nameStudent = \"Yomi\" # The AltSchool student that is whining me "
   ]
  },
  {
   "cell_type": "code",
   "execution_count": null,
   "id": "adb92d5d",
   "metadata": {},
   "outputs": [],
   "source": [
    "# Rule 3(Guide): Avoid using reserved Python Keywords & function names\n",
    "import \n",
    "print \n",
    "as \n",
    "not \n",
    "or \n",
    "and \n",
    "in \n",
    "is \n",
    "if \n",
    "else \n",
    "elif \n",
    "while \n",
    "for \n",
    "def \n",
    "class \n",
    "try \n",
    "except \n",
    "finally \n",
    "with \n",
    "yield \n",
    "from \n",
    "import \n",
    "as \n",
    "global \n",
    "nonlocal \n",
    "assert \n",
    "del \n",
    "pass \n",
    "continue \n",
    "break \n",
    "raise \n",
    "return \n",
    "lambda \n",
    "with \n",
    "async \n",
    "await "
   ]
  },
  {
   "cell_type": "code",
   "execution_count": 1,
   "id": "5c6e2082",
   "metadata": {
    "ExecuteTime": {
     "end_time": "2023-01-26T03:07:44.216124Z",
     "start_time": "2023-01-26T03:07:44.179540Z"
    }
   },
   "outputs": [
    {
     "data": {
      "text/plain": [
       "15"
      ]
     },
     "execution_count": 1,
     "metadata": {},
     "output_type": "execute_result"
    }
   ],
   "source": [
    "# Method or function call sum \n",
    "num_list = [1, 2, 3, 4, 5] # A list of numbers \n",
    "sum(num_list) # Used the sum function on the list"
   ]
  },
  {
   "cell_type": "code",
   "execution_count": 13,
   "id": "6cd3ce2d",
   "metadata": {
    "ExecuteTime": {
     "end_time": "2023-01-26T03:06:26.706099Z",
     "start_time": "2023-01-26T03:06:26.636220Z"
    }
   },
   "outputs": [],
   "source": [
    "# Create a variable with a name sum\n",
    "# sum = [1, 2, 3, 4, 5] # Assigned the list to the variable sum"
   ]
  },
  {
   "cell_type": "code",
   "execution_count": null,
   "id": "bcdd3967",
   "metadata": {},
   "outputs": [],
   "source": [
    "# Rule 4: Variable names should be descriptive \n",
    "my_country = 'Nigeria' # Nigeria has been assigned to my_country"
   ]
  },
  {
   "cell_type": "code",
   "execution_count": null,
   "id": "03865f5b",
   "metadata": {},
   "outputs": [],
   "source": [
    "# Break the rule \n",
    "m_c = \"Algeria\" # Algeria has been assigned to m_c"
   ]
  },
  {
   "cell_type": "code",
   "execution_count": null,
   "id": "4de6918e",
   "metadata": {},
   "outputs": [],
   "source": [
    "# Rule 5: Do not mix up similar letter and numbers in our variable labels"
   ]
  },
  {
   "cell_type": "code",
   "execution_count": 2,
   "id": "a5473f6d",
   "metadata": {
    "ExecuteTime": {
     "end_time": "2023-01-26T03:17:49.903760Z",
     "start_time": "2023-01-26T03:17:49.859428Z"
    }
   },
   "outputs": [],
   "source": [
    "# Possible errors that can occur with variables \n",
    "message = \"Please log in with your laptops\""
   ]
  },
  {
   "cell_type": "code",
   "execution_count": 3,
   "id": "cb86dd5a",
   "metadata": {
    "ExecuteTime": {
     "end_time": "2023-01-26T03:18:02.530670Z",
     "start_time": "2023-01-26T03:18:02.117423Z"
    }
   },
   "outputs": [
    {
     "ename": "NameError",
     "evalue": "name 'mesage' is not defined",
     "output_type": "error",
     "traceback": [
      "\u001b[0;31m---------------------------------------------------------------------------\u001b[0m",
      "\u001b[0;31mNameError\u001b[0m                                 Traceback (most recent call last)",
      "\u001b[0;32m/var/folders/sj/vpbs2tm52r3gw6r1vgvt92200000gn/T/ipykernel_92519/1473675084.py\u001b[0m in \u001b[0;36m<module>\u001b[0;34m\u001b[0m\n\u001b[0;32m----> 1\u001b[0;31m \u001b[0mprint\u001b[0m\u001b[0;34m(\u001b[0m\u001b[0mmesage\u001b[0m\u001b[0;34m)\u001b[0m\u001b[0;34m\u001b[0m\u001b[0;34m\u001b[0m\u001b[0m\n\u001b[0m",
      "\u001b[0;31mNameError\u001b[0m: name 'mesage' is not defined"
     ]
    }
   ],
   "source": [
    "print(mesage)"
   ]
  },
  {
   "cell_type": "code",
   "execution_count": null,
   "id": "963897d3",
   "metadata": {},
   "outputs": [],
   "source": [
    "# Variables are label \n",
    "# Label variable with the values you have in mind   "
   ]
  },
  {
   "cell_type": "code",
   "execution_count": 5,
   "id": "eb2d6d15",
   "metadata": {
    "ExecuteTime": {
     "end_time": "2023-01-26T03:26:26.755549Z",
     "start_time": "2023-01-26T03:26:26.716664Z"
    }
   },
   "outputs": [
    {
     "name": "stdout",
     "output_type": "stream",
     "text": [
      "Please log in with your laptops\n"
     ]
    }
   ],
   "source": [
    "print(message) "
   ]
  },
  {
   "cell_type": "code",
   "execution_count": 1,
   "id": "0bfbe8e6",
   "metadata": {
    "ExecuteTime": {
     "end_time": "2023-01-26T02:17:24.940904Z",
     "start_time": "2023-01-26T02:17:24.901474Z"
    }
   },
   "outputs": [],
   "source": [
    "# Create a variable \n",
    "# Variable will have extra spaces(Whitespaces)\n",
    "# Take away the whitespaces "
   ]
  },
  {
   "cell_type": "code",
   "execution_count": 2,
   "id": "a97e1bf3",
   "metadata": {
    "ExecuteTime": {
     "end_time": "2023-01-26T02:18:01.552626Z",
     "start_time": "2023-01-26T02:18:01.547412Z"
    }
   },
   "outputs": [],
   "source": [
    "my_location = \"   Kaduna  \""
   ]
  },
  {
   "cell_type": "code",
   "execution_count": 3,
   "id": "abaa4f66",
   "metadata": {
    "ExecuteTime": {
     "end_time": "2023-01-26T02:18:18.420268Z",
     "start_time": "2023-01-26T02:18:18.413985Z"
    }
   },
   "outputs": [
    {
     "name": "stdout",
     "output_type": "stream",
     "text": [
      "   Kaduna  \n"
     ]
    }
   ],
   "source": [
    "print(my_location)"
   ]
  },
  {
   "cell_type": "code",
   "execution_count": 4,
   "id": "59e0b462",
   "metadata": {
    "ExecuteTime": {
     "end_time": "2023-01-26T02:29:08.859517Z",
     "start_time": "2023-01-26T02:29:08.774197Z"
    }
   },
   "outputs": [
    {
     "data": {
      "text/plain": [
       "'hello  apple'"
      ]
     },
     "execution_count": 4,
     "metadata": {},
     "output_type": "execute_result"
    }
   ],
   "source": [
    "sentence = ' hello  apple' # Variable with hello apple assigned\n",
    "sentence.strip() # Using the strip method to remove the whitespaces"
   ]
  },
  {
   "cell_type": "code",
   "execution_count": 5,
   "id": "df39ac25",
   "metadata": {
    "ExecuteTime": {
     "end_time": "2023-01-26T02:34:46.128469Z",
     "start_time": "2023-01-26T02:34:46.108091Z"
    }
   },
   "outputs": [
    {
     "name": "stdout",
     "output_type": "stream",
     "text": [
      "Kaduna       \n"
     ]
    }
   ],
   "source": [
    "my_location = \"Kaduna       \"\n",
    "print(my_location)"
   ]
  },
  {
   "cell_type": "code",
   "execution_count": 6,
   "id": "bec6f25d",
   "metadata": {
    "ExecuteTime": {
     "end_time": "2023-01-26T02:36:05.966087Z",
     "start_time": "2023-01-26T02:36:05.958957Z"
    }
   },
   "outputs": [
    {
     "data": {
      "text/plain": [
       "'Kaduna'"
      ]
     },
     "execution_count": 6,
     "metadata": {},
     "output_type": "execute_result"
    }
   ],
   "source": [
    "my_location.rstrip() # Removes a trailing white space on the right"
   ]
  },
  {
   "cell_type": "code",
   "execution_count": 7,
   "id": "ffa45f75",
   "metadata": {
    "ExecuteTime": {
     "end_time": "2023-01-26T02:36:37.233592Z",
     "start_time": "2023-01-26T02:36:37.223021Z"
    }
   },
   "outputs": [],
   "source": [
    "my_location = \"       Kaduna\" "
   ]
  },
  {
   "cell_type": "code",
   "execution_count": 8,
   "id": "1684951a",
   "metadata": {
    "ExecuteTime": {
     "end_time": "2023-01-26T02:36:42.626810Z",
     "start_time": "2023-01-26T02:36:42.621367Z"
    }
   },
   "outputs": [
    {
     "data": {
      "text/plain": [
       "'       Kaduna'"
      ]
     },
     "execution_count": 8,
     "metadata": {},
     "output_type": "execute_result"
    }
   ],
   "source": [
    "my_location"
   ]
  },
  {
   "cell_type": "code",
   "execution_count": 9,
   "id": "936ae9df",
   "metadata": {
    "ExecuteTime": {
     "end_time": "2023-01-26T02:37:08.388014Z",
     "start_time": "2023-01-26T02:37:08.374331Z"
    }
   },
   "outputs": [
    {
     "data": {
      "text/plain": [
       "'Kaduna'"
      ]
     },
     "execution_count": 9,
     "metadata": {},
     "output_type": "execute_result"
    }
   ],
   "source": [
    "my_location.lstrip() # Removes a trailing white space on the left "
   ]
  },
  {
   "cell_type": "markdown",
   "id": "bbbb9579",
   "metadata": {},
   "source": [
    "### Introduction to Strings "
   ]
  },
  {
   "cell_type": "code",
   "execution_count": null,
   "id": "e2b84052",
   "metadata": {},
   "outputs": [],
   "source": [
    "# Series of letters, a single word, a single letter\n",
    "# They are surrounded by quotes: single, double or triple\n",
    "# Strings is a data type \n",
    "# Strings are immutable "
   ]
  },
  {
   "cell_type": "code",
   "execution_count": 6,
   "id": "8a5ba5bd",
   "metadata": {
    "ExecuteTime": {
     "end_time": "2023-01-26T03:54:30.489013Z",
     "start_time": "2023-01-26T03:54:30.459432Z"
    }
   },
   "outputs": [],
   "source": [
    "# Create a variable\n",
    "my_class = \"Python\""
   ]
  },
  {
   "cell_type": "code",
   "execution_count": 7,
   "id": "170ee079",
   "metadata": {
    "ExecuteTime": {
     "end_time": "2023-01-26T03:54:53.582930Z",
     "start_time": "2023-01-26T03:54:53.507044Z"
    }
   },
   "outputs": [
    {
     "data": {
      "text/plain": [
       "str"
      ]
     },
     "execution_count": 7,
     "metadata": {},
     "output_type": "execute_result"
    }
   ],
   "source": [
    "type(my_class)"
   ]
  },
  {
   "cell_type": "code",
   "execution_count": 24,
   "id": "12a3e450",
   "metadata": {
    "ExecuteTime": {
     "end_time": "2023-01-29T03:03:12.132302Z",
     "start_time": "2023-01-29T03:03:12.127246Z"
    }
   },
   "outputs": [],
   "source": [
    "name = \"Peter\"\n",
    "first_name = \"Peter\"\n",
    "last_name = \"Okwukogu\"\n",
    "alias = \"Pablo\"\n",
    "job = \"\"\"I am a data scientist & \n",
    "Data Science Instructor\"\"\""
   ]
  },
  {
   "cell_type": "code",
   "execution_count": 10,
   "id": "16f09186",
   "metadata": {
    "ExecuteTime": {
     "end_time": "2023-01-26T03:57:59.642626Z",
     "start_time": "2023-01-26T03:57:59.634859Z"
    }
   },
   "outputs": [
    {
     "data": {
      "text/plain": [
       "str"
      ]
     },
     "execution_count": 10,
     "metadata": {},
     "output_type": "execute_result"
    }
   ],
   "source": [
    "type(job)"
   ]
  },
  {
   "cell_type": "code",
   "execution_count": 11,
   "id": "f71d8364",
   "metadata": {
    "ExecuteTime": {
     "end_time": "2023-01-26T04:00:21.853450Z",
     "start_time": "2023-01-26T04:00:21.770635Z"
    }
   },
   "outputs": [
    {
     "ename": "SyntaxError",
     "evalue": "invalid syntax (2221099425.py, line 2)",
     "output_type": "error",
     "traceback": [
      "\u001b[0;36m  File \u001b[0;32m\"/var/folders/sj/vpbs2tm52r3gw6r1vgvt92200000gn/T/ipykernel_92519/2221099425.py\"\u001b[0;36m, line \u001b[0;32m2\u001b[0m\n\u001b[0;31m    rant = 'Miriam's laptop is a mac'\u001b[0m\n\u001b[0m                   ^\u001b[0m\n\u001b[0;31mSyntaxError\u001b[0m\u001b[0;31m:\u001b[0m invalid syntax\n"
     ]
    }
   ],
   "source": [
    "# Why single or double quotes \n",
    "rant = 'Miriam's laptop is a mac' "
   ]
  },
  {
   "cell_type": "code",
   "execution_count": 12,
   "id": "a6ac2ff1",
   "metadata": {
    "ExecuteTime": {
     "end_time": "2023-01-26T04:00:45.698347Z",
     "start_time": "2023-01-26T04:00:45.688121Z"
    }
   },
   "outputs": [],
   "source": [
    "rant = \"Miriam's laptop is a mac\""
   ]
  },
  {
   "cell_type": "code",
   "execution_count": 16,
   "id": "49129d84",
   "metadata": {
    "ExecuteTime": {
     "end_time": "2023-01-26T04:06:00.983129Z",
     "start_time": "2023-01-26T04:05:56.659345Z"
    }
   },
   "outputs": [],
   "source": [
    "# import a data analysis library \n",
    "import pandas as pd # importing a pandas package for analysis"
   ]
  },
  {
   "cell_type": "code",
   "execution_count": 14,
   "id": "b3f71590",
   "metadata": {
    "ExecuteTime": {
     "end_time": "2023-01-29T02:58:34.674491Z",
     "start_time": "2023-01-29T02:58:34.662612Z"
    }
   },
   "outputs": [],
   "source": [
    "data_movies = pd.read_csv(\"/Users/pablo/Desktop/movies.csv\") # Converting the dataset to a dataframe"
   ]
  },
  {
   "cell_type": "code",
   "execution_count": 15,
   "id": "5d89ec03",
   "metadata": {
    "ExecuteTime": {
     "end_time": "2023-01-29T02:58:35.557798Z",
     "start_time": "2023-01-29T02:58:35.536850Z"
    }
   },
   "outputs": [
    {
     "data": {
      "text/html": [
       "<div>\n",
       "<style scoped>\n",
       "    .dataframe tbody tr th:only-of-type {\n",
       "        vertical-align: middle;\n",
       "    }\n",
       "\n",
       "    .dataframe tbody tr th {\n",
       "        vertical-align: top;\n",
       "    }\n",
       "\n",
       "    .dataframe thead th {\n",
       "        text-align: right;\n",
       "    }\n",
       "</style>\n",
       "<table border=\"1\" class=\"dataframe\">\n",
       "  <thead>\n",
       "    <tr style=\"text-align: right;\">\n",
       "      <th></th>\n",
       "      <th>index</th>\n",
       "      <th>movie_name</th>\n",
       "      <th>year_of_release</th>\n",
       "      <th>category</th>\n",
       "      <th>run_time</th>\n",
       "      <th>genre</th>\n",
       "      <th>imdb_rating</th>\n",
       "      <th>votes</th>\n",
       "      <th>gross_total</th>\n",
       "    </tr>\n",
       "  </thead>\n",
       "  <tbody>\n",
       "    <tr>\n",
       "      <th>0</th>\n",
       "      <td>1.0</td>\n",
       "      <td>The Godfather</td>\n",
       "      <td>(1972)</td>\n",
       "      <td>R</td>\n",
       "      <td>175 min</td>\n",
       "      <td>Crime, Drama</td>\n",
       "      <td>9.2</td>\n",
       "      <td>1,860,471</td>\n",
       "      <td>$134.97M</td>\n",
       "    </tr>\n",
       "    <tr>\n",
       "      <th>1</th>\n",
       "      <td>2.0</td>\n",
       "      <td>The Silence of the Lambs</td>\n",
       "      <td>(1991)</td>\n",
       "      <td>R</td>\n",
       "      <td>118 min</td>\n",
       "      <td>Crime, Drama, Thriller</td>\n",
       "      <td>8.6</td>\n",
       "      <td>1,435,344</td>\n",
       "      <td>$130.74M</td>\n",
       "    </tr>\n",
       "    <tr>\n",
       "      <th>2</th>\n",
       "      <td>3.0</td>\n",
       "      <td>Star Wars: Episode V - The Empire Strikes Back</td>\n",
       "      <td>(1980)</td>\n",
       "      <td>PG</td>\n",
       "      <td>124 min</td>\n",
       "      <td>Action, Adventure, Fantasy</td>\n",
       "      <td>8.7</td>\n",
       "      <td>1,294,805</td>\n",
       "      <td>$290.48M</td>\n",
       "    </tr>\n",
       "    <tr>\n",
       "      <th>3</th>\n",
       "      <td>4.0</td>\n",
       "      <td>The Shawshank Redemption</td>\n",
       "      <td>(1994)</td>\n",
       "      <td>R</td>\n",
       "      <td>142 min</td>\n",
       "      <td>Drama</td>\n",
       "      <td>9.3</td>\n",
       "      <td>2,683,302</td>\n",
       "      <td>$28.34M</td>\n",
       "    </tr>\n",
       "    <tr>\n",
       "      <th>4</th>\n",
       "      <td>5.0</td>\n",
       "      <td>The Shining</td>\n",
       "      <td>(1980)</td>\n",
       "      <td>R</td>\n",
       "      <td>146 min</td>\n",
       "      <td>Drama, Horror</td>\n",
       "      <td>8.4</td>\n",
       "      <td>1,025,560</td>\n",
       "      <td>$44.02M</td>\n",
       "    </tr>\n",
       "  </tbody>\n",
       "</table>\n",
       "</div>"
      ],
      "text/plain": [
       "   index                                      movie_name year_of_release  \\\n",
       "0    1.0                                   The Godfather          (1972)   \n",
       "1    2.0                        The Silence of the Lambs          (1991)   \n",
       "2    3.0  Star Wars: Episode V - The Empire Strikes Back          (1980)   \n",
       "3    4.0                        The Shawshank Redemption          (1994)   \n",
       "4    5.0                                     The Shining          (1980)   \n",
       "\n",
       "  category run_time                       genre  imdb_rating      votes  \\\n",
       "0        R  175 min                Crime, Drama          9.2  1,860,471   \n",
       "1        R  118 min      Crime, Drama, Thriller          8.6  1,435,344   \n",
       "2       PG  124 min  Action, Adventure, Fantasy          8.7  1,294,805   \n",
       "3        R  142 min                       Drama          9.3  2,683,302   \n",
       "4        R  146 min               Drama, Horror          8.4  1,025,560   \n",
       "\n",
       "  gross_total  \n",
       "0    $134.97M  \n",
       "1    $130.74M  \n",
       "2    $290.48M  \n",
       "3     $28.34M  \n",
       "4     $44.02M  "
      ]
     },
     "execution_count": 15,
     "metadata": {},
     "output_type": "execute_result"
    }
   ],
   "source": [
    "data_movies.head() "
   ]
  },
  {
   "cell_type": "code",
   "execution_count": 16,
   "id": "9f2812dd",
   "metadata": {
    "ExecuteTime": {
     "end_time": "2023-01-29T02:58:38.668428Z",
     "start_time": "2023-01-29T02:58:38.574952Z"
    }
   },
   "outputs": [
    {
     "name": "stdout",
     "output_type": "stream",
     "text": [
      "<class 'pandas.core.frame.DataFrame'>\n",
      "RangeIndex: 99 entries, 0 to 98\n",
      "Data columns (total 9 columns):\n",
      " #   Column           Non-Null Count  Dtype  \n",
      "---  ------           --------------  -----  \n",
      " 0   index            99 non-null     float64\n",
      " 1   movie_name       99 non-null     object \n",
      " 2   year_of_release  99 non-null     object \n",
      " 3   category         99 non-null     object \n",
      " 4   run_time         99 non-null     object \n",
      " 5   genre            99 non-null     object \n",
      " 6   imdb_rating      99 non-null     float64\n",
      " 7   votes            99 non-null     object \n",
      " 8   gross_total      98 non-null     object \n",
      "dtypes: float64(2), object(7)\n",
      "memory usage: 7.1+ KB\n"
     ]
    }
   ],
   "source": [
    "data_movies.info() "
   ]
  },
  {
   "cell_type": "code",
   "execution_count": 19,
   "id": "6c06dcba",
   "metadata": {
    "ExecuteTime": {
     "end_time": "2023-01-29T02:59:46.809938Z",
     "start_time": "2023-01-29T02:59:46.798990Z"
    }
   },
   "outputs": [
    {
     "data": {
      "text/plain": [
       "dtype('O')"
      ]
     },
     "execution_count": 19,
     "metadata": {},
     "output_type": "execute_result"
    }
   ],
   "source": [
    "data_movies['movie_name'].dtype # Checking the data type"
   ]
  },
  {
   "cell_type": "code",
   "execution_count": 21,
   "id": "0681e33f",
   "metadata": {
    "ExecuteTime": {
     "end_time": "2023-01-29T03:02:12.197597Z",
     "start_time": "2023-01-29T03:02:12.194003Z"
    }
   },
   "outputs": [],
   "source": [
    "movie_names = data_movies['movie_name'].astype('string')"
   ]
  },
  {
   "cell_type": "code",
   "execution_count": 22,
   "id": "d44536e3",
   "metadata": {
    "ExecuteTime": {
     "end_time": "2023-01-29T03:02:29.638207Z",
     "start_time": "2023-01-29T03:02:29.633341Z"
    }
   },
   "outputs": [
    {
     "data": {
      "text/plain": [
       "string[python]"
      ]
     },
     "execution_count": 22,
     "metadata": {},
     "output_type": "execute_result"
    }
   ],
   "source": [
    "movie_names.dtype"
   ]
  },
  {
   "cell_type": "code",
   "execution_count": 23,
   "id": "af8469ef",
   "metadata": {
    "ExecuteTime": {
     "end_time": "2023-01-29T03:02:39.237498Z",
     "start_time": "2023-01-29T03:02:39.227632Z"
    }
   },
   "outputs": [
    {
     "data": {
      "text/plain": [
       "0                                      The Godfather\n",
       "1                           The Silence of the Lambs\n",
       "2     Star Wars: Episode V - The Empire Strikes Back\n",
       "3                           The Shawshank Redemption\n",
       "4                                        The Shining\n",
       "                           ...                      \n",
       "94                                The Usual Suspects\n",
       "95                                    Cool Hand Luke\n",
       "96             Eternal Sunshine of the Spotless Mind\n",
       "97                                       City Lights\n",
       "98                                        The Matrix\n",
       "Name: movie_name, Length: 99, dtype: string"
      ]
     },
     "execution_count": 23,
     "metadata": {},
     "output_type": "execute_result"
    }
   ],
   "source": [
    "movie_names"
   ]
  },
  {
   "cell_type": "code",
   "execution_count": null,
   "id": "8080d355",
   "metadata": {},
   "outputs": [],
   "source": [
    "# Go to any data repository\n",
    "# Get any data\n",
    "# Read the first three rows (Pandas library)\n",
    "# Take a screenshot and post it on the data science channel"
   ]
  },
  {
   "cell_type": "code",
   "execution_count": 1,
   "id": "4f6f172d",
   "metadata": {
    "ExecuteTime": {
     "end_time": "2023-01-29T02:37:41.181504Z",
     "start_time": "2023-01-29T02:37:36.337829Z"
    }
   },
   "outputs": [],
   "source": [
    "# import the pandas library\n",
    "import pandas as pd # importing the pandas module"
   ]
  },
  {
   "cell_type": "code",
   "execution_count": null,
   "id": "18da3ed3",
   "metadata": {},
   "outputs": [],
   "source": [
    "pd."
   ]
  },
  {
   "cell_type": "code",
   "execution_count": 11,
   "id": "72207139",
   "metadata": {
    "ExecuteTime": {
     "end_time": "2023-01-29T02:46:26.381161Z",
     "start_time": "2023-01-29T02:46:26.367688Z"
    }
   },
   "outputs": [],
   "source": [
    "df = pd.read_csv(\n",
    "    '/Users/pablo/Library/Mobile Documents/com~apple~CloudDocs/Documents - Peter’s MacBook Pro - 1/GitHub/AltSchool Africa/auto-mpg.data', \n",
    "    sep = '\\t',) # Read the dataset into a dataframe"
   ]
  },
  {
   "cell_type": "code",
   "execution_count": 12,
   "id": "a780bb58",
   "metadata": {
    "ExecuteTime": {
     "end_time": "2023-01-29T02:46:27.037651Z",
     "start_time": "2023-01-29T02:46:27.023542Z"
    }
   },
   "outputs": [
    {
     "data": {
      "text/html": [
       "<div>\n",
       "<style scoped>\n",
       "    .dataframe tbody tr th:only-of-type {\n",
       "        vertical-align: middle;\n",
       "    }\n",
       "\n",
       "    .dataframe tbody tr th {\n",
       "        vertical-align: top;\n",
       "    }\n",
       "\n",
       "    .dataframe thead th {\n",
       "        text-align: right;\n",
       "    }\n",
       "</style>\n",
       "<table border=\"1\" class=\"dataframe\">\n",
       "  <thead>\n",
       "    <tr style=\"text-align: right;\">\n",
       "      <th></th>\n",
       "      <th>18.0   8   307.0      130.0      3504.      12.0   70  1</th>\n",
       "      <th>chevrolet chevelle malibu</th>\n",
       "    </tr>\n",
       "  </thead>\n",
       "  <tbody>\n",
       "    <tr>\n",
       "      <th>0</th>\n",
       "      <td>15.0   8   350.0      165.0      3693.      11...</td>\n",
       "      <td>buick skylark 320</td>\n",
       "    </tr>\n",
       "    <tr>\n",
       "      <th>1</th>\n",
       "      <td>18.0   8   318.0      150.0      3436.      11...</td>\n",
       "      <td>plymouth satellite</td>\n",
       "    </tr>\n",
       "    <tr>\n",
       "      <th>2</th>\n",
       "      <td>16.0   8   304.0      150.0      3433.      12...</td>\n",
       "      <td>amc rebel sst</td>\n",
       "    </tr>\n",
       "  </tbody>\n",
       "</table>\n",
       "</div>"
      ],
      "text/plain": [
       "  18.0   8   307.0      130.0      3504.      12.0   70  1  \\\n",
       "0  15.0   8   350.0      165.0      3693.      11...         \n",
       "1  18.0   8   318.0      150.0      3436.      11...         \n",
       "2  16.0   8   304.0      150.0      3433.      12...         \n",
       "\n",
       "  chevrolet chevelle malibu  \n",
       "0         buick skylark 320  \n",
       "1        plymouth satellite  \n",
       "2             amc rebel sst  "
      ]
     },
     "execution_count": 12,
     "metadata": {},
     "output_type": "execute_result"
    }
   ],
   "source": [
    "df.head(3) # The first three rows"
   ]
  },
  {
   "cell_type": "code",
   "execution_count": 25,
   "id": "b5655b86",
   "metadata": {
    "ExecuteTime": {
     "end_time": "2023-01-29T03:03:19.727862Z",
     "start_time": "2023-01-29T03:03:19.708000Z"
    }
   },
   "outputs": [
    {
     "data": {
      "text/plain": [
       "'Peter'"
      ]
     },
     "execution_count": 25,
     "metadata": {},
     "output_type": "execute_result"
    }
   ],
   "source": [
    "name # A variable assigned the value Peter"
   ]
  },
  {
   "cell_type": "code",
   "execution_count": 32,
   "id": "612e4886",
   "metadata": {
    "ExecuteTime": {
     "end_time": "2023-01-29T03:13:16.299613Z",
     "start_time": "2023-01-29T03:13:16.292975Z"
    }
   },
   "outputs": [],
   "source": [
    "num = 5 # 5 is assigned to the variable num "
   ]
  },
  {
   "cell_type": "code",
   "execution_count": 33,
   "id": "7dc76652",
   "metadata": {
    "ExecuteTime": {
     "end_time": "2023-01-29T03:13:27.162328Z",
     "start_time": "2023-01-29T03:13:27.156691Z"
    }
   },
   "outputs": [
    {
     "data": {
      "text/plain": [
       "int"
      ]
     },
     "execution_count": 33,
     "metadata": {},
     "output_type": "execute_result"
    }
   ],
   "source": [
    "type(num) "
   ]
  },
  {
   "cell_type": "code",
   "execution_count": 34,
   "id": "503c2936",
   "metadata": {
    "ExecuteTime": {
     "end_time": "2023-01-29T03:13:42.237135Z",
     "start_time": "2023-01-29T03:13:42.178207Z"
    }
   },
   "outputs": [
    {
     "data": {
      "text/plain": [
       "['__abs__',\n",
       " '__add__',\n",
       " '__and__',\n",
       " '__bool__',\n",
       " '__ceil__',\n",
       " '__class__',\n",
       " '__delattr__',\n",
       " '__dir__',\n",
       " '__divmod__',\n",
       " '__doc__',\n",
       " '__eq__',\n",
       " '__float__',\n",
       " '__floor__',\n",
       " '__floordiv__',\n",
       " '__format__',\n",
       " '__ge__',\n",
       " '__getattribute__',\n",
       " '__getnewargs__',\n",
       " '__gt__',\n",
       " '__hash__',\n",
       " '__index__',\n",
       " '__init__',\n",
       " '__init_subclass__',\n",
       " '__int__',\n",
       " '__invert__',\n",
       " '__le__',\n",
       " '__lshift__',\n",
       " '__lt__',\n",
       " '__mod__',\n",
       " '__mul__',\n",
       " '__ne__',\n",
       " '__neg__',\n",
       " '__new__',\n",
       " '__or__',\n",
       " '__pos__',\n",
       " '__pow__',\n",
       " '__radd__',\n",
       " '__rand__',\n",
       " '__rdivmod__',\n",
       " '__reduce__',\n",
       " '__reduce_ex__',\n",
       " '__repr__',\n",
       " '__rfloordiv__',\n",
       " '__rlshift__',\n",
       " '__rmod__',\n",
       " '__rmul__',\n",
       " '__ror__',\n",
       " '__round__',\n",
       " '__rpow__',\n",
       " '__rrshift__',\n",
       " '__rshift__',\n",
       " '__rsub__',\n",
       " '__rtruediv__',\n",
       " '__rxor__',\n",
       " '__setattr__',\n",
       " '__sizeof__',\n",
       " '__str__',\n",
       " '__sub__',\n",
       " '__subclasshook__',\n",
       " '__truediv__',\n",
       " '__trunc__',\n",
       " '__xor__',\n",
       " 'as_integer_ratio',\n",
       " 'bit_length',\n",
       " 'conjugate',\n",
       " 'denominator',\n",
       " 'from_bytes',\n",
       " 'imag',\n",
       " 'numerator',\n",
       " 'real',\n",
       " 'to_bytes']"
      ]
     },
     "execution_count": 34,
     "metadata": {},
     "output_type": "execute_result"
    }
   ],
   "source": [
    "dir(num)"
   ]
  },
  {
   "cell_type": "code",
   "execution_count": 26,
   "id": "3fe25ea5",
   "metadata": {
    "ExecuteTime": {
     "end_time": "2023-01-29T03:03:56.920560Z",
     "start_time": "2023-01-29T03:03:56.911838Z"
    }
   },
   "outputs": [
    {
     "data": {
      "text/plain": [
       "['__add__',\n",
       " '__class__',\n",
       " '__contains__',\n",
       " '__delattr__',\n",
       " '__dir__',\n",
       " '__doc__',\n",
       " '__eq__',\n",
       " '__format__',\n",
       " '__ge__',\n",
       " '__getattribute__',\n",
       " '__getitem__',\n",
       " '__getnewargs__',\n",
       " '__gt__',\n",
       " '__hash__',\n",
       " '__init__',\n",
       " '__init_subclass__',\n",
       " '__iter__',\n",
       " '__le__',\n",
       " '__len__',\n",
       " '__lt__',\n",
       " '__mod__',\n",
       " '__mul__',\n",
       " '__ne__',\n",
       " '__new__',\n",
       " '__reduce__',\n",
       " '__reduce_ex__',\n",
       " '__repr__',\n",
       " '__rmod__',\n",
       " '__rmul__',\n",
       " '__setattr__',\n",
       " '__sizeof__',\n",
       " '__str__',\n",
       " '__subclasshook__',\n",
       " 'capitalize',\n",
       " 'casefold',\n",
       " 'center',\n",
       " 'count',\n",
       " 'encode',\n",
       " 'endswith',\n",
       " 'expandtabs',\n",
       " 'find',\n",
       " 'format',\n",
       " 'format_map',\n",
       " 'index',\n",
       " 'isalnum',\n",
       " 'isalpha',\n",
       " 'isascii',\n",
       " 'isdecimal',\n",
       " 'isdigit',\n",
       " 'isidentifier',\n",
       " 'islower',\n",
       " 'isnumeric',\n",
       " 'isprintable',\n",
       " 'isspace',\n",
       " 'istitle',\n",
       " 'isupper',\n",
       " 'join',\n",
       " 'ljust',\n",
       " 'lower',\n",
       " 'lstrip',\n",
       " 'maketrans',\n",
       " 'partition',\n",
       " 'removeprefix',\n",
       " 'removesuffix',\n",
       " 'replace',\n",
       " 'rfind',\n",
       " 'rindex',\n",
       " 'rjust',\n",
       " 'rpartition',\n",
       " 'rsplit',\n",
       " 'rstrip',\n",
       " 'split',\n",
       " 'splitlines',\n",
       " 'startswith',\n",
       " 'strip',\n",
       " 'swapcase',\n",
       " 'title',\n",
       " 'translate',\n",
       " 'upper',\n",
       " 'zfill']"
      ]
     },
     "execution_count": 26,
     "metadata": {},
     "output_type": "execute_result"
    }
   ],
   "source": [
    "dir(name) # a function that lists all the possibilities of a data type"
   ]
  },
  {
   "cell_type": "code",
   "execution_count": 29,
   "id": "20f14b0f",
   "metadata": {
    "ExecuteTime": {
     "end_time": "2023-01-29T03:05:39.026720Z",
     "start_time": "2023-01-29T03:05:39.011943Z"
    }
   },
   "outputs": [
    {
     "data": {
      "text/plain": [
       "'PETER'"
      ]
     },
     "execution_count": 29,
     "metadata": {},
     "output_type": "execute_result"
    }
   ],
   "source": [
    "name.upper() # Using the upper method"
   ]
  },
  {
   "cell_type": "code",
   "execution_count": 30,
   "id": "4958c49c",
   "metadata": {
    "ExecuteTime": {
     "end_time": "2023-01-29T03:11:15.956811Z",
     "start_time": "2023-01-29T03:11:15.949596Z"
    }
   },
   "outputs": [
    {
     "data": {
      "text/plain": [
       "'Peter'"
      ]
     },
     "execution_count": 30,
     "metadata": {},
     "output_type": "execute_result"
    }
   ],
   "source": [
    "# Format a string\n",
    "# f-string\n",
    "name "
   ]
  },
  {
   "cell_type": "code",
   "execution_count": 31,
   "id": "1d11b99f",
   "metadata": {
    "ExecuteTime": {
     "end_time": "2023-01-29T03:11:49.669846Z",
     "start_time": "2023-01-29T03:11:49.628751Z"
    }
   },
   "outputs": [
    {
     "name": "stdout",
     "output_type": "stream",
     "text": [
      "My name is Peter\n"
     ]
    }
   ],
   "source": [
    "print(f'My name is {name}')"
   ]
  },
  {
   "cell_type": "code",
   "execution_count": 36,
   "id": "094ccf88",
   "metadata": {
    "ExecuteTime": {
     "end_time": "2023-01-29T03:16:33.638384Z",
     "start_time": "2023-01-29T03:16:33.608103Z"
    }
   },
   "outputs": [
    {
     "name": "stdout",
     "output_type": "stream",
     "text": [
      "My name is Peter\n"
     ]
    }
   ],
   "source": [
    "# Formating using %s\n",
    "print('My name is %s'% name)"
   ]
  },
  {
   "cell_type": "code",
   "execution_count": 39,
   "id": "e7922a73",
   "metadata": {
    "ExecuteTime": {
     "end_time": "2023-01-29T03:20:19.944613Z",
     "start_time": "2023-01-29T03:20:19.892228Z"
    }
   },
   "outputs": [
    {
     "data": {
      "text/plain": [
       "'Pablo Picasso'"
      ]
     },
     "execution_count": 39,
     "metadata": {},
     "output_type": "execute_result"
    }
   ],
   "source": [
    "# String Concatenation \n",
    "first_name = 'Pablo'\n",
    "last_name = 'Picasso'\n",
    "\n",
    "first_name + \" \" + last_name "
   ]
  },
  {
   "cell_type": "code",
   "execution_count": 42,
   "id": "bd435bb3",
   "metadata": {
    "ExecuteTime": {
     "end_time": "2023-01-29T03:34:44.074245Z",
     "start_time": "2023-01-29T03:34:44.066975Z"
    }
   },
   "outputs": [
    {
     "data": {
      "text/plain": [
       "int"
      ]
     },
     "execution_count": 42,
     "metadata": {},
     "output_type": "execute_result"
    }
   ],
   "source": [
    "# str - it is used for data type conversion\n",
    "num_number = 10 \n",
    "type(num_number)"
   ]
  },
  {
   "cell_type": "code",
   "execution_count": 43,
   "id": "28dcfcfd",
   "metadata": {
    "ExecuteTime": {
     "end_time": "2023-01-29T03:35:32.872018Z",
     "start_time": "2023-01-29T03:35:32.862836Z"
    }
   },
   "outputs": [
    {
     "data": {
      "text/plain": [
       "str"
      ]
     },
     "execution_count": 43,
     "metadata": {},
     "output_type": "execute_result"
    }
   ],
   "source": [
    "num_string = str(num_number) # Converted the int to string \n",
    "type(num_string)"
   ]
  },
  {
   "cell_type": "code",
   "execution_count": 44,
   "id": "d96e7f0d",
   "metadata": {
    "ExecuteTime": {
     "end_time": "2023-01-29T03:35:45.040247Z",
     "start_time": "2023-01-29T03:35:44.985294Z"
    }
   },
   "outputs": [
    {
     "data": {
      "text/plain": [
       "'10'"
      ]
     },
     "execution_count": 44,
     "metadata": {},
     "output_type": "execute_result"
    }
   ],
   "source": [
    "num_string"
   ]
  },
  {
   "cell_type": "markdown",
   "id": "999ea110",
   "metadata": {},
   "source": [
    "### Numeric Data type"
   ]
  },
  {
   "cell_type": "code",
   "execution_count": 40,
   "id": "bf69da7e",
   "metadata": {
    "ExecuteTime": {
     "end_time": "2023-01-29T03:30:01.621931Z",
     "start_time": "2023-01-29T03:30:01.616081Z"
    }
   },
   "outputs": [],
   "source": [
    "# Int\n",
    "# Float\n",
    "# Compex"
   ]
  },
  {
   "cell_type": "code",
   "execution_count": 41,
   "id": "9365f611",
   "metadata": {
    "ExecuteTime": {
     "end_time": "2023-01-29T03:32:25.448975Z",
     "start_time": "2023-01-29T03:32:25.325898Z"
    }
   },
   "outputs": [
    {
     "data": {
      "text/plain": [
       "int"
      ]
     },
     "execution_count": 41,
     "metadata": {},
     "output_type": "execute_result"
    }
   ],
   "source": [
    "# Integers\n",
    "num = 5 # 5 is assigned to num \n",
    "type(num)"
   ]
  },
  {
   "cell_type": "code",
   "execution_count": null,
   "id": "04909762",
   "metadata": {},
   "outputs": [],
   "source": [
    "# The equal sign(the assignment operator)"
   ]
  },
  {
   "cell_type": "code",
   "execution_count": 45,
   "id": "0f046c5b",
   "metadata": {
    "ExecuteTime": {
     "end_time": "2023-01-29T03:36:42.903517Z",
     "start_time": "2023-01-29T03:36:42.896846Z"
    }
   },
   "outputs": [
    {
     "data": {
      "text/plain": [
       "'10'"
      ]
     },
     "execution_count": 45,
     "metadata": {},
     "output_type": "execute_result"
    }
   ],
   "source": [
    "num_string"
   ]
  },
  {
   "cell_type": "code",
   "execution_count": 46,
   "id": "f7d03516",
   "metadata": {
    "ExecuteTime": {
     "end_time": "2023-01-29T03:37:08.964306Z",
     "start_time": "2023-01-29T03:37:08.959447Z"
    }
   },
   "outputs": [],
   "source": [
    "# Convert num_string to int\n",
    "num_number = int(num_string)"
   ]
  },
  {
   "cell_type": "code",
   "execution_count": 47,
   "id": "fb88add0",
   "metadata": {
    "ExecuteTime": {
     "end_time": "2023-01-29T03:37:12.965294Z",
     "start_time": "2023-01-29T03:37:12.957089Z"
    }
   },
   "outputs": [
    {
     "data": {
      "text/plain": [
       "10"
      ]
     },
     "execution_count": 47,
     "metadata": {},
     "output_type": "execute_result"
    }
   ],
   "source": [
    "num_number"
   ]
  },
  {
   "cell_type": "code",
   "execution_count": 48,
   "id": "003bbb68",
   "metadata": {
    "ExecuteTime": {
     "end_time": "2023-01-29T03:38:31.797886Z",
     "start_time": "2023-01-29T03:38:31.790896Z"
    }
   },
   "outputs": [],
   "source": [
    "# Can we convert a string into an int\n",
    "str_word = 'convert'"
   ]
  },
  {
   "cell_type": "code",
   "execution_count": 49,
   "id": "ce2ca3b0",
   "metadata": {
    "ExecuteTime": {
     "end_time": "2023-01-29T03:38:44.222786Z",
     "start_time": "2023-01-29T03:38:44.216097Z"
    }
   },
   "outputs": [
    {
     "data": {
      "text/plain": [
       "str"
      ]
     },
     "execution_count": 49,
     "metadata": {},
     "output_type": "execute_result"
    }
   ],
   "source": [
    "type(str_word) "
   ]
  },
  {
   "cell_type": "code",
   "execution_count": 50,
   "id": "ec7a5f0b",
   "metadata": {
    "ExecuteTime": {
     "end_time": "2023-01-29T03:39:06.156182Z",
     "start_time": "2023-01-29T03:39:06.121284Z"
    }
   },
   "outputs": [
    {
     "ename": "ValueError",
     "evalue": "invalid literal for int() with base 10: 'convert'",
     "output_type": "error",
     "traceback": [
      "\u001b[0;31m---------------------------------------------------------------------------\u001b[0m",
      "\u001b[0;31mValueError\u001b[0m                                Traceback (most recent call last)",
      "\u001b[0;32m/var/folders/sj/vpbs2tm52r3gw6r1vgvt92200000gn/T/ipykernel_17357/2561489719.py\u001b[0m in \u001b[0;36m<module>\u001b[0;34m\u001b[0m\n\u001b[0;32m----> 1\u001b[0;31m \u001b[0mstr_num\u001b[0m \u001b[0;34m=\u001b[0m \u001b[0mint\u001b[0m\u001b[0;34m(\u001b[0m\u001b[0mstr_word\u001b[0m\u001b[0;34m)\u001b[0m\u001b[0;34m\u001b[0m\u001b[0;34m\u001b[0m\u001b[0m\n\u001b[0m",
      "\u001b[0;31mValueError\u001b[0m: invalid literal for int() with base 10: 'convert'"
     ]
    }
   ],
   "source": [
    "str_num = int(str_word)"
   ]
  },
  {
   "cell_type": "code",
   "execution_count": 51,
   "id": "0d55f678",
   "metadata": {
    "ExecuteTime": {
     "end_time": "2023-01-29T03:41:09.636389Z",
     "start_time": "2023-01-29T03:41:09.620751Z"
    }
   },
   "outputs": [
    {
     "data": {
      "text/plain": [
       "float"
      ]
     },
     "execution_count": 51,
     "metadata": {},
     "output_type": "execute_result"
    }
   ],
   "source": [
    "# Floats\n",
    "# Are integers with decimal points\n",
    "fl_num = 10.4 \n",
    "type(fl_num)"
   ]
  },
  {
   "cell_type": "code",
   "execution_count": 52,
   "id": "fc0a8869",
   "metadata": {
    "ExecuteTime": {
     "end_time": "2023-01-29T03:43:27.569355Z",
     "start_time": "2023-01-29T03:43:27.545438Z"
    }
   },
   "outputs": [],
   "source": [
    "# A string can be converted to a float\n",
    "str_float = \"20.5\" # a string"
   ]
  },
  {
   "cell_type": "code",
   "execution_count": 53,
   "id": "7bc98166",
   "metadata": {
    "ExecuteTime": {
     "end_time": "2023-01-29T03:44:02.545950Z",
     "start_time": "2023-01-29T03:44:02.529953Z"
    }
   },
   "outputs": [
    {
     "data": {
      "text/plain": [
       "str"
      ]
     },
     "execution_count": 53,
     "metadata": {},
     "output_type": "execute_result"
    }
   ],
   "source": [
    "type(str_float)"
   ]
  },
  {
   "cell_type": "code",
   "execution_count": 54,
   "id": "64be9956",
   "metadata": {
    "ExecuteTime": {
     "end_time": "2023-01-29T03:44:51.520739Z",
     "start_time": "2023-01-29T03:44:51.507416Z"
    }
   },
   "outputs": [],
   "source": [
    "float_str = float(str_float) # converting a string to floats"
   ]
  },
  {
   "cell_type": "code",
   "execution_count": 56,
   "id": "0c190a25",
   "metadata": {
    "ExecuteTime": {
     "end_time": "2023-01-29T03:45:22.618341Z",
     "start_time": "2023-01-29T03:45:22.610676Z"
    }
   },
   "outputs": [
    {
     "data": {
      "text/plain": [
       "20.5"
      ]
     },
     "execution_count": 56,
     "metadata": {},
     "output_type": "execute_result"
    }
   ],
   "source": [
    "float_str # The converted string"
   ]
  },
  {
   "cell_type": "code",
   "execution_count": 57,
   "id": "deb55cd7",
   "metadata": {
    "ExecuteTime": {
     "end_time": "2023-01-29T03:48:44.857235Z",
     "start_time": "2023-01-29T03:48:44.851143Z"
    }
   },
   "outputs": [],
   "source": [
    "# Complex numbers \n",
    "# Has a real and an imaginary part\n",
    "num_complex = 3 + 4j "
   ]
  },
  {
   "cell_type": "code",
   "execution_count": 58,
   "id": "9c991592",
   "metadata": {
    "ExecuteTime": {
     "end_time": "2023-01-29T03:48:54.679735Z",
     "start_time": "2023-01-29T03:48:54.667851Z"
    }
   },
   "outputs": [
    {
     "data": {
      "text/plain": [
       "complex"
      ]
     },
     "execution_count": 58,
     "metadata": {},
     "output_type": "execute_result"
    }
   ],
   "source": [
    "type(num_complex)"
   ]
  },
  {
   "cell_type": "code",
   "execution_count": 59,
   "id": "305792e0",
   "metadata": {
    "ExecuteTime": {
     "end_time": "2023-01-29T03:49:15.785395Z",
     "start_time": "2023-01-29T03:49:15.752538Z"
    }
   },
   "outputs": [
    {
     "data": {
      "text/plain": [
       "3.0"
      ]
     },
     "execution_count": 59,
     "metadata": {},
     "output_type": "execute_result"
    }
   ],
   "source": [
    "num_complex.real # Showing the real number"
   ]
  },
  {
   "cell_type": "code",
   "execution_count": 60,
   "id": "d2dc4d1d",
   "metadata": {
    "ExecuteTime": {
     "end_time": "2023-01-29T03:49:43.179941Z",
     "start_time": "2023-01-29T03:49:43.154165Z"
    }
   },
   "outputs": [
    {
     "data": {
      "text/plain": [
       "4.0"
      ]
     },
     "execution_count": 60,
     "metadata": {},
     "output_type": "execute_result"
    }
   ],
   "source": [
    "num_complex.imag"
   ]
  },
  {
   "cell_type": "code",
   "execution_count": null,
   "id": "84730b1a",
   "metadata": {},
   "outputs": [],
   "source": [
    "# Numerical Operation\n",
    "# +, -, *, /, %, //"
   ]
  },
  {
   "cell_type": "code",
   "execution_count": null,
   "id": "e70d55b9",
   "metadata": {},
   "outputs": [],
   "source": [
    "4 + 5\n",
    "4 - 5\n",
    "4 * 5\n",
    "4 / 5\n",
    "5 % 4 \n",
    "5 // 4"
   ]
  },
  {
   "cell_type": "code",
   "execution_count": 61,
   "id": "9af6cbed",
   "metadata": {
    "ExecuteTime": {
     "end_time": "2023-01-29T03:55:09.734457Z",
     "start_time": "2023-01-29T03:55:09.727181Z"
    }
   },
   "outputs": [
    {
     "data": {
      "text/plain": [
       "9"
      ]
     },
     "execution_count": 61,
     "metadata": {},
     "output_type": "execute_result"
    }
   ],
   "source": [
    "4 + 5 # Addition"
   ]
  },
  {
   "cell_type": "code",
   "execution_count": 62,
   "id": "1cbe5201",
   "metadata": {
    "ExecuteTime": {
     "end_time": "2023-01-29T03:55:18.244411Z",
     "start_time": "2023-01-29T03:55:18.226334Z"
    }
   },
   "outputs": [
    {
     "data": {
      "text/plain": [
       "-1"
      ]
     },
     "execution_count": 62,
     "metadata": {},
     "output_type": "execute_result"
    }
   ],
   "source": [
    "4 - 5 # Subtraction"
   ]
  },
  {
   "cell_type": "code",
   "execution_count": 63,
   "id": "c22de27c",
   "metadata": {
    "ExecuteTime": {
     "end_time": "2023-01-29T03:55:27.749233Z",
     "start_time": "2023-01-29T03:55:27.729458Z"
    }
   },
   "outputs": [
    {
     "data": {
      "text/plain": [
       "20"
      ]
     },
     "execution_count": 63,
     "metadata": {},
     "output_type": "execute_result"
    }
   ],
   "source": [
    "4 * 5 # Multiplication"
   ]
  },
  {
   "cell_type": "code",
   "execution_count": 71,
   "id": "329f344f",
   "metadata": {
    "ExecuteTime": {
     "end_time": "2023-01-29T03:58:16.627117Z",
     "start_time": "2023-01-29T03:58:16.611232Z"
    }
   },
   "outputs": [
    {
     "data": {
      "text/plain": [
       "0.6666666666666666"
      ]
     },
     "execution_count": 71,
     "metadata": {},
     "output_type": "execute_result"
    }
   ],
   "source": [
    "4 / 6 # Division"
   ]
  },
  {
   "cell_type": "code",
   "execution_count": 65,
   "id": "c34e7b93",
   "metadata": {
    "ExecuteTime": {
     "end_time": "2023-01-29T03:55:47.351562Z",
     "start_time": "2023-01-29T03:55:47.306446Z"
    }
   },
   "outputs": [
    {
     "data": {
      "text/plain": [
       "1"
      ]
     },
     "execution_count": 65,
     "metadata": {},
     "output_type": "execute_result"
    }
   ],
   "source": [
    "5 % 4 # Finding the remainder after dividing"
   ]
  },
  {
   "cell_type": "code",
   "execution_count": 77,
   "id": "069e4e51",
   "metadata": {
    "ExecuteTime": {
     "end_time": "2023-01-29T04:05:49.056077Z",
     "start_time": "2023-01-29T04:05:49.048397Z"
    }
   },
   "outputs": [
    {
     "data": {
      "text/plain": [
       "5"
      ]
     },
     "execution_count": 77,
     "metadata": {},
     "output_type": "execute_result"
    }
   ],
   "source": [
    "5 // 1 # Divides but rounds to the closest whole number"
   ]
  },
  {
   "cell_type": "code",
   "execution_count": null,
   "id": "b169e098",
   "metadata": {},
   "outputs": [],
   "source": []
  },
  {
   "cell_type": "code",
   "execution_count": 72,
   "id": "c5e6738d",
   "metadata": {
    "ExecuteTime": {
     "end_time": "2023-01-29T03:59:51.099620Z",
     "start_time": "2023-01-29T03:59:51.094365Z"
    }
   },
   "outputs": [],
   "source": [
    "# Augmented Assignment\n",
    "x = 5 "
   ]
  },
  {
   "cell_type": "code",
   "execution_count": 73,
   "id": "01284d51",
   "metadata": {
    "ExecuteTime": {
     "end_time": "2023-01-29T04:00:36.410865Z",
     "start_time": "2023-01-29T04:00:36.333656Z"
    }
   },
   "outputs": [
    {
     "data": {
      "text/plain": [
       "7"
      ]
     },
     "execution_count": 73,
     "metadata": {},
     "output_type": "execute_result"
    }
   ],
   "source": [
    "x = 5 + 2 \n",
    "x"
   ]
  },
  {
   "cell_type": "code",
   "execution_count": 74,
   "id": "17fb242c",
   "metadata": {
    "ExecuteTime": {
     "end_time": "2023-01-29T04:01:18.163688Z",
     "start_time": "2023-01-29T04:01:18.154551Z"
    }
   },
   "outputs": [
    {
     "data": {
      "text/plain": [
       "7"
      ]
     },
     "execution_count": 74,
     "metadata": {},
     "output_type": "execute_result"
    }
   ],
   "source": [
    "# Augment\n",
    "x = 5\n",
    "x += 2\n",
    "x "
   ]
  },
  {
   "cell_type": "markdown",
   "id": "96d4d936",
   "metadata": {},
   "source": [
    "### Review Meeting"
   ]
  },
  {
   "cell_type": "code",
   "execution_count": 1,
   "id": "1925526f",
   "metadata": {
    "ExecuteTime": {
     "end_time": "2023-02-01T17:44:45.136504Z",
     "start_time": "2023-02-01T17:44:45.127716Z"
    }
   },
   "outputs": [],
   "source": [
    "# f-string - Makes values readable\n",
    "player = \"Enzo\""
   ]
  },
  {
   "cell_type": "code",
   "execution_count": 3,
   "id": "6b857387",
   "metadata": {
    "ExecuteTime": {
     "end_time": "2023-02-01T17:48:05.483918Z",
     "start_time": "2023-02-01T17:48:05.465233Z"
    }
   },
   "outputs": [
    {
     "name": "stdout",
     "output_type": "stream",
     "text": [
      "Enzo!!!!!! The most explensive football player in the planet\n"
     ]
    }
   ],
   "source": [
    "print(f\"{player}!!!!!! The most explensive football player in the planet\")"
   ]
  },
  {
   "cell_type": "code",
   "execution_count": 5,
   "id": "3c3af975",
   "metadata": {
    "ExecuteTime": {
     "end_time": "2023-02-01T17:49:55.724290Z",
     "start_time": "2023-02-01T17:49:55.621659Z"
    }
   },
   "outputs": [
    {
     "name": "stdout",
     "output_type": "stream",
     "text": [
      "The most expensive player on earth is Enzo\n"
     ]
    }
   ],
   "source": [
    "# Using %s\n",
    "print(\"The most expensive player on earth is %s\" % player)"
   ]
  },
  {
   "cell_type": "markdown",
   "id": "80c594f3",
   "metadata": {},
   "source": [
    "### Lists"
   ]
  },
  {
   "cell_type": "code",
   "execution_count": 1,
   "id": "9ca634d6",
   "metadata": {
    "ExecuteTime": {
     "end_time": "2023-02-04T17:20:56.030509Z",
     "start_time": "2023-02-04T17:20:56.026509Z"
    }
   },
   "outputs": [],
   "source": [
    "# Elements - Popular term that I'll be using\n",
    "# Items - Popular term that I'll be using "
   ]
  },
  {
   "cell_type": "code",
   "execution_count": 2,
   "id": "4fadfd6c",
   "metadata": {
    "ExecuteTime": {
     "end_time": "2023-02-04T17:28:01.731678Z",
     "start_time": "2023-02-04T17:28:01.729095Z"
    }
   },
   "outputs": [],
   "source": [
    "# List lets you store information. \n",
    "# You can also retrieve information from lists\n",
    "# Inside a list, there can be different data types\n",
    "# I can refer to a list as a collection\n",
    "# A list is known for being inside a square bracket []\n",
    "# A list can be separated by commas"
   ]
  },
  {
   "cell_type": "code",
   "execution_count": 3,
   "id": "963647a3",
   "metadata": {
    "ExecuteTime": {
     "end_time": "2023-02-04T17:28:03.094493Z",
     "start_time": "2023-02-04T17:28:03.090643Z"
    }
   },
   "outputs": [],
   "source": [
    "# Create a list\n",
    "class_names = ['Pablo', 27, 'Adeolu', 'Dara', 'Victor', 'Esther', 'Miriam', 'Trevor', False]"
   ]
  },
  {
   "cell_type": "code",
   "execution_count": 4,
   "id": "38c40980",
   "metadata": {
    "ExecuteTime": {
     "end_time": "2023-02-04T17:28:04.261476Z",
     "start_time": "2023-02-04T17:28:04.251972Z"
    }
   },
   "outputs": [
    {
     "name": "stdout",
     "output_type": "stream",
     "text": [
      "['Pablo', 27, 'Adeolu', 'Dara', 'Victor', 'Esther', 'Miriam', 'Trevor', False]\n"
     ]
    }
   ],
   "source": [
    "print(class_names)"
   ]
  },
  {
   "cell_type": "code",
   "execution_count": 5,
   "id": "51d443ef",
   "metadata": {
    "ExecuteTime": {
     "end_time": "2023-02-04T17:28:04.907216Z",
     "start_time": "2023-02-04T17:28:04.891459Z"
    }
   },
   "outputs": [
    {
     "data": {
      "text/plain": [
       "list"
      ]
     },
     "execution_count": 5,
     "metadata": {},
     "output_type": "execute_result"
    }
   ],
   "source": [
    "type(class_names)"
   ]
  },
  {
   "cell_type": "code",
   "execution_count": 6,
   "id": "2948febf",
   "metadata": {
    "ExecuteTime": {
     "end_time": "2023-02-04T17:28:05.619874Z",
     "start_time": "2023-02-04T17:28:05.615716Z"
    }
   },
   "outputs": [],
   "source": [
    "letters = 'This class is amazing' # a string assigned to letters"
   ]
  },
  {
   "cell_type": "code",
   "execution_count": 7,
   "id": "cb2721eb",
   "metadata": {
    "ExecuteTime": {
     "end_time": "2023-02-04T17:28:06.375992Z",
     "start_time": "2023-02-04T17:28:06.367441Z"
    }
   },
   "outputs": [
    {
     "data": {
      "text/plain": [
       "str"
      ]
     },
     "execution_count": 7,
     "metadata": {},
     "output_type": "execute_result"
    }
   ],
   "source": [
    "type(letters)"
   ]
  },
  {
   "cell_type": "code",
   "execution_count": 8,
   "id": "59e202c3",
   "metadata": {
    "ExecuteTime": {
     "end_time": "2023-02-04T17:28:06.835347Z",
     "start_time": "2023-02-04T17:28:06.817488Z"
    }
   },
   "outputs": [],
   "source": [
    "# Introduce the list function\n",
    "list_letters = list(letters)"
   ]
  },
  {
   "cell_type": "code",
   "execution_count": 9,
   "id": "29576fd3",
   "metadata": {
    "ExecuteTime": {
     "end_time": "2023-02-04T17:28:07.181715Z",
     "start_time": "2023-02-04T17:28:07.176605Z"
    }
   },
   "outputs": [
    {
     "name": "stdout",
     "output_type": "stream",
     "text": [
      "['T', 'h', 'i', 's', ' ', 'c', 'l', 'a', 's', 's', ' ', 'i', 's', ' ', 'a', 'm', 'a', 'z', 'i', 'n', 'g']\n"
     ]
    }
   ],
   "source": [
    "print(list_letters)"
   ]
  },
  {
   "cell_type": "code",
   "execution_count": 10,
   "id": "77da328c",
   "metadata": {
    "ExecuteTime": {
     "end_time": "2023-02-04T17:28:07.566198Z",
     "start_time": "2023-02-04T17:28:07.557726Z"
    }
   },
   "outputs": [
    {
     "data": {
      "text/plain": [
       "['__add__',\n",
       " '__class__',\n",
       " '__class_getitem__',\n",
       " '__contains__',\n",
       " '__delattr__',\n",
       " '__delitem__',\n",
       " '__dir__',\n",
       " '__doc__',\n",
       " '__eq__',\n",
       " '__format__',\n",
       " '__ge__',\n",
       " '__getattribute__',\n",
       " '__getitem__',\n",
       " '__gt__',\n",
       " '__hash__',\n",
       " '__iadd__',\n",
       " '__imul__',\n",
       " '__init__',\n",
       " '__init_subclass__',\n",
       " '__iter__',\n",
       " '__le__',\n",
       " '__len__',\n",
       " '__lt__',\n",
       " '__mul__',\n",
       " '__ne__',\n",
       " '__new__',\n",
       " '__reduce__',\n",
       " '__reduce_ex__',\n",
       " '__repr__',\n",
       " '__reversed__',\n",
       " '__rmul__',\n",
       " '__setattr__',\n",
       " '__setitem__',\n",
       " '__sizeof__',\n",
       " '__str__',\n",
       " '__subclasshook__',\n",
       " 'append',\n",
       " 'clear',\n",
       " 'copy',\n",
       " 'count',\n",
       " 'extend',\n",
       " 'index',\n",
       " 'insert',\n",
       " 'pop',\n",
       " 'remove',\n",
       " 'reverse',\n",
       " 'sort']"
      ]
     },
     "execution_count": 10,
     "metadata": {},
     "output_type": "execute_result"
    }
   ],
   "source": [
    "dir(class_names)"
   ]
  },
  {
   "cell_type": "code",
   "execution_count": 11,
   "id": "37e3bb2f",
   "metadata": {
    "ExecuteTime": {
     "end_time": "2023-02-04T17:28:07.932459Z",
     "start_time": "2023-02-04T17:28:07.928378Z"
    }
   },
   "outputs": [],
   "source": [
    "# These numberings/Sequences/Indexes...start from 0"
   ]
  },
  {
   "cell_type": "markdown",
   "id": "930cdc99",
   "metadata": {},
   "source": [
    "### Accessing lists/ List methods"
   ]
  },
  {
   "cell_type": "code",
   "execution_count": 12,
   "id": "725e85be",
   "metadata": {
    "ExecuteTime": {
     "end_time": "2023-02-04T17:28:09.001727Z",
     "start_time": "2023-02-04T17:28:08.979408Z"
    }
   },
   "outputs": [
    {
     "data": {
      "text/plain": [
       "['Pablo', 27, 'Adeolu', 'Dara', 'Victor', 'Esther', 'Miriam', 'Trevor', False]"
      ]
     },
     "execution_count": 12,
     "metadata": {},
     "output_type": "execute_result"
    }
   ],
   "source": [
    "class_names"
   ]
  },
  {
   "cell_type": "code",
   "execution_count": 13,
   "id": "5c8de141",
   "metadata": {
    "ExecuteTime": {
     "end_time": "2023-02-04T17:28:09.397007Z",
     "start_time": "2023-02-04T17:28:09.391726Z"
    }
   },
   "outputs": [
    {
     "name": "stdout",
     "output_type": "stream",
     "text": [
      "Dara\n"
     ]
    }
   ],
   "source": [
    "print(class_names[3]) # Accessing element(s) in a list using index"
   ]
  },
  {
   "cell_type": "code",
   "execution_count": 14,
   "id": "d2bed3c1",
   "metadata": {
    "ExecuteTime": {
     "end_time": "2023-02-04T17:28:09.685366Z",
     "start_time": "2023-02-04T17:28:09.678529Z"
    }
   },
   "outputs": [
    {
     "name": "stdout",
     "output_type": "stream",
     "text": [
      "Miriam\n"
     ]
    }
   ],
   "source": [
    "print(class_names[-3])"
   ]
  },
  {
   "cell_type": "code",
   "execution_count": 15,
   "id": "649b8a58",
   "metadata": {
    "ExecuteTime": {
     "end_time": "2023-02-04T17:28:10.153593Z",
     "start_time": "2023-02-04T17:28:10.148802Z"
    }
   },
   "outputs": [
    {
     "name": "stdout",
     "output_type": "stream",
     "text": [
      "Miriam is one of the females in the live class\n"
     ]
    }
   ],
   "source": [
    "# You things all in together\n",
    "print(f\"{class_names[-3]} is one of the females in the live class\")"
   ]
  },
  {
   "cell_type": "code",
   "execution_count": 16,
   "id": "5222236b",
   "metadata": {
    "ExecuteTime": {
     "end_time": "2023-02-04T17:28:10.898690Z",
     "start_time": "2023-02-04T17:28:10.565214Z"
    }
   },
   "outputs": [
    {
     "ename": "IndexError",
     "evalue": "list index out of range",
     "output_type": "error",
     "traceback": [
      "\u001b[0;31m---------------------------------------------------------------------------\u001b[0m",
      "\u001b[0;31mIndexError\u001b[0m                                Traceback (most recent call last)",
      "\u001b[0;32m/var/folders/sj/vpbs2tm52r3gw6r1vgvt92200000gn/T/ipykernel_43562/1197544452.py\u001b[0m in \u001b[0;36m<module>\u001b[0;34m\u001b[0m\n\u001b[1;32m      1\u001b[0m \u001b[0;31m# Possible index error for lists\u001b[0m\u001b[0;34m\u001b[0m\u001b[0;34m\u001b[0m\u001b[0m\n\u001b[0;32m----> 2\u001b[0;31m \u001b[0mclass_names\u001b[0m\u001b[0;34m[\u001b[0m\u001b[0;36m14\u001b[0m\u001b[0;34m]\u001b[0m\u001b[0;34m\u001b[0m\u001b[0;34m\u001b[0m\u001b[0m\n\u001b[0m",
      "\u001b[0;31mIndexError\u001b[0m: list index out of range"
     ]
    }
   ],
   "source": [
    "# Possible index error for lists\n",
    "class_names[14]"
   ]
  },
  {
   "cell_type": "code",
   "execution_count": 17,
   "id": "e074f08a",
   "metadata": {
    "ExecuteTime": {
     "end_time": "2023-02-04T17:30:36.038032Z",
     "start_time": "2023-02-04T17:30:36.029255Z"
    }
   },
   "outputs": [
    {
     "data": {
      "text/plain": [
       "['Pablo', 27, 'Adeolu', 'Dara', 'Victor', 'Esther', 'Miriam', 'Trevor', False]"
      ]
     },
     "execution_count": 17,
     "metadata": {},
     "output_type": "execute_result"
    }
   ],
   "source": [
    "# The current list\n",
    "class_names "
   ]
  },
  {
   "cell_type": "code",
   "execution_count": 18,
   "id": "f270eb26",
   "metadata": {
    "ExecuteTime": {
     "end_time": "2023-02-04T17:32:56.613093Z",
     "start_time": "2023-02-04T17:32:56.608659Z"
    }
   },
   "outputs": [],
   "source": [
    "# Modify the list\n",
    "class_names[1] = 'Yomi'"
   ]
  },
  {
   "cell_type": "code",
   "execution_count": 20,
   "id": "a77532bf",
   "metadata": {
    "ExecuteTime": {
     "end_time": "2023-02-04T17:33:38.673999Z",
     "start_time": "2023-02-04T17:33:38.668847Z"
    }
   },
   "outputs": [
    {
     "name": "stdout",
     "output_type": "stream",
     "text": [
      "['Pablo', 'Yomi', 'Adeolu', 'Dara', 'Victor', 'Esther', 'Miriam', 'Trevor', False]\n"
     ]
    }
   ],
   "source": [
    "# The current list\n",
    "print(class_names)"
   ]
  },
  {
   "cell_type": "code",
   "execution_count": 21,
   "id": "1daa538f",
   "metadata": {
    "ExecuteTime": {
     "end_time": "2023-02-04T17:35:00.661602Z",
     "start_time": "2023-02-04T17:35:00.655013Z"
    }
   },
   "outputs": [],
   "source": [
    "# Modify the list again\n",
    "class_names[-1] = 'Oladayo'"
   ]
  },
  {
   "cell_type": "code",
   "execution_count": 22,
   "id": "a16284b7",
   "metadata": {
    "ExecuteTime": {
     "end_time": "2023-02-04T17:35:09.806330Z",
     "start_time": "2023-02-04T17:35:09.798881Z"
    }
   },
   "outputs": [
    {
     "name": "stdout",
     "output_type": "stream",
     "text": [
      "['Pablo', 'Yomi', 'Adeolu', 'Dara', 'Victor', 'Esther', 'Miriam', 'Trevor', 'Oladayo']\n"
     ]
    }
   ],
   "source": [
    "print(class_names)"
   ]
  },
  {
   "cell_type": "code",
   "execution_count": 24,
   "id": "7cc5129c",
   "metadata": {
    "ExecuteTime": {
     "end_time": "2023-02-04T17:39:53.748324Z",
     "start_time": "2023-02-04T17:39:53.732590Z"
    }
   },
   "outputs": [
    {
     "name": "stdout",
     "output_type": "stream",
     "text": [
      "Yomi\n"
     ]
    }
   ],
   "source": [
    "print(class_names[1])"
   ]
  },
  {
   "cell_type": "code",
   "execution_count": 25,
   "id": "2968259c",
   "metadata": {
    "ExecuteTime": {
     "end_time": "2023-02-04T17:41:10.251515Z",
     "start_time": "2023-02-04T17:41:10.208728Z"
    }
   },
   "outputs": [
    {
     "name": "stdout",
     "output_type": "stream",
     "text": [
      "Oladayo\n"
     ]
    }
   ],
   "source": [
    "print(class_names[-1])"
   ]
  },
  {
   "cell_type": "code",
   "execution_count": 26,
   "id": "fda86458",
   "metadata": {
    "ExecuteTime": {
     "end_time": "2023-02-04T17:42:56.558220Z",
     "start_time": "2023-02-04T17:42:56.551076Z"
    }
   },
   "outputs": [
    {
     "name": "stdout",
     "output_type": "stream",
     "text": [
      "Oladayo\n"
     ]
    }
   ],
   "source": [
    "print(class_names[8])"
   ]
  },
  {
   "cell_type": "code",
   "execution_count": 27,
   "id": "0db0f796",
   "metadata": {
    "ExecuteTime": {
     "end_time": "2023-02-04T17:43:20.283186Z",
     "start_time": "2023-02-04T17:43:20.275515Z"
    }
   },
   "outputs": [],
   "source": [
    "# Adding to a list\n",
    "class_names.append('Rosemary')"
   ]
  },
  {
   "cell_type": "code",
   "execution_count": 28,
   "id": "91a2e272",
   "metadata": {
    "ExecuteTime": {
     "end_time": "2023-02-04T17:43:29.037257Z",
     "start_time": "2023-02-04T17:43:29.030513Z"
    }
   },
   "outputs": [
    {
     "name": "stdout",
     "output_type": "stream",
     "text": [
      "['Pablo', 'Yomi', 'Adeolu', 'Dara', 'Victor', 'Esther', 'Miriam', 'Trevor', 'Oladayo', 'Rosemary']\n"
     ]
    }
   ],
   "source": [
    "# The current list\n",
    "print(class_names)"
   ]
  },
  {
   "cell_type": "code",
   "execution_count": 29,
   "id": "83869e69",
   "metadata": {
    "ExecuteTime": {
     "end_time": "2023-02-04T17:45:30.510382Z",
     "start_time": "2023-02-04T17:45:30.502479Z"
    }
   },
   "outputs": [],
   "source": [
    "# Another way to create a list\n",
    "# Initialize an empty list \n",
    "class_lastnames = []"
   ]
  },
  {
   "cell_type": "code",
   "execution_count": 30,
   "id": "d3938be2",
   "metadata": {
    "ExecuteTime": {
     "end_time": "2023-02-04T17:45:42.418738Z",
     "start_time": "2023-02-04T17:45:42.411819Z"
    }
   },
   "outputs": [
    {
     "name": "stdout",
     "output_type": "stream",
     "text": [
      "[]\n"
     ]
    }
   ],
   "source": [
    "print(class_lastnames)"
   ]
  },
  {
   "cell_type": "code",
   "execution_count": 31,
   "id": "05276291",
   "metadata": {
    "ExecuteTime": {
     "end_time": "2023-02-04T17:46:36.894963Z",
     "start_time": "2023-02-04T17:46:36.887828Z"
    }
   },
   "outputs": [],
   "source": [
    "# Add to the list\n",
    "class_lastnames.append('Oluwatuyi')"
   ]
  },
  {
   "cell_type": "code",
   "execution_count": 32,
   "id": "427a65ec",
   "metadata": {
    "ExecuteTime": {
     "end_time": "2023-02-04T17:46:59.457606Z",
     "start_time": "2023-02-04T17:46:59.431425Z"
    }
   },
   "outputs": [
    {
     "name": "stdout",
     "output_type": "stream",
     "text": [
      "['Oluwatuyi']\n"
     ]
    }
   ],
   "source": [
    "# The latest list\n",
    "print(class_lastnames)"
   ]
  },
  {
   "cell_type": "code",
   "execution_count": 33,
   "id": "3a08f980",
   "metadata": {
    "ExecuteTime": {
     "end_time": "2023-02-04T17:50:40.438796Z",
     "start_time": "2023-02-04T17:50:40.433181Z"
    }
   },
   "outputs": [
    {
     "name": "stdout",
     "output_type": "stream",
     "text": [
      "['Pablo', 'Yomi', 'Adeolu', 'Dara', 'Victor', 'Esther', 'Miriam', 'Trevor', 'Oladayo', 'Rosemary']\n"
     ]
    }
   ],
   "source": [
    "print(class_names)"
   ]
  },
  {
   "cell_type": "code",
   "execution_count": 34,
   "id": "446ec8a2",
   "metadata": {
    "ExecuteTime": {
     "end_time": "2023-02-04T17:52:29.055861Z",
     "start_time": "2023-02-04T17:52:29.014992Z"
    }
   },
   "outputs": [],
   "source": [
    "# Add to a list but we want to determine the position of the element\n",
    "class_names.insert(4, 'Ayodele')"
   ]
  },
  {
   "cell_type": "code",
   "execution_count": 35,
   "id": "bf0b3f27",
   "metadata": {
    "ExecuteTime": {
     "end_time": "2023-02-04T17:52:37.432006Z",
     "start_time": "2023-02-04T17:52:37.425492Z"
    }
   },
   "outputs": [
    {
     "name": "stdout",
     "output_type": "stream",
     "text": [
      "['Pablo', 'Yomi', 'Adeolu', 'Dara', 'Ayodele', 'Victor', 'Esther', 'Miriam', 'Trevor', 'Oladayo', 'Rosemary']\n"
     ]
    }
   ],
   "source": [
    "print(class_names)"
   ]
  },
  {
   "cell_type": "code",
   "execution_count": 36,
   "id": "446eea6f",
   "metadata": {
    "ExecuteTime": {
     "end_time": "2023-02-04T17:53:23.253294Z",
     "start_time": "2023-02-04T17:53:23.243314Z"
    }
   },
   "outputs": [
    {
     "data": {
      "text/plain": [
       "['Oluwatuyi']"
      ]
     },
     "execution_count": 36,
     "metadata": {},
     "output_type": "execute_result"
    }
   ],
   "source": [
    "class_lastnames"
   ]
  },
  {
   "cell_type": "code",
   "execution_count": 37,
   "id": "22c90d64",
   "metadata": {
    "ExecuteTime": {
     "end_time": "2023-02-04T17:53:51.216512Z",
     "start_time": "2023-02-04T17:53:51.211360Z"
    }
   },
   "outputs": [],
   "source": [
    "class_lastnames.insert(0, 'Osho')"
   ]
  },
  {
   "cell_type": "code",
   "execution_count": 38,
   "id": "12ccd984",
   "metadata": {
    "ExecuteTime": {
     "end_time": "2023-02-04T17:54:01.215331Z",
     "start_time": "2023-02-04T17:54:01.194767Z"
    }
   },
   "outputs": [
    {
     "name": "stdout",
     "output_type": "stream",
     "text": [
      "['Osho', 'Oluwatuyi']\n"
     ]
    }
   ],
   "source": [
    "print(class_lastnames)"
   ]
  },
  {
   "cell_type": "code",
   "execution_count": 39,
   "id": "c6af5ed2",
   "metadata": {
    "ExecuteTime": {
     "end_time": "2023-02-04T17:57:45.470032Z",
     "start_time": "2023-02-04T17:57:45.464902Z"
    }
   },
   "outputs": [],
   "source": [
    "# delete from a list\n",
    "# Delete using del because you know the index you want removed\n",
    "del class_names[0]"
   ]
  },
  {
   "cell_type": "code",
   "execution_count": 40,
   "id": "69ec883d",
   "metadata": {
    "ExecuteTime": {
     "end_time": "2023-02-04T17:57:54.821580Z",
     "start_time": "2023-02-04T17:57:54.812493Z"
    }
   },
   "outputs": [
    {
     "name": "stdout",
     "output_type": "stream",
     "text": [
      "['Yomi', 'Adeolu', 'Dara', 'Ayodele', 'Victor', 'Esther', 'Miriam', 'Trevor', 'Oladayo', 'Rosemary']\n"
     ]
    }
   ],
   "source": [
    "print(class_names)"
   ]
  },
  {
   "cell_type": "code",
   "execution_count": 41,
   "id": "dacd6aea",
   "metadata": {
    "ExecuteTime": {
     "end_time": "2023-02-04T18:03:14.918010Z",
     "start_time": "2023-02-04T18:03:14.902726Z"
    }
   },
   "outputs": [],
   "source": [
    "# Delete using pop\n",
    "# Pop removes the last element in the list\n",
    "# Pop will store the element removed in a variable\n",
    "unavailable_names = class_names.pop()"
   ]
  },
  {
   "cell_type": "code",
   "execution_count": 42,
   "id": "b9550203",
   "metadata": {
    "ExecuteTime": {
     "end_time": "2023-02-04T18:03:28.652175Z",
     "start_time": "2023-02-04T18:03:28.645558Z"
    }
   },
   "outputs": [
    {
     "name": "stdout",
     "output_type": "stream",
     "text": [
      "['Yomi', 'Adeolu', 'Dara', 'Ayodele', 'Victor', 'Esther', 'Miriam', 'Trevor', 'Oladayo']\n"
     ]
    }
   ],
   "source": [
    "print(class_names)"
   ]
  },
  {
   "cell_type": "code",
   "execution_count": 43,
   "id": "f4335d74",
   "metadata": {
    "ExecuteTime": {
     "end_time": "2023-02-04T18:03:59.522804Z",
     "start_time": "2023-02-04T18:03:59.515035Z"
    }
   },
   "outputs": [
    {
     "data": {
      "text/plain": [
       "'Rosemary'"
      ]
     },
     "execution_count": 43,
     "metadata": {},
     "output_type": "execute_result"
    }
   ],
   "source": [
    "unavailable_names"
   ]
  },
  {
   "cell_type": "code",
   "execution_count": 44,
   "id": "3e7348f0",
   "metadata": {
    "ExecuteTime": {
     "end_time": "2023-02-04T18:05:18.837984Z",
     "start_time": "2023-02-04T18:05:18.810329Z"
    }
   },
   "outputs": [],
   "source": [
    "# When you use pop you can also specify the index of the element you want to remove\n",
    "unavailable_names = class_names.pop(0)"
   ]
  },
  {
   "cell_type": "code",
   "execution_count": 45,
   "id": "71c20d6f",
   "metadata": {
    "ExecuteTime": {
     "end_time": "2023-02-04T18:05:25.751364Z",
     "start_time": "2023-02-04T18:05:25.744311Z"
    }
   },
   "outputs": [
    {
     "data": {
      "text/plain": [
       "'Yomi'"
      ]
     },
     "execution_count": 45,
     "metadata": {},
     "output_type": "execute_result"
    }
   ],
   "source": [
    "unavailable_names"
   ]
  },
  {
   "cell_type": "code",
   "execution_count": 46,
   "id": "5174af38",
   "metadata": {
    "ExecuteTime": {
     "end_time": "2023-02-04T18:07:22.256105Z",
     "start_time": "2023-02-04T18:07:22.250721Z"
    }
   },
   "outputs": [
    {
     "name": "stdout",
     "output_type": "stream",
     "text": [
      "One student who is absent is Yomi\n"
     ]
    }
   ],
   "source": [
    "# playing around\n",
    "print(f\"One student who is absent is {unavailable_names}\")"
   ]
  },
  {
   "cell_type": "code",
   "execution_count": 47,
   "id": "e578587b",
   "metadata": {
    "ExecuteTime": {
     "end_time": "2023-02-04T18:09:32.818345Z",
     "start_time": "2023-02-04T18:09:32.798213Z"
    }
   },
   "outputs": [],
   "source": [
    "# Remove elements using remove \n",
    "# Remove will remove the first instance of the element\n",
    "class_names.remove('Esther')"
   ]
  },
  {
   "cell_type": "code",
   "execution_count": 48,
   "id": "af685448",
   "metadata": {
    "ExecuteTime": {
     "end_time": "2023-02-04T18:09:41.544408Z",
     "start_time": "2023-02-04T18:09:41.511434Z"
    }
   },
   "outputs": [
    {
     "name": "stdout",
     "output_type": "stream",
     "text": [
      "['Adeolu', 'Dara', 'Ayodele', 'Victor', 'Miriam', 'Trevor', 'Oladayo']\n"
     ]
    }
   ],
   "source": [
    "print(class_names)"
   ]
  },
  {
   "cell_type": "code",
   "execution_count": 49,
   "id": "a3e4d4a0",
   "metadata": {
    "ExecuteTime": {
     "end_time": "2023-02-04T18:13:23.900617Z",
     "start_time": "2023-02-04T18:13:23.893485Z"
    }
   },
   "outputs": [
    {
     "data": {
      "text/plain": [
       "1"
      ]
     },
     "execution_count": 49,
     "metadata": {},
     "output_type": "execute_result"
    }
   ],
   "source": [
    "# The count method\n",
    "# Count will return the number of times an element appears in a list\n",
    "class_names.count('Dara')"
   ]
  },
  {
   "cell_type": "code",
   "execution_count": 51,
   "id": "9889d75e",
   "metadata": {
    "ExecuteTime": {
     "end_time": "2023-02-04T18:20:59.693466Z",
     "start_time": "2023-02-04T18:20:54.581997Z"
    }
   },
   "outputs": [],
   "source": [
    "# Play around \n",
    "import pandas as pd # the data analysis library"
   ]
  },
  {
   "cell_type": "code",
   "execution_count": 52,
   "id": "0b382bba",
   "metadata": {
    "ExecuteTime": {
     "end_time": "2023-02-04T18:21:31.174359Z",
     "start_time": "2023-02-04T18:21:31.082732Z"
    }
   },
   "outputs": [
    {
     "data": {
      "text/html": [
       "<div>\n",
       "<style scoped>\n",
       "    .dataframe tbody tr th:only-of-type {\n",
       "        vertical-align: middle;\n",
       "    }\n",
       "\n",
       "    .dataframe tbody tr th {\n",
       "        vertical-align: top;\n",
       "    }\n",
       "\n",
       "    .dataframe thead th {\n",
       "        text-align: right;\n",
       "    }\n",
       "</style>\n",
       "<table border=\"1\" class=\"dataframe\">\n",
       "  <thead>\n",
       "    <tr style=\"text-align: right;\">\n",
       "      <th></th>\n",
       "      <th>PassengerId</th>\n",
       "      <th>Survived</th>\n",
       "      <th>Pclass</th>\n",
       "      <th>Name</th>\n",
       "      <th>Sex</th>\n",
       "      <th>Age</th>\n",
       "      <th>SibSp</th>\n",
       "      <th>Parch</th>\n",
       "      <th>Ticket</th>\n",
       "      <th>Fare</th>\n",
       "      <th>Cabin</th>\n",
       "      <th>Embarked</th>\n",
       "    </tr>\n",
       "  </thead>\n",
       "  <tbody>\n",
       "    <tr>\n",
       "      <th>0</th>\n",
       "      <td>1</td>\n",
       "      <td>0</td>\n",
       "      <td>3</td>\n",
       "      <td>Braund, Mr. Owen Harris</td>\n",
       "      <td>male</td>\n",
       "      <td>22.0</td>\n",
       "      <td>1</td>\n",
       "      <td>0</td>\n",
       "      <td>A/5 21171</td>\n",
       "      <td>7.2500</td>\n",
       "      <td>NaN</td>\n",
       "      <td>S</td>\n",
       "    </tr>\n",
       "    <tr>\n",
       "      <th>1</th>\n",
       "      <td>2</td>\n",
       "      <td>1</td>\n",
       "      <td>1</td>\n",
       "      <td>Cumings, Mrs. John Bradley (Florence Briggs Th...</td>\n",
       "      <td>female</td>\n",
       "      <td>38.0</td>\n",
       "      <td>1</td>\n",
       "      <td>0</td>\n",
       "      <td>PC 17599</td>\n",
       "      <td>71.2833</td>\n",
       "      <td>C85</td>\n",
       "      <td>C</td>\n",
       "    </tr>\n",
       "    <tr>\n",
       "      <th>2</th>\n",
       "      <td>3</td>\n",
       "      <td>1</td>\n",
       "      <td>3</td>\n",
       "      <td>Heikkinen, Miss. Laina</td>\n",
       "      <td>female</td>\n",
       "      <td>26.0</td>\n",
       "      <td>0</td>\n",
       "      <td>0</td>\n",
       "      <td>STON/O2. 3101282</td>\n",
       "      <td>7.9250</td>\n",
       "      <td>NaN</td>\n",
       "      <td>S</td>\n",
       "    </tr>\n",
       "    <tr>\n",
       "      <th>3</th>\n",
       "      <td>4</td>\n",
       "      <td>1</td>\n",
       "      <td>1</td>\n",
       "      <td>Futrelle, Mrs. Jacques Heath (Lily May Peel)</td>\n",
       "      <td>female</td>\n",
       "      <td>35.0</td>\n",
       "      <td>1</td>\n",
       "      <td>0</td>\n",
       "      <td>113803</td>\n",
       "      <td>53.1000</td>\n",
       "      <td>C123</td>\n",
       "      <td>S</td>\n",
       "    </tr>\n",
       "    <tr>\n",
       "      <th>4</th>\n",
       "      <td>5</td>\n",
       "      <td>0</td>\n",
       "      <td>3</td>\n",
       "      <td>Allen, Mr. William Henry</td>\n",
       "      <td>male</td>\n",
       "      <td>35.0</td>\n",
       "      <td>0</td>\n",
       "      <td>0</td>\n",
       "      <td>373450</td>\n",
       "      <td>8.0500</td>\n",
       "      <td>NaN</td>\n",
       "      <td>S</td>\n",
       "    </tr>\n",
       "  </tbody>\n",
       "</table>\n",
       "</div>"
      ],
      "text/plain": [
       "   PassengerId  Survived  Pclass  \\\n",
       "0            1         0       3   \n",
       "1            2         1       1   \n",
       "2            3         1       3   \n",
       "3            4         1       1   \n",
       "4            5         0       3   \n",
       "\n",
       "                                                Name     Sex   Age  SibSp  \\\n",
       "0                            Braund, Mr. Owen Harris    male  22.0      1   \n",
       "1  Cumings, Mrs. John Bradley (Florence Briggs Th...  female  38.0      1   \n",
       "2                             Heikkinen, Miss. Laina  female  26.0      0   \n",
       "3       Futrelle, Mrs. Jacques Heath (Lily May Peel)  female  35.0      1   \n",
       "4                           Allen, Mr. William Henry    male  35.0      0   \n",
       "\n",
       "   Parch            Ticket     Fare Cabin Embarked  \n",
       "0      0         A/5 21171   7.2500   NaN        S  \n",
       "1      0          PC 17599  71.2833   C85        C  \n",
       "2      0  STON/O2. 3101282   7.9250   NaN        S  \n",
       "3      0            113803  53.1000  C123        S  \n",
       "4      0            373450   8.0500   NaN        S  "
      ]
     },
     "execution_count": 52,
     "metadata": {},
     "output_type": "execute_result"
    }
   ],
   "source": [
    "data_titanic = pd.read_csv('Titanic-Dataset.csv')\n",
    "\n",
    "data_titanic.head()"
   ]
  },
  {
   "cell_type": "code",
   "execution_count": 54,
   "id": "63b4fc90",
   "metadata": {
    "ExecuteTime": {
     "end_time": "2023-02-04T18:23:30.014952Z",
     "start_time": "2023-02-04T18:23:29.995892Z"
    }
   },
   "outputs": [],
   "source": [
    "# The count method\n",
    "# Count will return the number of times an element appears in a list\n",
    "sex_data = data_titanic['Sex']"
   ]
  },
  {
   "cell_type": "code",
   "execution_count": 56,
   "id": "eb9e10d6",
   "metadata": {
    "ExecuteTime": {
     "end_time": "2023-02-04T18:24:38.334740Z",
     "start_time": "2023-02-04T18:24:38.325199Z"
    }
   },
   "outputs": [
    {
     "data": {
      "text/plain": [
       "pandas.core.series.Series"
      ]
     },
     "execution_count": 56,
     "metadata": {},
     "output_type": "execute_result"
    }
   ],
   "source": [
    "type(sex_data)"
   ]
  },
  {
   "cell_type": "code",
   "execution_count": 57,
   "id": "fa671661",
   "metadata": {
    "ExecuteTime": {
     "end_time": "2023-02-04T18:25:25.665137Z",
     "start_time": "2023-02-04T18:25:25.597448Z"
    }
   },
   "outputs": [],
   "source": [
    "sex_data = list(sex_data) # converting the series to a list"
   ]
  },
  {
   "cell_type": "code",
   "execution_count": 58,
   "id": "1a36212c",
   "metadata": {
    "ExecuteTime": {
     "end_time": "2023-02-04T18:25:49.337208Z",
     "start_time": "2023-02-04T18:25:49.329186Z"
    }
   },
   "outputs": [
    {
     "data": {
      "text/plain": [
       "list"
      ]
     },
     "execution_count": 58,
     "metadata": {},
     "output_type": "execute_result"
    }
   ],
   "source": [
    "type(sex_data) "
   ]
  },
  {
   "cell_type": "code",
   "execution_count": 60,
   "id": "c26967ae",
   "metadata": {
    "ExecuteTime": {
     "end_time": "2023-02-04T18:26:32.496035Z",
     "start_time": "2023-02-04T18:26:32.489505Z"
    }
   },
   "outputs": [
    {
     "name": "stdout",
     "output_type": "stream",
     "text": [
      "['male', 'female', 'female', 'female', 'male', 'male']\n"
     ]
    }
   ],
   "source": [
    "print(sex_data[:6])"
   ]
  },
  {
   "cell_type": "code",
   "execution_count": 61,
   "id": "3d2ea31f",
   "metadata": {
    "ExecuteTime": {
     "end_time": "2023-02-04T18:27:39.926684Z",
     "start_time": "2023-02-04T18:27:39.919395Z"
    }
   },
   "outputs": [
    {
     "data": {
      "text/plain": [
       "577"
      ]
     },
     "execution_count": 61,
     "metadata": {},
     "output_type": "execute_result"
    }
   ],
   "source": [
    "# the count method\n",
    "sex_data.count('male')"
   ]
  },
  {
   "cell_type": "code",
   "execution_count": 62,
   "id": "a7b565a7",
   "metadata": {
    "ExecuteTime": {
     "end_time": "2023-02-04T18:27:58.393337Z",
     "start_time": "2023-02-04T18:27:58.333259Z"
    }
   },
   "outputs": [
    {
     "data": {
      "text/plain": [
       "314"
      ]
     },
     "execution_count": 62,
     "metadata": {},
     "output_type": "execute_result"
    }
   ],
   "source": [
    "sex_data.count('female')"
   ]
  },
  {
   "cell_type": "code",
   "execution_count": 64,
   "id": "493b0438",
   "metadata": {
    "ExecuteTime": {
     "end_time": "2023-02-04T18:35:41.144578Z",
     "start_time": "2023-02-04T18:35:41.138000Z"
    }
   },
   "outputs": [],
   "source": [
    "# Extend method \n",
    "# first list\n",
    "females_class = ['Esther', 'Miriam', 'Rosemary', 'Dara', 'Oluwasayo'] \n",
    "guys_class = ['Oladayo', 'Yomi', 'Martins', 'Ayodele', 'Tobi', 'Idowu']"
   ]
  },
  {
   "cell_type": "code",
   "execution_count": 65,
   "id": "26152412",
   "metadata": {
    "ExecuteTime": {
     "end_time": "2023-02-04T18:36:07.067118Z",
     "start_time": "2023-02-04T18:36:07.061661Z"
    }
   },
   "outputs": [],
   "source": [
    "# Use extend\n",
    "guys_class.extend(females_class)"
   ]
  },
  {
   "cell_type": "code",
   "execution_count": 67,
   "id": "835f3e7d",
   "metadata": {
    "ExecuteTime": {
     "end_time": "2023-02-04T18:36:25.407861Z",
     "start_time": "2023-02-04T18:36:25.403712Z"
    }
   },
   "outputs": [
    {
     "name": "stdout",
     "output_type": "stream",
     "text": [
      "['Oladayo', 'Yomi', 'Martins', 'Ayodele', 'Tobi', 'Idowu', 'Esther', 'Miriam', 'Rosemary', 'Dara', 'Oluwasayo']\n"
     ]
    }
   ],
   "source": [
    "print(guys_class)"
   ]
  },
  {
   "cell_type": "code",
   "execution_count": 68,
   "id": "a38118e3",
   "metadata": {
    "ExecuteTime": {
     "end_time": "2023-02-04T18:38:32.310711Z",
     "start_time": "2023-02-04T18:38:32.305633Z"
    }
   },
   "outputs": [],
   "source": [
    "# Sort lists\n",
    "guys_class.sort() # Sorts in ascending order"
   ]
  },
  {
   "cell_type": "code",
   "execution_count": 69,
   "id": "7528db30",
   "metadata": {
    "ExecuteTime": {
     "end_time": "2023-02-04T18:38:51.107685Z",
     "start_time": "2023-02-04T18:38:51.101077Z"
    }
   },
   "outputs": [
    {
     "name": "stdout",
     "output_type": "stream",
     "text": [
      "['Ayodele', 'Dara', 'Esther', 'Idowu', 'Martins', 'Miriam', 'Oladayo', 'Oluwasayo', 'Rosemary', 'Tobi', 'Yomi']\n"
     ]
    }
   ],
   "source": [
    "print(guys_class)"
   ]
  },
  {
   "cell_type": "code",
   "execution_count": 70,
   "id": "c1f3843a",
   "metadata": {
    "ExecuteTime": {
     "end_time": "2023-02-04T18:40:19.612227Z",
     "start_time": "2023-02-04T18:40:19.605953Z"
    }
   },
   "outputs": [],
   "source": [
    "# Sort has parameters\n",
    "guys_class.sort(reverse=True)"
   ]
  },
  {
   "cell_type": "code",
   "execution_count": 71,
   "id": "e6458ca2",
   "metadata": {
    "ExecuteTime": {
     "end_time": "2023-02-04T18:40:26.250337Z",
     "start_time": "2023-02-04T18:40:26.238249Z"
    }
   },
   "outputs": [
    {
     "name": "stdout",
     "output_type": "stream",
     "text": [
      "['Yomi', 'Tobi', 'Rosemary', 'Oluwasayo', 'Oladayo', 'Miriam', 'Martins', 'Idowu', 'Esther', 'Dara', 'Ayodele']\n"
     ]
    }
   ],
   "source": [
    "print(guys_class)"
   ]
  },
  {
   "cell_type": "code",
   "execution_count": 72,
   "id": "1932d2c7",
   "metadata": {
    "ExecuteTime": {
     "end_time": "2023-02-04T18:41:48.986616Z",
     "start_time": "2023-02-04T18:41:48.980084Z"
    }
   },
   "outputs": [
    {
     "data": {
      "text/plain": [
       "['Yomi',\n",
       " 'Tobi',\n",
       " 'Rosemary',\n",
       " 'Oluwasayo',\n",
       " 'Oladayo',\n",
       " 'Miriam',\n",
       " 'Martins',\n",
       " 'Idowu',\n",
       " 'Esther',\n",
       " 'Dara',\n",
       " 'Ayodele']"
      ]
     },
     "execution_count": 72,
     "metadata": {},
     "output_type": "execute_result"
    }
   ],
   "source": [
    "guys_class"
   ]
  },
  {
   "cell_type": "code",
   "execution_count": 73,
   "id": "fa34518e",
   "metadata": {
    "ExecuteTime": {
     "end_time": "2023-02-04T18:42:36.556691Z",
     "start_time": "2023-02-04T18:42:36.551896Z"
    }
   },
   "outputs": [
    {
     "name": "stdout",
     "output_type": "stream",
     "text": [
      "['Ayodele', 'Dara', 'Esther', 'Idowu', 'Martins', 'Miriam', 'Oladayo', 'Oluwasayo', 'Rosemary', 'Tobi', 'Yomi']\n"
     ]
    }
   ],
   "source": [
    "# Sort temporarily\n",
    "# Main the original list\n",
    "print(sorted(guys_class))"
   ]
  },
  {
   "cell_type": "code",
   "execution_count": 74,
   "id": "e826c8a7",
   "metadata": {
    "ExecuteTime": {
     "end_time": "2023-02-04T18:42:54.351724Z",
     "start_time": "2023-02-04T18:42:54.343462Z"
    }
   },
   "outputs": [
    {
     "name": "stdout",
     "output_type": "stream",
     "text": [
      "['Yomi', 'Tobi', 'Rosemary', 'Oluwasayo', 'Oladayo', 'Miriam', 'Martins', 'Idowu', 'Esther', 'Dara', 'Ayodele']\n"
     ]
    }
   ],
   "source": [
    "print(guys_class)"
   ]
  },
  {
   "cell_type": "code",
   "execution_count": 75,
   "id": "88c29bc8",
   "metadata": {
    "ExecuteTime": {
     "end_time": "2023-02-04T18:45:46.840724Z",
     "start_time": "2023-02-04T18:45:46.834439Z"
    }
   },
   "outputs": [
    {
     "data": {
      "text/plain": [
       "True"
      ]
     },
     "execution_count": 75,
     "metadata": {},
     "output_type": "execute_result"
    }
   ],
   "source": [
    "# Membership\n",
    "'Yomi' in guys_class "
   ]
  },
  {
   "cell_type": "code",
   "execution_count": 76,
   "id": "cce32520",
   "metadata": {
    "ExecuteTime": {
     "end_time": "2023-02-04T18:46:39.168264Z",
     "start_time": "2023-02-04T18:46:39.143938Z"
    }
   },
   "outputs": [
    {
     "data": {
      "text/plain": [
       "11"
      ]
     },
     "execution_count": 76,
     "metadata": {},
     "output_type": "execute_result"
    }
   ],
   "source": [
    "# Length of list \n",
    "len(guys_class)"
   ]
  },
  {
   "cell_type": "code",
   "execution_count": 79,
   "id": "1879ea58",
   "metadata": {
    "ExecuteTime": {
     "end_time": "2023-02-04T18:50:18.842449Z",
     "start_time": "2023-02-04T18:50:18.831404Z"
    }
   },
   "outputs": [
    {
     "name": "stdout",
     "output_type": "stream",
     "text": [
      "['Yomi', 'Tobi', 'Rosemary', 'Oluwasayo', 'Oladayo', 'Miriam', 'Martins', 'Idowu', 'Esther', 'Dara', 'Ayodele']\n"
     ]
    }
   ],
   "source": [
    "print(guys_class)"
   ]
  },
  {
   "cell_type": "code",
   "execution_count": 84,
   "id": "7b02cdc1",
   "metadata": {
    "ExecuteTime": {
     "end_time": "2023-02-04T18:55:32.888401Z",
     "start_time": "2023-02-04T18:55:32.881208Z"
    }
   },
   "outputs": [
    {
     "name": "stdout",
     "output_type": "stream",
     "text": [
      "['Idowu', 'Esther', 'Dara', 'Ayodele']\n"
     ]
    }
   ],
   "source": [
    "print(guys_class[7:11]) # Slicing"
   ]
  },
  {
   "cell_type": "code",
   "execution_count": 93,
   "id": "f41a1e3d",
   "metadata": {
    "ExecuteTime": {
     "end_time": "2023-02-04T19:03:33.699389Z",
     "start_time": "2023-02-04T19:03:33.681910Z"
    }
   },
   "outputs": [
    {
     "name": "stdout",
     "output_type": "stream",
     "text": [
      "['Yomi', 'Tobi', 'Rosemary', 'Oluwasayo', 'Oladayo', 'Miriam', 'Martins', 'Idowu', 'Esther', 'Dara', 'Ayodele']\n"
     ]
    }
   ],
   "source": [
    "# Explaining Slicing \n",
    "print(guys_class[:11])"
   ]
  },
  {
   "cell_type": "code",
   "execution_count": 92,
   "id": "fd7644a5",
   "metadata": {
    "ExecuteTime": {
     "end_time": "2023-02-04T19:02:35.906260Z",
     "start_time": "2023-02-04T19:02:35.898875Z"
    }
   },
   "outputs": [
    {
     "data": {
      "text/plain": [
       "['Oladayo', 'Miriam', 'Martins', 'Idowu']"
      ]
     },
     "execution_count": 92,
     "metadata": {},
     "output_type": "execute_result"
    }
   ],
   "source": [
    "guys_class[4:-3]"
   ]
  },
  {
   "cell_type": "code",
   "execution_count": 95,
   "id": "83bf9dc3",
   "metadata": {
    "ExecuteTime": {
     "end_time": "2023-02-04T19:06:20.482457Z",
     "start_time": "2023-02-04T19:06:20.477235Z"
    }
   },
   "outputs": [
    {
     "name": "stdout",
     "output_type": "stream",
     "text": [
      "['Yomi', 'Tobi', 'Rosemary', 'Oluwasayo', 'Oladayo', 'Miriam', 'Martins', 'Idowu', 'Esther', 'Dara', 'Ayodele']\n"
     ]
    }
   ],
   "source": [
    "# Copy a list \n",
    "print(guys_class) "
   ]
  },
  {
   "cell_type": "code",
   "execution_count": 96,
   "id": "90a9c50f",
   "metadata": {
    "ExecuteTime": {
     "end_time": "2023-02-04T19:07:00.608426Z",
     "start_time": "2023-02-04T19:07:00.603325Z"
    }
   },
   "outputs": [],
   "source": [
    "copy_guys_class = guys_class.copy()"
   ]
  },
  {
   "cell_type": "code",
   "execution_count": 97,
   "id": "0671053b",
   "metadata": {
    "ExecuteTime": {
     "end_time": "2023-02-04T19:07:17.011535Z",
     "start_time": "2023-02-04T19:07:17.004130Z"
    }
   },
   "outputs": [
    {
     "name": "stdout",
     "output_type": "stream",
     "text": [
      "['Yomi', 'Tobi', 'Rosemary', 'Oluwasayo', 'Oladayo', 'Miriam', 'Martins', 'Idowu', 'Esther', 'Dara', 'Ayodele']\n"
     ]
    }
   ],
   "source": [
    "print(copy_guys_class)"
   ]
  },
  {
   "cell_type": "code",
   "execution_count": 98,
   "id": "3d18e24d",
   "metadata": {
    "ExecuteTime": {
     "end_time": "2023-02-04T19:08:45.283726Z",
     "start_time": "2023-02-04T19:08:45.254906Z"
    }
   },
   "outputs": [],
   "source": [
    "# Copy using slicing\n",
    "guys_class_1 = guys_class[:]"
   ]
  },
  {
   "cell_type": "code",
   "execution_count": 99,
   "id": "673240de",
   "metadata": {
    "ExecuteTime": {
     "end_time": "2023-02-04T19:08:54.241730Z",
     "start_time": "2023-02-04T19:08:54.235599Z"
    }
   },
   "outputs": [
    {
     "name": "stdout",
     "output_type": "stream",
     "text": [
      "['Yomi', 'Tobi', 'Rosemary', 'Oluwasayo', 'Oladayo', 'Miriam', 'Martins', 'Idowu', 'Esther', 'Dara', 'Ayodele']\n"
     ]
    }
   ],
   "source": [
    "print(guys_class_1)"
   ]
  },
  {
   "cell_type": "markdown",
   "id": "9f3fce8a",
   "metadata": {},
   "source": [
    "### Looping "
   ]
  },
  {
   "cell_type": "code",
   "execution_count": 10,
   "id": "c45b4b04",
   "metadata": {
    "ExecuteTime": {
     "end_time": "2023-02-11T18:01:24.078885Z",
     "start_time": "2023-02-11T18:01:24.056488Z"
    }
   },
   "outputs": [],
   "source": [
    "african_names = [\n",
    "    'Ayomide', 'Okwukogu', 'Modise', 'Amina', 'Ewongo', 'Akachukwu', 'Chisom',\n",
    "    'Osinmen', 'Elesho', 'Buhari', 'Obi', 'Mokgweetsi', 'Kaboré', 'Kagame', 'Damini'\n",
    "]"
   ]
  },
  {
   "cell_type": "code",
   "execution_count": 6,
   "id": "45dcadf8",
   "metadata": {
    "ExecuteTime": {
     "end_time": "2023-02-08T18:17:48.872750Z",
     "start_time": "2023-02-08T18:17:48.867634Z"
    }
   },
   "outputs": [
    {
     "name": "stdout",
     "output_type": "stream",
     "text": [
      "ayomide\n",
      "okwukogu\n",
      "modise\n",
      "amina\n",
      "ewongo\n",
      "akachukwu\n",
      "chisom\n",
      "osinmen\n",
      "elesho\n",
      "buhari\n",
      "obi\n",
      "mokgweetsi\n",
      "kaboré\n",
      "kagame\n",
      "damini\n"
     ]
    }
   ],
   "source": [
    "# Write a simple loop\n",
    "# Iterator variable \n",
    "for mimi in african_names:\n",
    "    print(mimi.lower())"
   ]
  },
  {
   "cell_type": "code",
   "execution_count": 10,
   "id": "35350093",
   "metadata": {
    "ExecuteTime": {
     "end_time": "2023-02-08T18:23:21.992418Z",
     "start_time": "2023-02-08T18:23:21.987605Z"
    }
   },
   "outputs": [
    {
     "name": "stdout",
     "output_type": "stream",
     "text": [
      "ayomide\n",
      "okwukogu\n",
      "modise\n",
      "amina\n",
      "ewongo\n",
      "akachukwu\n",
      "chisom\n",
      "osinmen\n",
      "elesho\n",
      "buhari\n",
      "obi\n",
      "mokgweetsi\n",
      "kaboré\n",
      "kagame\n",
      "damini\n",
      "These are AltSchoolers\n"
     ]
    }
   ],
   "source": [
    "for mimi in african_names:\n",
    "    print(mimi.lower())\n",
    "print('These are AltSchoolers') # Outside the indented block "
   ]
  },
  {
   "cell_type": "markdown",
   "id": "da3fa12f",
   "metadata": {},
   "source": [
    "### Errors associated with indentations "
   ]
  },
  {
   "cell_type": "code",
   "execution_count": 12,
   "id": "af4b6288",
   "metadata": {
    "ExecuteTime": {
     "end_time": "2023-02-08T18:26:42.038754Z",
     "start_time": "2023-02-08T18:26:42.030833Z"
    }
   },
   "outputs": [
    {
     "ename": "IndentationError",
     "evalue": "expected an indented block (584297877.py, line 3)",
     "output_type": "error",
     "traceback": [
      "\u001b[0;36m  File \u001b[0;32m\"/var/folders/sj/vpbs2tm52r3gw6r1vgvt92200000gn/T/ipykernel_74311/584297877.py\"\u001b[0;36m, line \u001b[0;32m3\u001b[0m\n\u001b[0;31m    print(mimi.lower())\u001b[0m\n\u001b[0m    ^\u001b[0m\n\u001b[0;31mIndentationError\u001b[0m\u001b[0;31m:\u001b[0m expected an indented block\n"
     ]
    }
   ],
   "source": [
    "# forgetting to indent\n",
    "for mimi in african_names:\n",
    "print(mimi.lower())"
   ]
  },
  {
   "cell_type": "code",
   "execution_count": 14,
   "id": "76cc1324",
   "metadata": {
    "ExecuteTime": {
     "end_time": "2023-02-08T18:31:51.617063Z",
     "start_time": "2023-02-08T18:31:51.607036Z"
    }
   },
   "outputs": [
    {
     "name": "stdout",
     "output_type": "stream",
     "text": [
      "ayomide\n",
      "These are AltSchoolers\n",
      "okwukogu\n",
      "These are AltSchoolers\n",
      "modise\n",
      "These are AltSchoolers\n",
      "amina\n",
      "These are AltSchoolers\n",
      "ewongo\n",
      "These are AltSchoolers\n",
      "akachukwu\n",
      "These are AltSchoolers\n",
      "chisom\n",
      "These are AltSchoolers\n",
      "osinmen\n",
      "These are AltSchoolers\n",
      "elesho\n",
      "These are AltSchoolers\n",
      "buhari\n",
      "These are AltSchoolers\n",
      "obi\n",
      "These are AltSchoolers\n",
      "mokgweetsi\n",
      "These are AltSchoolers\n",
      "kaboré\n",
      "These are AltSchoolers\n",
      "kagame\n",
      "These are AltSchoolers\n",
      "damini\n",
      "These are AltSchoolers\n"
     ]
    }
   ],
   "source": [
    "# Logical errors: Your program does not throw up an error\n",
    "# However, it produces an unexpected result\n",
    "# Indenting Unnecessarily\n",
    "for mimi in african_names:\n",
    "    print(mimi.lower())\n",
    "    print('These are AltSchoolers')"
   ]
  },
  {
   "cell_type": "code",
   "execution_count": 15,
   "id": "c60e9495",
   "metadata": {
    "ExecuteTime": {
     "end_time": "2023-02-08T18:34:27.818706Z",
     "start_time": "2023-02-08T18:34:27.812734Z"
    }
   },
   "outputs": [
    {
     "ename": "IndentationError",
     "evalue": "unexpected indent (4150371222.py, line 3)",
     "output_type": "error",
     "traceback": [
      "\u001b[0;36m  File \u001b[0;32m\"/var/folders/sj/vpbs2tm52r3gw6r1vgvt92200000gn/T/ipykernel_74311/4150371222.py\"\u001b[0;36m, line \u001b[0;32m3\u001b[0m\n\u001b[0;31m    print(name_altschool)\u001b[0m\n\u001b[0m    ^\u001b[0m\n\u001b[0;31mIndentationError\u001b[0m\u001b[0;31m:\u001b[0m unexpected indent\n"
     ]
    }
   ],
   "source": [
    "# Example of an unnecessary indentation \n",
    "name_altschool = 'School of data'\n",
    "    print(name_altschool)"
   ]
  },
  {
   "cell_type": "code",
   "execution_count": 16,
   "id": "16ba662a",
   "metadata": {
    "ExecuteTime": {
     "end_time": "2023-02-08T18:36:43.325009Z",
     "start_time": "2023-02-08T18:36:43.317234Z"
    }
   },
   "outputs": [
    {
     "ename": "SyntaxError",
     "evalue": "invalid syntax (4200271555.py, line 2)",
     "output_type": "error",
     "traceback": [
      "\u001b[0;36m  File \u001b[0;32m\"/var/folders/sj/vpbs2tm52r3gw6r1vgvt92200000gn/T/ipykernel_74311/4200271555.py\"\u001b[0;36m, line \u001b[0;32m2\u001b[0m\n\u001b[0;31m    for n in african_names\u001b[0m\n\u001b[0m                          ^\u001b[0m\n\u001b[0;31mSyntaxError\u001b[0m\u001b[0;31m:\u001b[0m invalid syntax\n"
     ]
    }
   ],
   "source": [
    "# Forgetting to colon\n",
    "for n in african_names\n",
    "    print(n)"
   ]
  },
  {
   "cell_type": "markdown",
   "id": "328f8c16",
   "metadata": {},
   "source": [
    "### Creating numerical lists"
   ]
  },
  {
   "cell_type": "code",
   "execution_count": 17,
   "id": "c81ffc24",
   "metadata": {
    "ExecuteTime": {
     "end_time": "2023-02-08T18:43:00.803871Z",
     "start_time": "2023-02-08T18:43:00.794006Z"
    }
   },
   "outputs": [
    {
     "data": {
      "text/plain": [
       "range(0, 9)"
      ]
     },
     "execution_count": 17,
     "metadata": {},
     "output_type": "execute_result"
    }
   ],
   "source": [
    "# The range function\n",
    "range(9)"
   ]
  },
  {
   "cell_type": "code",
   "execution_count": 18,
   "id": "c772c7cc",
   "metadata": {
    "ExecuteTime": {
     "end_time": "2023-02-08T18:44:17.285452Z",
     "start_time": "2023-02-08T18:44:17.276432Z"
    }
   },
   "outputs": [
    {
     "name": "stdout",
     "output_type": "stream",
     "text": [
      "0\n",
      "1\n",
      "2\n",
      "3\n",
      "4\n",
      "5\n",
      "6\n",
      "7\n",
      "8\n"
     ]
    }
   ],
   "source": [
    "for value in range(9):\n",
    "    print(value)"
   ]
  },
  {
   "cell_type": "code",
   "execution_count": 19,
   "id": "6fc5b629",
   "metadata": {
    "ExecuteTime": {
     "end_time": "2023-02-08T18:45:48.188611Z",
     "start_time": "2023-02-08T18:45:48.182880Z"
    }
   },
   "outputs": [
    {
     "name": "stdout",
     "output_type": "stream",
     "text": [
      "[1, 2, 3, 4, 5, 6, 7, 8, 9, 10]\n"
     ]
    }
   ],
   "source": [
    "# Create a list filled with numbers\n",
    "lst_num = list(range(1, 11))\n",
    "print(lst_num)"
   ]
  },
  {
   "cell_type": "code",
   "execution_count": 22,
   "id": "ce0eb769",
   "metadata": {
    "ExecuteTime": {
     "end_time": "2023-02-08T18:50:49.171951Z",
     "start_time": "2023-02-08T18:50:49.121859Z"
    }
   },
   "outputs": [
    {
     "name": "stdout",
     "output_type": "stream",
     "text": [
      "-23\n",
      "-22\n",
      "-21\n",
      "-20\n",
      "-19\n",
      "-18\n",
      "-17\n",
      "-16\n",
      "-15\n",
      "-14\n",
      "-13\n",
      "-12\n",
      "-11\n",
      "-10\n",
      "-9\n",
      "-8\n",
      "-7\n",
      "-6\n",
      "-5\n",
      "-4\n",
      "-3\n",
      "-2\n",
      "-1\n"
     ]
    }
   ],
   "source": [
    "for v in range(-23, 0):\n",
    "    print(v)"
   ]
  },
  {
   "cell_type": "markdown",
   "id": "08a7b029",
   "metadata": {},
   "source": [
    "### List comprehension"
   ]
  },
  {
   "cell_type": "code",
   "execution_count": 25,
   "id": "bb54da9e",
   "metadata": {
    "ExecuteTime": {
     "end_time": "2023-02-08T18:59:05.555037Z",
     "start_time": "2023-02-08T18:59:05.538079Z"
    }
   },
   "outputs": [
    {
     "name": "stdout",
     "output_type": "stream",
     "text": [
      "CPU times: user 9 µs, sys: 1e+03 ns, total: 10 µs\n",
      "Wall time: 11.9 µs\n",
      "[1, 4, 9, 16, 25, 36, 49, 64, 81, 100, 121, 144, 169, 196]\n"
     ]
    }
   ],
   "source": [
    "%time square_num = [num ** 2 for num in range(1, 15)]\n",
    "print(square_num)"
   ]
  },
  {
   "cell_type": "code",
   "execution_count": 24,
   "id": "223ce72e",
   "metadata": {
    "ExecuteTime": {
     "end_time": "2023-02-08T18:58:25.307978Z",
     "start_time": "2023-02-08T18:58:25.258646Z"
    }
   },
   "outputs": [
    {
     "name": "stdout",
     "output_type": "stream",
     "text": [
      "CPU times: user 5 µs, sys: 1e+03 ns, total: 6 µs\n",
      "Wall time: 9.06 µs\n"
     ]
    },
    {
     "data": {
      "text/plain": [
       "340282366920938463463374607431768211456"
      ]
     },
     "execution_count": 24,
     "metadata": {},
     "output_type": "execute_result"
    }
   ],
   "source": [
    "%time 2**128"
   ]
  },
  {
   "cell_type": "code",
   "execution_count": 26,
   "id": "e187f475",
   "metadata": {
    "ExecuteTime": {
     "end_time": "2023-02-08T19:00:10.991307Z",
     "start_time": "2023-02-08T19:00:10.984887Z"
    }
   },
   "outputs": [
    {
     "name": "stdout",
     "output_type": "stream",
     "text": [
      "hello world\n",
      "CPU times: user 141 µs, sys: 49 µs, total: 190 µs\n",
      "Wall time: 152 µs\n"
     ]
    }
   ],
   "source": [
    "%time print('hello world')"
   ]
  },
  {
   "cell_type": "markdown",
   "id": "5cf63c51",
   "metadata": {},
   "source": [
    "### The difference between pop & del"
   ]
  },
  {
   "cell_type": "code",
   "execution_count": 1,
   "id": "f74395d4",
   "metadata": {
    "ExecuteTime": {
     "end_time": "2023-02-11T17:32:54.996496Z",
     "start_time": "2023-02-11T17:32:54.986029Z"
    }
   },
   "outputs": [],
   "source": [
    "# Create a list\n",
    "realEstate_data = ['Swimming pools', 'Bungalows', 'Self-Contains', 'Gyms']"
   ]
  },
  {
   "cell_type": "code",
   "execution_count": 2,
   "id": "55956f4b",
   "metadata": {
    "ExecuteTime": {
     "end_time": "2023-02-11T17:36:02.262006Z",
     "start_time": "2023-02-11T17:36:02.258971Z"
    }
   },
   "outputs": [],
   "source": [
    "# Delete the Swimming Pool\n",
    "del realEstate_data[0]"
   ]
  },
  {
   "cell_type": "code",
   "execution_count": 3,
   "id": "611af086",
   "metadata": {
    "ExecuteTime": {
     "end_time": "2023-02-11T17:36:08.114641Z",
     "start_time": "2023-02-11T17:36:08.099609Z"
    }
   },
   "outputs": [
    {
     "data": {
      "text/plain": [
       "['Bungalows', 'Self-Contains', 'Gyms']"
      ]
     },
     "execution_count": 3,
     "metadata": {},
     "output_type": "execute_result"
    }
   ],
   "source": [
    "realEstate_data"
   ]
  },
  {
   "cell_type": "code",
   "execution_count": 4,
   "id": "c4c7521d",
   "metadata": {
    "ExecuteTime": {
     "end_time": "2023-02-11T17:40:02.203764Z",
     "start_time": "2023-02-11T17:40:02.195829Z"
    }
   },
   "outputs": [],
   "source": [
    "# Take away Gyms but store them separately\n",
    "gyms = realEstate_data.pop(2)"
   ]
  },
  {
   "cell_type": "code",
   "execution_count": 5,
   "id": "7973f0a2",
   "metadata": {
    "ExecuteTime": {
     "end_time": "2023-02-11T17:40:07.204935Z",
     "start_time": "2023-02-11T17:40:07.194630Z"
    }
   },
   "outputs": [
    {
     "data": {
      "text/plain": [
       "['Bungalows', 'Self-Contains']"
      ]
     },
     "execution_count": 5,
     "metadata": {},
     "output_type": "execute_result"
    }
   ],
   "source": [
    "realEstate_data"
   ]
  },
  {
   "cell_type": "code",
   "execution_count": 6,
   "id": "0e90aeea",
   "metadata": {
    "ExecuteTime": {
     "end_time": "2023-02-11T17:40:13.438432Z",
     "start_time": "2023-02-11T17:40:13.419578Z"
    }
   },
   "outputs": [
    {
     "data": {
      "text/plain": [
       "'Gyms'"
      ]
     },
     "execution_count": 6,
     "metadata": {},
     "output_type": "execute_result"
    }
   ],
   "source": [
    "gyms"
   ]
  },
  {
   "cell_type": "code",
   "execution_count": 7,
   "id": "b2272db1",
   "metadata": {
    "ExecuteTime": {
     "end_time": "2023-02-11T17:45:17.694129Z",
     "start_time": "2023-02-11T17:45:17.306969Z"
    }
   },
   "outputs": [
    {
     "ename": "TypeError",
     "evalue": "pop expected at most 1 argument, got 2",
     "output_type": "error",
     "traceback": [
      "\u001b[0;31m---------------------------------------------------------------------------\u001b[0m",
      "\u001b[0;31mTypeError\u001b[0m                                 Traceback (most recent call last)",
      "\u001b[0;32m/var/folders/sj/vpbs2tm52r3gw6r1vgvt92200000gn/T/ipykernel_88245/4065215375.py\u001b[0m in \u001b[0;36m<module>\u001b[0;34m\u001b[0m\n\u001b[0;32m----> 1\u001b[0;31m \u001b[0mall_data\u001b[0m \u001b[0;34m=\u001b[0m \u001b[0mrealEstate_data\u001b[0m\u001b[0;34m.\u001b[0m\u001b[0mpop\u001b[0m\u001b[0;34m(\u001b[0m\u001b[0;36m0\u001b[0m\u001b[0;34m,\u001b[0m\u001b[0;36m1\u001b[0m\u001b[0;34m)\u001b[0m\u001b[0;34m\u001b[0m\u001b[0;34m\u001b[0m\u001b[0m\n\u001b[0m",
      "\u001b[0;31mTypeError\u001b[0m: pop expected at most 1 argument, got 2"
     ]
    }
   ],
   "source": [
    "#all_data = realEstate_data.pop()"
   ]
  },
  {
   "cell_type": "code",
   "execution_count": 13,
   "id": "189c785a",
   "metadata": {
    "ExecuteTime": {
     "end_time": "2023-02-11T18:03:49.807413Z",
     "start_time": "2023-02-11T18:03:49.801758Z"
    }
   },
   "outputs": [],
   "source": [
    "# Create this list again\n",
    "realEstate_data = ['Swimming pools', 'Bungalows', 'Self-Contains', 'Gyms']"
   ]
  },
  {
   "cell_type": "code",
   "execution_count": 14,
   "id": "e19dbd90",
   "metadata": {
    "ExecuteTime": {
     "end_time": "2023-02-11T18:04:30.872123Z",
     "start_time": "2023-02-11T18:04:30.859767Z"
    }
   },
   "outputs": [
    {
     "data": {
      "text/plain": [
       "'Gyms'"
      ]
     },
     "execution_count": 14,
     "metadata": {},
     "output_type": "execute_result"
    }
   ],
   "source": [
    "# Pop an item from your list\n",
    "realEstate_data.pop()"
   ]
  },
  {
   "cell_type": "code",
   "execution_count": 16,
   "id": "e56f3a7d",
   "metadata": {
    "ExecuteTime": {
     "end_time": "2023-02-11T18:04:41.344280Z",
     "start_time": "2023-02-11T18:04:41.336047Z"
    }
   },
   "outputs": [
    {
     "data": {
      "text/plain": [
       "['Swimming pools', 'Bungalows', 'Self-Contains']"
      ]
     },
     "execution_count": 16,
     "metadata": {},
     "output_type": "execute_result"
    }
   ],
   "source": [
    "realEstate_data"
   ]
  },
  {
   "cell_type": "code",
   "execution_count": 17,
   "id": "647ef703",
   "metadata": {
    "ExecuteTime": {
     "end_time": "2023-02-11T18:06:34.892216Z",
     "start_time": "2023-02-11T18:06:34.887643Z"
    }
   },
   "outputs": [],
   "source": [
    "# To put 'Gyms' back in your list\n",
    "# Append\n",
    "# Insert \n",
    "realEstate_data.append('Gyms')"
   ]
  },
  {
   "cell_type": "code",
   "execution_count": 18,
   "id": "92ca44d0",
   "metadata": {
    "ExecuteTime": {
     "end_time": "2023-02-11T18:06:42.468306Z",
     "start_time": "2023-02-11T18:06:42.461506Z"
    }
   },
   "outputs": [
    {
     "data": {
      "text/plain": [
       "['Swimming pools', 'Bungalows', 'Self-Contains', 'Gyms']"
      ]
     },
     "execution_count": 18,
     "metadata": {},
     "output_type": "execute_result"
    }
   ],
   "source": [
    "realEstate_data "
   ]
  },
  {
   "cell_type": "code",
   "execution_count": 19,
   "id": "7cda6ab8",
   "metadata": {
    "ExecuteTime": {
     "end_time": "2023-02-11T18:07:15.298435Z",
     "start_time": "2023-02-11T18:07:15.293998Z"
    }
   },
   "outputs": [],
   "source": [
    "del realEstate_data[0] "
   ]
  },
  {
   "cell_type": "code",
   "execution_count": 20,
   "id": "0a26cd06",
   "metadata": {
    "ExecuteTime": {
     "end_time": "2023-02-11T18:07:25.667452Z",
     "start_time": "2023-02-11T18:07:25.656713Z"
    }
   },
   "outputs": [
    {
     "data": {
      "text/plain": [
       "['Bungalows', 'Self-Contains', 'Gyms']"
      ]
     },
     "execution_count": 20,
     "metadata": {},
     "output_type": "execute_result"
    }
   ],
   "source": [
    "realEstate_data "
   ]
  },
  {
   "cell_type": "code",
   "execution_count": 21,
   "id": "9650d701",
   "metadata": {
    "ExecuteTime": {
     "end_time": "2023-02-11T18:08:04.232354Z",
     "start_time": "2023-02-11T18:08:04.227765Z"
    }
   },
   "outputs": [],
   "source": [
    "realEstate_data.insert(0, 'Swimming pools')"
   ]
  },
  {
   "cell_type": "code",
   "execution_count": 22,
   "id": "c12ea8ea",
   "metadata": {
    "ExecuteTime": {
     "end_time": "2023-02-11T18:08:08.866798Z",
     "start_time": "2023-02-11T18:08:08.857131Z"
    }
   },
   "outputs": [
    {
     "data": {
      "text/plain": [
       "['Swimming pools', 'Bungalows', 'Self-Contains', 'Gyms']"
      ]
     },
     "execution_count": 22,
     "metadata": {},
     "output_type": "execute_result"
    }
   ],
   "source": [
    "realEstate_data"
   ]
  },
  {
   "cell_type": "code",
   "execution_count": null,
   "id": "3fa7c2b7",
   "metadata": {},
   "outputs": [],
   "source": []
  },
  {
   "cell_type": "markdown",
   "id": "9cca14db",
   "metadata": {},
   "source": [
    "### Tuples "
   ]
  },
  {
   "cell_type": "code",
   "execution_count": 9,
   "id": "5d4040e0",
   "metadata": {
    "ExecuteTime": {
     "end_time": "2023-02-11T18:01:07.360645Z",
     "start_time": "2023-02-11T18:01:07.354309Z"
    }
   },
   "outputs": [],
   "source": [
    "# A tuple is created using ()\n",
    "# A tuple is immutable \n",
    "# Tuples are ordered \n",
    "\n",
    "african_names_tup = (\n",
    "    'Ayomide', 'Okwukogu', 'Modise', 'Amina', 'Ewongo', 'Akachukwu', 'Chisom',\n",
    "    'Osinmen', 'Elesho', 'Buhari', 'Obi', 'Mokgweetsi', 'Kaboré', 'Kagame', 'Damini'\n",
    "    )"
   ]
  },
  {
   "cell_type": "code",
   "execution_count": 11,
   "id": "fbaf36a7",
   "metadata": {
    "ExecuteTime": {
     "end_time": "2023-02-11T18:01:39.711447Z",
     "start_time": "2023-02-11T18:01:39.703498Z"
    }
   },
   "outputs": [
    {
     "data": {
      "text/plain": [
       "list"
      ]
     },
     "execution_count": 11,
     "metadata": {},
     "output_type": "execute_result"
    }
   ],
   "source": [
    "type(african_names)"
   ]
  },
  {
   "cell_type": "code",
   "execution_count": 12,
   "id": "abcab09a",
   "metadata": {
    "ExecuteTime": {
     "end_time": "2023-02-11T18:01:51.570800Z",
     "start_time": "2023-02-11T18:01:51.557245Z"
    }
   },
   "outputs": [
    {
     "data": {
      "text/plain": [
       "tuple"
      ]
     },
     "execution_count": 12,
     "metadata": {},
     "output_type": "execute_result"
    }
   ],
   "source": [
    "type(african_names_tup)"
   ]
  },
  {
   "cell_type": "code",
   "execution_count": 24,
   "id": "f137262a",
   "metadata": {
    "ExecuteTime": {
     "end_time": "2023-02-11T18:08:49.772051Z",
     "start_time": "2023-02-11T18:08:49.762604Z"
    }
   },
   "outputs": [
    {
     "name": "stdout",
     "output_type": "stream",
     "text": [
      "('Ayomide', 'Okwukogu', 'Modise', 'Amina', 'Ewongo', 'Akachukwu', 'Chisom', 'Osinmen', 'Elesho', 'Buhari', 'Obi', 'Mokgweetsi', 'Kaboré', 'Kagame', 'Damini')\n"
     ]
    }
   ],
   "source": [
    "print(african_names_tup) "
   ]
  },
  {
   "cell_type": "code",
   "execution_count": 25,
   "id": "293f5d07",
   "metadata": {
    "ExecuteTime": {
     "end_time": "2023-02-11T18:10:56.142150Z",
     "start_time": "2023-02-11T18:10:56.123561Z"
    }
   },
   "outputs": [
    {
     "ename": "TypeError",
     "evalue": "'tuple' object does not support item assignment",
     "output_type": "error",
     "traceback": [
      "\u001b[0;31m---------------------------------------------------------------------------\u001b[0m",
      "\u001b[0;31mTypeError\u001b[0m                                 Traceback (most recent call last)",
      "\u001b[0;32m/var/folders/sj/vpbs2tm52r3gw6r1vgvt92200000gn/T/ipykernel_88245/146666967.py\u001b[0m in \u001b[0;36m<module>\u001b[0;34m\u001b[0m\n\u001b[1;32m      1\u001b[0m \u001b[0;31m# Add a new a African name\u001b[0m\u001b[0;34m\u001b[0m\u001b[0;34m\u001b[0m\u001b[0m\n\u001b[0;32m----> 2\u001b[0;31m \u001b[0mafrican_names_tup\u001b[0m\u001b[0;34m[\u001b[0m\u001b[0;36m0\u001b[0m\u001b[0;34m]\u001b[0m \u001b[0;34m=\u001b[0m \u001b[0;34m'Kaunda'\u001b[0m\u001b[0;34m\u001b[0m\u001b[0;34m\u001b[0m\u001b[0m\n\u001b[0m",
      "\u001b[0;31mTypeError\u001b[0m: 'tuple' object does not support item assignment"
     ]
    }
   ],
   "source": [
    "# Add a new a African name \n",
    "african_names_tup[0] = 'Kaunda'"
   ]
  },
  {
   "cell_type": "code",
   "execution_count": 26,
   "id": "ab6276ef",
   "metadata": {
    "ExecuteTime": {
     "end_time": "2023-02-11T18:12:32.166438Z",
     "start_time": "2023-02-11T18:12:32.151127Z"
    }
   },
   "outputs": [
    {
     "ename": "TypeError",
     "evalue": "'tuple' object doesn't support item deletion",
     "output_type": "error",
     "traceback": [
      "\u001b[0;31m---------------------------------------------------------------------------\u001b[0m",
      "\u001b[0;31mTypeError\u001b[0m                                 Traceback (most recent call last)",
      "\u001b[0;32m/var/folders/sj/vpbs2tm52r3gw6r1vgvt92200000gn/T/ipykernel_88245/1106924672.py\u001b[0m in \u001b[0;36m<module>\u001b[0;34m\u001b[0m\n\u001b[0;32m----> 1\u001b[0;31m \u001b[0;32mdel\u001b[0m \u001b[0mafrican_names_tup\u001b[0m\u001b[0;34m[\u001b[0m\u001b[0;36m1\u001b[0m\u001b[0;34m]\u001b[0m\u001b[0;34m\u001b[0m\u001b[0;34m\u001b[0m\u001b[0m\n\u001b[0m",
      "\u001b[0;31mTypeError\u001b[0m: 'tuple' object doesn't support item deletion"
     ]
    }
   ],
   "source": [
    "del african_names_tup[1]"
   ]
  },
  {
   "cell_type": "code",
   "execution_count": 31,
   "id": "5ccd33b2",
   "metadata": {
    "ExecuteTime": {
     "end_time": "2023-02-11T18:16:32.051107Z",
     "start_time": "2023-02-11T18:16:32.040794Z"
    }
   },
   "outputs": [
    {
     "data": {
      "text/plain": [
       "1"
      ]
     },
     "execution_count": 31,
     "metadata": {},
     "output_type": "execute_result"
    }
   ],
   "source": [
    "# Work with a tuple \n",
    "# Methods: count, index\n",
    "african_names_tup.count('Kaboré') "
   ]
  },
  {
   "cell_type": "code",
   "execution_count": 50,
   "id": "def938f2",
   "metadata": {
    "ExecuteTime": {
     "end_time": "2023-02-11T18:31:26.151187Z",
     "start_time": "2023-02-11T18:31:26.144637Z"
    }
   },
   "outputs": [
    {
     "data": {
      "text/plain": [
       "140388558936000"
      ]
     },
     "execution_count": 50,
     "metadata": {},
     "output_type": "execute_result"
    }
   ],
   "source": [
    "# Concatenating Tuple\n",
    "id(african_names_tup)"
   ]
  },
  {
   "cell_type": "code",
   "execution_count": 51,
   "id": "d02dda7b",
   "metadata": {
    "ExecuteTime": {
     "end_time": "2023-02-11T18:31:36.850250Z",
     "start_time": "2023-02-11T18:31:36.844354Z"
    }
   },
   "outputs": [],
   "source": [
    "african_names_tup = ('Ayomide', 'Okwukogu', 'Modise', 'Amina', 'Ewongo',\n",
    "                     'Akachukwu', 'Chisom', 'Osinmen', 'Elesho', 'Buhari',\n",
    "                     'Obi', 'Mokgweetsi', 'Kaboré')"
   ]
  },
  {
   "cell_type": "code",
   "execution_count": 52,
   "id": "7309dbf1",
   "metadata": {
    "ExecuteTime": {
     "end_time": "2023-02-11T18:31:38.014539Z",
     "start_time": "2023-02-11T18:31:38.006694Z"
    }
   },
   "outputs": [
    {
     "data": {
      "text/plain": [
       "140388554486544"
      ]
     },
     "execution_count": 52,
     "metadata": {},
     "output_type": "execute_result"
    }
   ],
   "source": [
    "id(african_names_tup)"
   ]
  },
  {
   "cell_type": "code",
   "execution_count": 53,
   "id": "91aa36e3",
   "metadata": {
    "ExecuteTime": {
     "end_time": "2023-02-11T18:31:47.567637Z",
     "start_time": "2023-02-11T18:31:47.539992Z"
    }
   },
   "outputs": [],
   "source": [
    "t = ('Damini', 'Ugo')"
   ]
  },
  {
   "cell_type": "code",
   "execution_count": 54,
   "id": "87415fc1",
   "metadata": {
    "ExecuteTime": {
     "end_time": "2023-02-11T18:31:48.323721Z",
     "start_time": "2023-02-11T18:31:48.317933Z"
    }
   },
   "outputs": [
    {
     "data": {
      "text/plain": [
       "tuple"
      ]
     },
     "execution_count": 54,
     "metadata": {},
     "output_type": "execute_result"
    }
   ],
   "source": [
    "type(t)"
   ]
  },
  {
   "cell_type": "code",
   "execution_count": 55,
   "id": "2cd3aca1",
   "metadata": {
    "ExecuteTime": {
     "end_time": "2023-02-11T18:32:01.172418Z",
     "start_time": "2023-02-11T18:32:01.162577Z"
    }
   },
   "outputs": [],
   "source": [
    "# Concat\n",
    "african_names_tup += t"
   ]
  },
  {
   "cell_type": "code",
   "execution_count": 57,
   "id": "ccf556ad",
   "metadata": {
    "ExecuteTime": {
     "end_time": "2023-02-11T18:32:11.887309Z",
     "start_time": "2023-02-11T18:32:11.842725Z"
    }
   },
   "outputs": [
    {
     "name": "stdout",
     "output_type": "stream",
     "text": [
      "('Ayomide', 'Okwukogu', 'Modise', 'Amina', 'Ewongo', 'Akachukwu', 'Chisom', 'Osinmen', 'Elesho', 'Buhari', 'Obi', 'Mokgweetsi', 'Kaboré', 'Damini', 'Ugo')\n"
     ]
    }
   ],
   "source": [
    "print(african_names_tup)"
   ]
  },
  {
   "cell_type": "code",
   "execution_count": 58,
   "id": "7cf38cff",
   "metadata": {
    "ExecuteTime": {
     "end_time": "2023-02-11T18:32:48.516892Z",
     "start_time": "2023-02-11T18:32:48.510558Z"
    }
   },
   "outputs": [],
   "source": [
    "# Create/Instantiate an empty list\n",
    "lst_empty = []"
   ]
  },
  {
   "cell_type": "code",
   "execution_count": 59,
   "id": "2a5c2138",
   "metadata": {
    "ExecuteTime": {
     "end_time": "2023-02-11T18:32:51.540682Z",
     "start_time": "2023-02-11T18:32:51.526924Z"
    }
   },
   "outputs": [
    {
     "data": {
      "text/plain": [
       "list"
      ]
     },
     "execution_count": 59,
     "metadata": {},
     "output_type": "execute_result"
    }
   ],
   "source": [
    "type(lst_empty)"
   ]
  },
  {
   "cell_type": "code",
   "execution_count": 60,
   "id": "0c5fdfd7",
   "metadata": {
    "ExecuteTime": {
     "end_time": "2023-02-11T18:32:57.661214Z",
     "start_time": "2023-02-11T18:32:57.652539Z"
    }
   },
   "outputs": [],
   "source": [
    "# Create an empty tuple\n",
    "tup_empty = tuple()"
   ]
  },
  {
   "cell_type": "code",
   "execution_count": 61,
   "id": "ef7363c3",
   "metadata": {
    "ExecuteTime": {
     "end_time": "2023-02-11T18:32:58.396211Z",
     "start_time": "2023-02-11T18:32:58.388920Z"
    }
   },
   "outputs": [
    {
     "data": {
      "text/plain": [
       "()"
      ]
     },
     "execution_count": 61,
     "metadata": {},
     "output_type": "execute_result"
    }
   ],
   "source": [
    "tup_empty"
   ]
  },
  {
   "cell_type": "code",
   "execution_count": 46,
   "id": "decc2cc6",
   "metadata": {
    "ExecuteTime": {
     "end_time": "2023-02-11T18:29:21.471402Z",
     "start_time": "2023-02-11T18:29:21.465646Z"
    }
   },
   "outputs": [],
   "source": [
    "# create one element in a tuple\n",
    "one_tuple = ('Damini')"
   ]
  },
  {
   "cell_type": "code",
   "execution_count": 47,
   "id": "ee5d6a9f",
   "metadata": {
    "ExecuteTime": {
     "end_time": "2023-02-11T18:29:28.722383Z",
     "start_time": "2023-02-11T18:29:28.699809Z"
    }
   },
   "outputs": [
    {
     "data": {
      "text/plain": [
       "str"
      ]
     },
     "execution_count": 47,
     "metadata": {},
     "output_type": "execute_result"
    }
   ],
   "source": [
    "type(one_tuple)"
   ]
  },
  {
   "cell_type": "code",
   "execution_count": 48,
   "id": "81fb21f0",
   "metadata": {
    "ExecuteTime": {
     "end_time": "2023-02-11T18:29:59.417595Z",
     "start_time": "2023-02-11T18:29:59.412974Z"
    }
   },
   "outputs": [],
   "source": [
    "one_tuple = ('Damini',)"
   ]
  },
  {
   "cell_type": "code",
   "execution_count": 49,
   "id": "63b878ed",
   "metadata": {
    "ExecuteTime": {
     "end_time": "2023-02-11T18:30:07.910848Z",
     "start_time": "2023-02-11T18:30:07.892018Z"
    }
   },
   "outputs": [
    {
     "data": {
      "text/plain": [
       "tuple"
      ]
     },
     "execution_count": 49,
     "metadata": {},
     "output_type": "execute_result"
    }
   ],
   "source": [
    "type(one_tuple)"
   ]
  },
  {
   "cell_type": "code",
   "execution_count": 62,
   "id": "6ab7942b",
   "metadata": {
    "ExecuteTime": {
     "end_time": "2023-02-11T18:34:26.996315Z",
     "start_time": "2023-02-11T18:34:26.987358Z"
    }
   },
   "outputs": [],
   "source": [
    "tup_empty = ()"
   ]
  },
  {
   "cell_type": "code",
   "execution_count": 63,
   "id": "a5cfba81",
   "metadata": {
    "ExecuteTime": {
     "end_time": "2023-02-11T18:34:35.272142Z",
     "start_time": "2023-02-11T18:34:35.249468Z"
    }
   },
   "outputs": [
    {
     "data": {
      "text/plain": [
       "tuple"
      ]
     },
     "execution_count": 63,
     "metadata": {},
     "output_type": "execute_result"
    }
   ],
   "source": [
    "type(tup_empty)"
   ]
  },
  {
   "cell_type": "code",
   "execution_count": 64,
   "id": "3468b246",
   "metadata": {
    "ExecuteTime": {
     "end_time": "2023-02-11T18:47:58.766173Z",
     "start_time": "2023-02-11T18:47:58.758677Z"
    }
   },
   "outputs": [],
   "source": [
    "# Create a tuple\n",
    "t_mySelf = ('Pablo', 'Kaduna', 26)"
   ]
  },
  {
   "cell_type": "code",
   "execution_count": 65,
   "id": "00d07aa8",
   "metadata": {
    "ExecuteTime": {
     "end_time": "2023-02-11T18:49:01.585056Z",
     "start_time": "2023-02-11T18:49:01.558940Z"
    }
   },
   "outputs": [],
   "source": [
    "t_learn = ('Statistics', 'Tabular Structure')"
   ]
  },
  {
   "cell_type": "code",
   "execution_count": 66,
   "id": "4af3fc42",
   "metadata": {
    "ExecuteTime": {
     "end_time": "2023-02-11T18:49:32.160721Z",
     "start_time": "2023-02-11T18:49:32.154752Z"
    }
   },
   "outputs": [],
   "source": [
    "# Concatenate the two tuples and show their individual ids "
   ]
  },
  {
   "cell_type": "code",
   "execution_count": 67,
   "id": "950da481",
   "metadata": {
    "ExecuteTime": {
     "end_time": "2023-02-11T18:59:37.457374Z",
     "start_time": "2023-02-11T18:59:37.453350Z"
    }
   },
   "outputs": [],
   "source": [
    "t_learn = list(t_learn)"
   ]
  },
  {
   "cell_type": "code",
   "execution_count": 68,
   "id": "c7923ca9",
   "metadata": {
    "ExecuteTime": {
     "end_time": "2023-02-11T19:00:26.835528Z",
     "start_time": "2023-02-11T19:00:26.763942Z"
    }
   },
   "outputs": [
    {
     "data": {
      "text/plain": [
       "list"
      ]
     },
     "execution_count": 68,
     "metadata": {},
     "output_type": "execute_result"
    }
   ],
   "source": [
    "type(t_learn) "
   ]
  },
  {
   "cell_type": "code",
   "execution_count": null,
   "id": "1bdf7c39",
   "metadata": {},
   "outputs": [],
   "source": []
  }
 ],
 "metadata": {
  "kernelspec": {
   "display_name": "Python 3 (ipykernel)",
   "language": "python",
   "name": "python3"
  },
  "language_info": {
   "codemirror_mode": {
    "name": "ipython",
    "version": 3
   },
   "file_extension": ".py",
   "mimetype": "text/x-python",
   "name": "python",
   "nbconvert_exporter": "python",
   "pygments_lexer": "ipython3",
   "version": "3.9.13"
  }
 },
 "nbformat": 4,
 "nbformat_minor": 5
}
