{
 "cells": [
  {
   "cell_type": "markdown",
   "id": "697596b0",
   "metadata": {},
   "source": [
    "### First Task for Introduction to Python\n",
    "\n",
    "1. Save your notebook file as your name, date of the assignment & email. E.g \"Peter Okwukogu - 24-01-23 - pablo@altschoolafrica.com\"\"\n",
    "\n",
    "2. The assignment should be submitted to https://bit.ly/task-one-25-4pm\n",
    "\n",
    "3. Submission Deadline: On or before 4pm, 25th of January, 2023\n"
   ]
  },
  {
   "cell_type": "markdown",
   "id": "ad6e3068",
   "metadata": {},
   "source": [
    "1. What is the data type of this --> 0xFF"
   ]
  },
  {
   "cell_type": "code",
   "execution_count": 1,
   "id": "76ba28c4",
   "metadata": {},
   "outputs": [
    {
     "data": {
      "text/plain": [
       "int"
      ]
     },
     "execution_count": 1,
     "metadata": {},
     "output_type": "execute_result"
    }
   ],
   "source": [
    "type(0xFF)"
   ]
  },
  {
   "cell_type": "markdown",
   "id": "2954e4e7",
   "metadata": {},
   "source": [
    "2. What is the data type of this --> (1, 'Jhon', 1+3j)"
   ]
  },
  {
   "cell_type": "code",
   "execution_count": 2,
   "id": "74344e45",
   "metadata": {},
   "outputs": [
    {
     "data": {
      "text/plain": [
       "tuple"
      ]
     },
     "execution_count": 2,
     "metadata": {},
     "output_type": "execute_result"
    }
   ],
   "source": [
    "type((1, 'Jhon', 1+3j))"
   ]
  },
  {
   "cell_type": "markdown",
   "id": "e1d54708",
   "metadata": {},
   "source": [
    "3. Name one author of Python Enhancement Proposal 8 besides Guido van Rossum ?"
   ]
  },
  {
   "cell_type": "markdown",
   "id": "27b842f6",
   "metadata": {},
   "source": [
    "4. What import statement is written to view The Zen of Python by Tim Peters"
   ]
  },
  {
   "cell_type": "markdown",
   "id": "3ea7865a",
   "metadata": {},
   "source": [
    "5. What is the difference a float and an integer, provide an example"
   ]
  },
  {
   "cell_type": "markdown",
   "id": "86754e0c",
   "metadata": {},
   "source": [
    "6. What is a correct syntax to output \"Welcome to AltSchool Africa\""
   ]
  },
  {
   "cell_type": "markdown",
   "id": "63c4d175",
   "metadata": {},
   "source": [
    "7. Which is necessary for providing information on a line of code? A docstring or comment"
   ]
  },
  {
   "cell_type": "markdown",
   "id": "b5b48ff2",
   "metadata": {},
   "source": [
    "8. In a simple terms, define a traceback?"
   ]
  }
 ],
 "metadata": {
  "kernelspec": {
   "display_name": "Python 3",
   "language": "python",
   "name": "python3"
  },
  "language_info": {
   "codemirror_mode": {
    "name": "ipython",
    "version": 3
   },
   "file_extension": ".py",
   "mimetype": "text/x-python",
   "name": "python",
   "nbconvert_exporter": "python",
   "pygments_lexer": "ipython3",
   "version": "3.10.8"
  },
  "vscode": {
   "interpreter": {
    "hash": "b0fa6594d8f4cbf19f97940f81e996739fb7646882a419484c72d19e05852a7e"
   }
  }
 },
 "nbformat": 4,
 "nbformat_minor": 5
}
