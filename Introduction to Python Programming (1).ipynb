{
 "cells": [
  {
   "cell_type": "markdown",
   "id": "0e267c85",
   "metadata": {},
   "source": [
    "### Introduction to Python"
   ]
  },
  {
   "cell_type": "markdown",
   "id": "b9c0aefc",
   "metadata": {},
   "source": [
    "### Starting with Documentation"
   ]
  },
  {
   "cell_type": "code",
   "execution_count": null,
   "id": "8b8293e8",
   "metadata": {},
   "outputs": [],
   "source": [
    "# Comments - Definition of comments:\n",
    "#   - A comment is a line of text that begins with a # character.\n",
    "#   - Comments are ignored by the interpreter.\n",
    "#   - Comments can be placed anywhere in a program, but are usually placed at the end."
   ]
  },
  {
   "cell_type": "code",
   "execution_count": null,
   "id": "d8981453",
   "metadata": {},
   "outputs": [],
   "source": [
    "my_name = 'Pablo' # Pablo is being assigned to my_name "
   ]
  },
  {
   "cell_type": "code",
   "execution_count": 2,
   "id": "4ac56dd8",
   "metadata": {
    "ExecuteTime": {
     "end_time": "2023-01-22T02:54:04.281441Z",
     "start_time": "2023-01-22T02:54:04.263276Z"
    }
   },
   "outputs": [],
   "source": [
    "# Pablo is being assigned to my_name <--- bad comment\n",
    "my_name = 'Pablo' "
   ]
  },
  {
   "cell_type": "code",
   "execution_count": 3,
   "id": "bc129cb7",
   "metadata": {
    "ExecuteTime": {
     "end_time": "2023-01-22T02:54:18.938336Z",
     "start_time": "2023-01-22T02:54:18.882042Z"
    }
   },
   "outputs": [
    {
     "name": "stdout",
     "output_type": "stream",
     "text": [
      "Pablo\n"
     ]
    }
   ],
   "source": [
    "print(my_name) # Pablo is being printed"
   ]
  },
  {
   "cell_type": "markdown",
   "id": "32e326b1",
   "metadata": {},
   "source": [
    "### Commenting Out"
   ]
  },
  {
   "cell_type": "code",
   "execution_count": 1,
   "id": "6da145d1",
   "metadata": {
    "ExecuteTime": {
     "end_time": "2023-01-22T02:53:57.757280Z",
     "start_time": "2023-01-22T02:53:57.750631Z"
    }
   },
   "outputs": [],
   "source": [
    "# p = 'Pablo' # Pablo is being assigned to p\n",
    "name_instructor = 'Pablo' # Pablo is being assigned to name_instructor"
   ]
  },
  {
   "cell_type": "markdown",
   "id": "a559bdfb",
   "metadata": {},
   "source": [
    "### Docstrings\n",
    "\n",
    "1. They are ignored by the python interpreter\n",
    "\n",
    "2. Three literal string\n",
    "\n",
    "3. They are used for functions/modules"
   ]
  },
  {
   "cell_type": "code",
   "execution_count": 4,
   "id": "76f3d2a8",
   "metadata": {
    "ExecuteTime": {
     "end_time": "2023-01-22T03:02:13.292006Z",
     "start_time": "2023-01-22T03:02:13.277391Z"
    }
   },
   "outputs": [
    {
     "data": {
      "text/plain": [
       "'\\nThis function is used to data analysis \\n\\n'"
      ]
     },
     "execution_count": 4,
     "metadata": {},
     "output_type": "execute_result"
    }
   ],
   "source": [
    "\"\"\"\n",
    "This function is used to data analysis \n",
    "\n",
    "\"\"\""
   ]
  },
  {
   "cell_type": "code",
   "execution_count": 9,
   "id": "2746d61a",
   "metadata": {
    "ExecuteTime": {
     "end_time": "2023-01-22T03:05:38.252115Z",
     "start_time": "2023-01-22T03:05:38.219896Z"
    }
   },
   "outputs": [],
   "source": [
    "def greeter(): # function for greeting\n",
    "    \"\"\" This function simply says \n",
    "    hello\n",
    "    \"\"\" \n",
    "    print(\"Hello\")"
   ]
  },
  {
   "cell_type": "code",
   "execution_count": 7,
   "id": "f7fd46b4",
   "metadata": {
    "ExecuteTime": {
     "end_time": "2023-01-22T03:03:32.459480Z",
     "start_time": "2023-01-22T03:03:32.448535Z"
    }
   },
   "outputs": [
    {
     "name": "stdout",
     "output_type": "stream",
     "text": [
      "Hello\n"
     ]
    }
   ],
   "source": [
    "greeter()"
   ]
  },
  {
   "cell_type": "markdown",
   "id": "355d6ca8",
   "metadata": {},
   "source": [
    "### Introduction to Variables"
   ]
  },
  {
   "cell_type": "code",
   "execution_count": 12,
   "id": "e5b41e77",
   "metadata": {
    "ExecuteTime": {
     "end_time": "2023-01-22T03:31:20.591196Z",
     "start_time": "2023-01-22T03:31:20.545234Z"
    }
   },
   "outputs": [],
   "source": [
    "# How to create a variable\n",
    "# Create a label "
   ]
  },
  {
   "cell_type": "code",
   "execution_count": 13,
   "id": "a84e049c",
   "metadata": {
    "ExecuteTime": {
     "end_time": "2023-01-22T03:33:56.259028Z",
     "start_time": "2023-01-22T03:33:56.254550Z"
    }
   },
   "outputs": [],
   "source": [
    "x = 'Number' # x is the variable/label, it is assigned a value 'Number'"
   ]
  },
  {
   "cell_type": "code",
   "execution_count": 14,
   "id": "d69ff9d5",
   "metadata": {
    "ExecuteTime": {
     "end_time": "2023-01-22T03:34:28.278633Z",
     "start_time": "2023-01-22T03:34:28.273400Z"
    }
   },
   "outputs": [
    {
     "name": "stdout",
     "output_type": "stream",
     "text": [
      "Number\n"
     ]
    }
   ],
   "source": [
    "print(x)"
   ]
  },
  {
   "cell_type": "code",
   "execution_count": 15,
   "id": "e58274c5",
   "metadata": {
    "ExecuteTime": {
     "end_time": "2023-01-22T03:41:39.838548Z",
     "start_time": "2023-01-22T03:41:39.830805Z"
    }
   },
   "outputs": [],
   "source": [
    "# Rules to creating labels for variables\n",
    "# 1. Variable names can contain only letters, numbers, and underscores -\n",
    "# Variables can start with letters and underscore but not numbers"
   ]
  },
  {
   "cell_type": "code",
   "execution_count": 16,
   "id": "bcf3c3d8",
   "metadata": {
    "ExecuteTime": {
     "end_time": "2023-01-22T03:43:13.575129Z",
     "start_time": "2023-01-22T03:43:13.570894Z"
    }
   },
   "outputs": [],
   "source": [
    "name_student = 'Jeremiah' # Name of an Altschool Student"
   ]
  },
  {
   "cell_type": "code",
   "execution_count": 17,
   "id": "5ab45044",
   "metadata": {
    "ExecuteTime": {
     "end_time": "2023-01-22T03:44:17.212987Z",
     "start_time": "2023-01-22T03:44:17.178483Z"
    }
   },
   "outputs": [
    {
     "ename": "SyntaxError",
     "evalue": "invalid syntax (747080813.py, line 2)",
     "output_type": "error",
     "traceback": [
      "\u001b[0;36m  File \u001b[0;32m\"/var/folders/sj/vpbs2tm52r3gw6r1vgvt92200000gn/T/ipykernel_49874/747080813.py\"\u001b[0;36m, line \u001b[0;32m2\u001b[0m\n\u001b[0;31m    1name_student = 'Trevor' # Name of an AltSchool Student\u001b[0m\n\u001b[0m     ^\u001b[0m\n\u001b[0;31mSyntaxError\u001b[0m\u001b[0;31m:\u001b[0m invalid syntax\n"
     ]
    }
   ],
   "source": [
    "# Break rule 1 \n",
    "1name_student = 'Trevor' # Name of an AltSchool Student"
   ]
  },
  {
   "cell_type": "code",
   "execution_count": 18,
   "id": "53510e92",
   "metadata": {
    "ExecuteTime": {
     "end_time": "2023-01-22T03:52:41.602925Z",
     "start_time": "2023-01-22T03:52:41.569708Z"
    }
   },
   "outputs": [],
   "source": [
    "# 2. Spaces are not allowed in variable names\n",
    "# Underscores are used to seperate characters/words in variable names"
   ]
  },
  {
   "cell_type": "code",
   "execution_count": 19,
   "id": "786f9b4d",
   "metadata": {
    "ExecuteTime": {
     "end_time": "2023-01-22T03:54:48.804241Z",
     "start_time": "2023-01-22T03:54:48.786958Z"
    }
   },
   "outputs": [
    {
     "ename": "SyntaxError",
     "evalue": "invalid syntax (3278194910.py, line 2)",
     "output_type": "error",
     "traceback": [
      "\u001b[0;36m  File \u001b[0;32m\"/var/folders/sj/vpbs2tm52r3gw6r1vgvt92200000gn/T/ipykernel_49874/3278194910.py\"\u001b[0;36m, line \u001b[0;32m2\u001b[0m\n\u001b[0;31m    name student = \"Yomi\" # The AltSchool student that is whining me\u001b[0m\n\u001b[0m         ^\u001b[0m\n\u001b[0;31mSyntaxError\u001b[0m\u001b[0;31m:\u001b[0m invalid syntax\n"
     ]
    }
   ],
   "source": [
    "# Break rule 2 \n",
    "name student = \"Yomi\" # The AltSchool student that is whining me "
   ]
  },
  {
   "cell_type": "code",
   "execution_count": 10,
   "id": "ec7eabd9",
   "metadata": {
    "ExecuteTime": {
     "end_time": "2023-01-26T02:43:48.030752Z",
     "start_time": "2023-01-26T02:43:47.977212Z"
    }
   },
   "outputs": [],
   "source": [
    "# Part of the 2nd Rule\n",
    "nameStudent = \"Yomi\" # The AltSchool student that is whining me "
   ]
  },
  {
   "cell_type": "code",
   "execution_count": null,
   "id": "adb92d5d",
   "metadata": {},
   "outputs": [],
   "source": [
    "# Rule 3(Guide): Avoid using reserved Python Keywords & function names\n",
    "import \n",
    "print \n",
    "as \n",
    "not \n",
    "or \n",
    "and \n",
    "in \n",
    "is \n",
    "if \n",
    "else \n",
    "elif \n",
    "while \n",
    "for \n",
    "def \n",
    "class \n",
    "try \n",
    "except \n",
    "finally \n",
    "with \n",
    "yield \n",
    "from \n",
    "import \n",
    "as \n",
    "global \n",
    "nonlocal \n",
    "assert \n",
    "del \n",
    "pass \n",
    "continue \n",
    "break \n",
    "raise \n",
    "return \n",
    "lambda \n",
    "with \n",
    "async \n",
    "await "
   ]
  },
  {
   "cell_type": "code",
   "execution_count": 1,
   "id": "5c6e2082",
   "metadata": {
    "ExecuteTime": {
     "end_time": "2023-01-26T03:07:44.216124Z",
     "start_time": "2023-01-26T03:07:44.179540Z"
    }
   },
   "outputs": [
    {
     "data": {
      "text/plain": [
       "15"
      ]
     },
     "execution_count": 1,
     "metadata": {},
     "output_type": "execute_result"
    }
   ],
   "source": [
    "# Method or function call sum \n",
    "num_list = [1, 2, 3, 4, 5] # A list of numbers \n",
    "sum(num_list) # Used the sum function on the list"
   ]
  },
  {
   "cell_type": "code",
   "execution_count": 13,
   "id": "6cd3ce2d",
   "metadata": {
    "ExecuteTime": {
     "end_time": "2023-01-26T03:06:26.706099Z",
     "start_time": "2023-01-26T03:06:26.636220Z"
    }
   },
   "outputs": [],
   "source": [
    "# Create a variable with a name sum\n",
    "# sum = [1, 2, 3, 4, 5] # Assigned the list to the variable sum"
   ]
  },
  {
   "cell_type": "code",
   "execution_count": null,
   "id": "bcdd3967",
   "metadata": {},
   "outputs": [],
   "source": [
    "# Rule 4: Variable names should be descriptive \n",
    "my_country = 'Nigeria' # Nigeria has been assigned to my_country"
   ]
  },
  {
   "cell_type": "code",
   "execution_count": null,
   "id": "03865f5b",
   "metadata": {},
   "outputs": [],
   "source": [
    "# Break the rule \n",
    "m_c = \"Algeria\" # Algeria has been assigned to m_c"
   ]
  },
  {
   "cell_type": "code",
   "execution_count": null,
   "id": "4de6918e",
   "metadata": {},
   "outputs": [],
   "source": [
    "# Rule 5: Do not mix up similar letter and numbers in our variable labels"
   ]
  },
  {
   "cell_type": "code",
   "execution_count": 2,
   "id": "a5473f6d",
   "metadata": {
    "ExecuteTime": {
     "end_time": "2023-01-26T03:17:49.903760Z",
     "start_time": "2023-01-26T03:17:49.859428Z"
    }
   },
   "outputs": [],
   "source": [
    "# Possible errors that can occur with variables \n",
    "message = \"Please log in with your laptops\""
   ]
  },
  {
   "cell_type": "code",
   "execution_count": 3,
   "id": "cb86dd5a",
   "metadata": {
    "ExecuteTime": {
     "end_time": "2023-01-26T03:18:02.530670Z",
     "start_time": "2023-01-26T03:18:02.117423Z"
    }
   },
   "outputs": [
    {
     "ename": "NameError",
     "evalue": "name 'mesage' is not defined",
     "output_type": "error",
     "traceback": [
      "\u001b[0;31m---------------------------------------------------------------------------\u001b[0m",
      "\u001b[0;31mNameError\u001b[0m                                 Traceback (most recent call last)",
      "\u001b[0;32m/var/folders/sj/vpbs2tm52r3gw6r1vgvt92200000gn/T/ipykernel_92519/1473675084.py\u001b[0m in \u001b[0;36m<module>\u001b[0;34m\u001b[0m\n\u001b[0;32m----> 1\u001b[0;31m \u001b[0mprint\u001b[0m\u001b[0;34m(\u001b[0m\u001b[0mmesage\u001b[0m\u001b[0;34m)\u001b[0m\u001b[0;34m\u001b[0m\u001b[0;34m\u001b[0m\u001b[0m\n\u001b[0m",
      "\u001b[0;31mNameError\u001b[0m: name 'mesage' is not defined"
     ]
    }
   ],
   "source": [
    "print(mesage)"
   ]
  },
  {
   "cell_type": "code",
   "execution_count": null,
   "id": "963897d3",
   "metadata": {},
   "outputs": [],
   "source": [
    "# Variables are label \n",
    "# Label variable with the values you have in mind   "
   ]
  },
  {
   "cell_type": "code",
   "execution_count": 5,
   "id": "eb2d6d15",
   "metadata": {
    "ExecuteTime": {
     "end_time": "2023-01-26T03:26:26.755549Z",
     "start_time": "2023-01-26T03:26:26.716664Z"
    }
   },
   "outputs": [
    {
     "name": "stdout",
     "output_type": "stream",
     "text": [
      "Please log in with your laptops\n"
     ]
    }
   ],
   "source": [
    "print(message) "
   ]
  },
  {
   "cell_type": "code",
   "execution_count": 1,
   "id": "0bfbe8e6",
   "metadata": {
    "ExecuteTime": {
     "end_time": "2023-01-26T02:17:24.940904Z",
     "start_time": "2023-01-26T02:17:24.901474Z"
    }
   },
   "outputs": [],
   "source": [
    "# Create a variable \n",
    "# Variable will have extra spaces(Whitespaces)\n",
    "# Take away the whitespaces "
   ]
  },
  {
   "cell_type": "code",
   "execution_count": 2,
   "id": "a97e1bf3",
   "metadata": {
    "ExecuteTime": {
     "end_time": "2023-01-26T02:18:01.552626Z",
     "start_time": "2023-01-26T02:18:01.547412Z"
    }
   },
   "outputs": [],
   "source": [
    "my_location = \"   Kaduna  \""
   ]
  },
  {
   "cell_type": "code",
   "execution_count": 3,
   "id": "abaa4f66",
   "metadata": {
    "ExecuteTime": {
     "end_time": "2023-01-26T02:18:18.420268Z",
     "start_time": "2023-01-26T02:18:18.413985Z"
    }
   },
   "outputs": [
    {
     "name": "stdout",
     "output_type": "stream",
     "text": [
      "   Kaduna  \n"
     ]
    }
   ],
   "source": [
    "print(my_location)"
   ]
  },
  {
   "cell_type": "code",
   "execution_count": 4,
   "id": "59e0b462",
   "metadata": {
    "ExecuteTime": {
     "end_time": "2023-01-26T02:29:08.859517Z",
     "start_time": "2023-01-26T02:29:08.774197Z"
    }
   },
   "outputs": [
    {
     "data": {
      "text/plain": [
       "'hello  apple'"
      ]
     },
     "execution_count": 4,
     "metadata": {},
     "output_type": "execute_result"
    }
   ],
   "source": [
    "sentence = ' hello  apple' # Variable with hello apple assigned\n",
    "sentence.strip() # Using the strip method to remove the whitespaces"
   ]
  },
  {
   "cell_type": "code",
   "execution_count": 5,
   "id": "df39ac25",
   "metadata": {
    "ExecuteTime": {
     "end_time": "2023-01-26T02:34:46.128469Z",
     "start_time": "2023-01-26T02:34:46.108091Z"
    }
   },
   "outputs": [
    {
     "name": "stdout",
     "output_type": "stream",
     "text": [
      "Kaduna       \n"
     ]
    }
   ],
   "source": [
    "my_location = \"Kaduna       \"\n",
    "print(my_location)"
   ]
  },
  {
   "cell_type": "code",
   "execution_count": 6,
   "id": "bec6f25d",
   "metadata": {
    "ExecuteTime": {
     "end_time": "2023-01-26T02:36:05.966087Z",
     "start_time": "2023-01-26T02:36:05.958957Z"
    }
   },
   "outputs": [
    {
     "data": {
      "text/plain": [
       "'Kaduna'"
      ]
     },
     "execution_count": 6,
     "metadata": {},
     "output_type": "execute_result"
    }
   ],
   "source": [
    "my_location.rstrip() # Removes a trailing white space on the right"
   ]
  },
  {
   "cell_type": "code",
   "execution_count": 7,
   "id": "ffa45f75",
   "metadata": {
    "ExecuteTime": {
     "end_time": "2023-01-26T02:36:37.233592Z",
     "start_time": "2023-01-26T02:36:37.223021Z"
    }
   },
   "outputs": [],
   "source": [
    "my_location = \"       Kaduna\" "
   ]
  },
  {
   "cell_type": "code",
   "execution_count": 8,
   "id": "1684951a",
   "metadata": {
    "ExecuteTime": {
     "end_time": "2023-01-26T02:36:42.626810Z",
     "start_time": "2023-01-26T02:36:42.621367Z"
    }
   },
   "outputs": [
    {
     "data": {
      "text/plain": [
       "'       Kaduna'"
      ]
     },
     "execution_count": 8,
     "metadata": {},
     "output_type": "execute_result"
    }
   ],
   "source": [
    "my_location"
   ]
  },
  {
   "cell_type": "code",
   "execution_count": 9,
   "id": "936ae9df",
   "metadata": {
    "ExecuteTime": {
     "end_time": "2023-01-26T02:37:08.388014Z",
     "start_time": "2023-01-26T02:37:08.374331Z"
    }
   },
   "outputs": [
    {
     "data": {
      "text/plain": [
       "'Kaduna'"
      ]
     },
     "execution_count": 9,
     "metadata": {},
     "output_type": "execute_result"
    }
   ],
   "source": [
    "my_location.lstrip() # Removes a trailing white space on the left "
   ]
  },
  {
   "cell_type": "markdown",
   "id": "bbbb9579",
   "metadata": {},
   "source": [
    "### Introduction to Strings "
   ]
  },
  {
   "cell_type": "code",
   "execution_count": null,
   "id": "e2b84052",
   "metadata": {},
   "outputs": [],
   "source": [
    "# Series of letters, a single word, a single letter\n",
    "# They are surrounded by quotes: single, double or triple\n",
    "# Strings is a data type \n",
    "# Strings are immutable "
   ]
  },
  {
   "cell_type": "code",
   "execution_count": 6,
   "id": "8a5ba5bd",
   "metadata": {
    "ExecuteTime": {
     "end_time": "2023-01-26T03:54:30.489013Z",
     "start_time": "2023-01-26T03:54:30.459432Z"
    }
   },
   "outputs": [],
   "source": [
    "# Create a variable\n",
    "my_class = \"Python\""
   ]
  },
  {
   "cell_type": "code",
   "execution_count": 7,
   "id": "170ee079",
   "metadata": {
    "ExecuteTime": {
     "end_time": "2023-01-26T03:54:53.582930Z",
     "start_time": "2023-01-26T03:54:53.507044Z"
    }
   },
   "outputs": [
    {
     "data": {
      "text/plain": [
       "str"
      ]
     },
     "execution_count": 7,
     "metadata": {},
     "output_type": "execute_result"
    }
   ],
   "source": [
    "type(my_class)"
   ]
  },
  {
   "cell_type": "code",
   "execution_count": 9,
   "id": "12a3e450",
   "metadata": {
    "ExecuteTime": {
     "end_time": "2023-01-26T03:57:50.553279Z",
     "start_time": "2023-01-26T03:57:50.536940Z"
    }
   },
   "outputs": [],
   "source": [
    "name = \"Peter\"\n",
    "first_name = \"Peter\"\n",
    "last_name = \"Okwukogu\"\n",
    "alias = \"Pablo\"\n",
    "job = \"\"\"I am a data scientist & \n",
    "Data Science Instructor\"\"\""
   ]
  },
  {
   "cell_type": "code",
   "execution_count": 10,
   "id": "16f09186",
   "metadata": {
    "ExecuteTime": {
     "end_time": "2023-01-26T03:57:59.642626Z",
     "start_time": "2023-01-26T03:57:59.634859Z"
    }
   },
   "outputs": [
    {
     "data": {
      "text/plain": [
       "str"
      ]
     },
     "execution_count": 10,
     "metadata": {},
     "output_type": "execute_result"
    }
   ],
   "source": [
    "type(job)"
   ]
  },
  {
   "cell_type": "code",
   "execution_count": 11,
   "id": "f71d8364",
   "metadata": {
    "ExecuteTime": {
     "end_time": "2023-01-26T04:00:21.853450Z",
     "start_time": "2023-01-26T04:00:21.770635Z"
    }
   },
   "outputs": [
    {
     "ename": "SyntaxError",
     "evalue": "invalid syntax (2221099425.py, line 2)",
     "output_type": "error",
     "traceback": [
      "\u001b[0;36m  File \u001b[0;32m\"/var/folders/sj/vpbs2tm52r3gw6r1vgvt92200000gn/T/ipykernel_92519/2221099425.py\"\u001b[0;36m, line \u001b[0;32m2\u001b[0m\n\u001b[0;31m    rant = 'Miriam's laptop is a mac'\u001b[0m\n\u001b[0m                   ^\u001b[0m\n\u001b[0;31mSyntaxError\u001b[0m\u001b[0;31m:\u001b[0m invalid syntax\n"
     ]
    }
   ],
   "source": [
    "# Why single or double quotes \n",
    "rant = 'Miriam's laptop is a mac' "
   ]
  },
  {
   "cell_type": "code",
   "execution_count": 12,
   "id": "a6ac2ff1",
   "metadata": {
    "ExecuteTime": {
     "end_time": "2023-01-26T04:00:45.698347Z",
     "start_time": "2023-01-26T04:00:45.688121Z"
    }
   },
   "outputs": [],
   "source": [
    "rant = \"Miriam's laptop is a mac\""
   ]
  },
  {
   "cell_type": "code",
   "execution_count": 16,
   "id": "49129d84",
   "metadata": {
    "ExecuteTime": {
     "end_time": "2023-01-26T04:06:00.983129Z",
     "start_time": "2023-01-26T04:05:56.659345Z"
    }
   },
   "outputs": [],
   "source": [
    "# import a data analysis library \n",
    "import pandas as pd # importing a pandas package for analysis"
   ]
  },
  {
   "cell_type": "code",
   "execution_count": 18,
   "id": "b3f71590",
   "metadata": {
    "ExecuteTime": {
     "end_time": "2023-01-26T04:08:42.755706Z",
     "start_time": "2023-01-26T04:08:42.746024Z"
    }
   },
   "outputs": [],
   "source": [
    "data_movies = pd.read_csv(\"/Users/pablo/Desktop/movies.csv\") # Converting the dataset to a dataframe"
   ]
  },
  {
   "cell_type": "code",
   "execution_count": 19,
   "id": "5d89ec03",
   "metadata": {
    "ExecuteTime": {
     "end_time": "2023-01-26T04:08:59.799664Z",
     "start_time": "2023-01-26T04:08:59.725095Z"
    }
   },
   "outputs": [
    {
     "data": {
      "text/html": [
       "<div>\n",
       "<style scoped>\n",
       "    .dataframe tbody tr th:only-of-type {\n",
       "        vertical-align: middle;\n",
       "    }\n",
       "\n",
       "    .dataframe tbody tr th {\n",
       "        vertical-align: top;\n",
       "    }\n",
       "\n",
       "    .dataframe thead th {\n",
       "        text-align: right;\n",
       "    }\n",
       "</style>\n",
       "<table border=\"1\" class=\"dataframe\">\n",
       "  <thead>\n",
       "    <tr style=\"text-align: right;\">\n",
       "      <th></th>\n",
       "      <th>index</th>\n",
       "      <th>movie_name</th>\n",
       "      <th>year_of_release</th>\n",
       "      <th>category</th>\n",
       "      <th>run_time</th>\n",
       "      <th>genre</th>\n",
       "      <th>imdb_rating</th>\n",
       "      <th>votes</th>\n",
       "      <th>gross_total</th>\n",
       "    </tr>\n",
       "  </thead>\n",
       "  <tbody>\n",
       "    <tr>\n",
       "      <th>0</th>\n",
       "      <td>1.0</td>\n",
       "      <td>The Godfather</td>\n",
       "      <td>(1972)</td>\n",
       "      <td>R</td>\n",
       "      <td>175 min</td>\n",
       "      <td>Crime, Drama</td>\n",
       "      <td>9.2</td>\n",
       "      <td>1,860,471</td>\n",
       "      <td>$134.97M</td>\n",
       "    </tr>\n",
       "    <tr>\n",
       "      <th>1</th>\n",
       "      <td>2.0</td>\n",
       "      <td>The Silence of the Lambs</td>\n",
       "      <td>(1991)</td>\n",
       "      <td>R</td>\n",
       "      <td>118 min</td>\n",
       "      <td>Crime, Drama, Thriller</td>\n",
       "      <td>8.6</td>\n",
       "      <td>1,435,344</td>\n",
       "      <td>$130.74M</td>\n",
       "    </tr>\n",
       "    <tr>\n",
       "      <th>2</th>\n",
       "      <td>3.0</td>\n",
       "      <td>Star Wars: Episode V - The Empire Strikes Back</td>\n",
       "      <td>(1980)</td>\n",
       "      <td>PG</td>\n",
       "      <td>124 min</td>\n",
       "      <td>Action, Adventure, Fantasy</td>\n",
       "      <td>8.7</td>\n",
       "      <td>1,294,805</td>\n",
       "      <td>$290.48M</td>\n",
       "    </tr>\n",
       "    <tr>\n",
       "      <th>3</th>\n",
       "      <td>4.0</td>\n",
       "      <td>The Shawshank Redemption</td>\n",
       "      <td>(1994)</td>\n",
       "      <td>R</td>\n",
       "      <td>142 min</td>\n",
       "      <td>Drama</td>\n",
       "      <td>9.3</td>\n",
       "      <td>2,683,302</td>\n",
       "      <td>$28.34M</td>\n",
       "    </tr>\n",
       "    <tr>\n",
       "      <th>4</th>\n",
       "      <td>5.0</td>\n",
       "      <td>The Shining</td>\n",
       "      <td>(1980)</td>\n",
       "      <td>R</td>\n",
       "      <td>146 min</td>\n",
       "      <td>Drama, Horror</td>\n",
       "      <td>8.4</td>\n",
       "      <td>1,025,560</td>\n",
       "      <td>$44.02M</td>\n",
       "    </tr>\n",
       "  </tbody>\n",
       "</table>\n",
       "</div>"
      ],
      "text/plain": [
       "   index                                      movie_name year_of_release  \\\n",
       "0    1.0                                   The Godfather          (1972)   \n",
       "1    2.0                        The Silence of the Lambs          (1991)   \n",
       "2    3.0  Star Wars: Episode V - The Empire Strikes Back          (1980)   \n",
       "3    4.0                        The Shawshank Redemption          (1994)   \n",
       "4    5.0                                     The Shining          (1980)   \n",
       "\n",
       "  category run_time                       genre  imdb_rating      votes  \\\n",
       "0        R  175 min                Crime, Drama          9.2  1,860,471   \n",
       "1        R  118 min      Crime, Drama, Thriller          8.6  1,435,344   \n",
       "2       PG  124 min  Action, Adventure, Fantasy          8.7  1,294,805   \n",
       "3        R  142 min                       Drama          9.3  2,683,302   \n",
       "4        R  146 min               Drama, Horror          8.4  1,025,560   \n",
       "\n",
       "  gross_total  \n",
       "0    $134.97M  \n",
       "1    $130.74M  \n",
       "2    $290.48M  \n",
       "3     $28.34M  \n",
       "4     $44.02M  "
      ]
     },
     "execution_count": 19,
     "metadata": {},
     "output_type": "execute_result"
    }
   ],
   "source": [
    "data_movies.head() "
   ]
  },
  {
   "cell_type": "code",
   "execution_count": 20,
   "id": "9f2812dd",
   "metadata": {
    "ExecuteTime": {
     "end_time": "2023-01-26T04:10:40.219347Z",
     "start_time": "2023-01-26T04:10:40.184509Z"
    }
   },
   "outputs": [
    {
     "name": "stdout",
     "output_type": "stream",
     "text": [
      "<class 'pandas.core.frame.DataFrame'>\n",
      "RangeIndex: 99 entries, 0 to 98\n",
      "Data columns (total 9 columns):\n",
      " #   Column           Non-Null Count  Dtype  \n",
      "---  ------           --------------  -----  \n",
      " 0   index            99 non-null     float64\n",
      " 1   movie_name       99 non-null     object \n",
      " 2   year_of_release  99 non-null     object \n",
      " 3   category         99 non-null     object \n",
      " 4   run_time         99 non-null     object \n",
      " 5   genre            99 non-null     object \n",
      " 6   imdb_rating      99 non-null     float64\n",
      " 7   votes            99 non-null     object \n",
      " 8   gross_total      98 non-null     object \n",
      "dtypes: float64(2), object(7)\n",
      "memory usage: 7.1+ KB\n"
     ]
    }
   ],
   "source": [
    "data_movies.info() "
   ]
  },
  {
   "cell_type": "code",
   "execution_count": null,
   "id": "8080d355",
   "metadata": {},
   "outputs": [],
   "source": []
  },
  {
   "cell_type": "code",
   "execution_count": null,
   "id": "4f6f172d",
   "metadata": {},
   "outputs": [],
   "source": []
  }
 ],
 "metadata": {
  "kernelspec": {
   "display_name": "Python 3",
   "language": "python",
   "name": "python3"
  },
  "language_info": {
   "codemirror_mode": {
    "name": "ipython",
    "version": 3
   },
   "file_extension": ".py",
   "mimetype": "text/x-python",
   "name": "python",
   "nbconvert_exporter": "python",
   "pygments_lexer": "ipython3",
   "version": "3.10.8 (main, Oct 21 2022, 22:22:30) [Clang 14.0.0 (clang-1400.0.29.202)]"
  },
  "vscode": {
   "interpreter": {
    "hash": "b0fa6594d8f4cbf19f97940f81e996739fb7646882a419484c72d19e05852a7e"
   }
  }
 },
 "nbformat": 4,
 "nbformat_minor": 5
}
