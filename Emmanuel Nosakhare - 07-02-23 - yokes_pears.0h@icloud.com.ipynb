{
 "cells": [
  {
   "cell_type": "markdown",
   "id": "7c262626",
   "metadata": {},
   "source": [
    "### Third Task for Introduction to Python (Follow the Instructions diligently)\n",
    "\n",
    "1. Save your notebook file as your name, your date of submission & email. E.g \"Peter Okwukogu - 31-01-23 - pablo@altschoolafrica.com\" - Score = 4 points\n",
    "\n",
    "2. The assignment should be submitted to https://docs.google.com/forms/d/1PY44rjZHcF7sCiVaf7pdtJueWuR63CC_fthUnEdIdq8/edit - Score = 3 points\n",
    "\n",
    "3. Submission Deadline: On or before 4pm, 8th of February, 2023 - Score = 3 points"
   ]
  },
  {
   "cell_type": "markdown",
   "id": "614f2277",
   "metadata": {},
   "source": [
    "1. Instantiate an empty list"
   ]
  },
  {
   "cell_type": "code",
   "execution_count": 1,
   "id": "e6ee50e3",
   "metadata": {},
   "outputs": [],
   "source": [
    "empty_list = []"
   ]
  },
  {
   "cell_type": "markdown",
   "id": "477c435a",
   "metadata": {},
   "source": [
    "2. Read this dataset in this link https://drive.google.com/file/d/1RsvQK2dJ1THNXB8QK4t1kgd_d8-69ahG/view?usp=share_link into a dataframe"
   ]
  },
  {
   "cell_type": "code",
   "execution_count": 6,
   "id": "2da80129",
   "metadata": {},
   "outputs": [],
   "source": [
    "import pandas as pd\n",
    "\n",
    "df = pd.read_csv(\"Best_Movie_by_Year_Netflix.csv\")"
   ]
  },
  {
   "cell_type": "markdown",
   "id": "6d923c34",
   "metadata": {},
   "source": [
    "3. Show the first 5 rows"
   ]
  },
  {
   "cell_type": "code",
   "execution_count": 7,
   "id": "176598d4",
   "metadata": {},
   "outputs": [
    {
     "data": {
      "text/html": [
       "<div>\n",
       "<style scoped>\n",
       "    .dataframe tbody tr th:only-of-type {\n",
       "        vertical-align: middle;\n",
       "    }\n",
       "\n",
       "    .dataframe tbody tr th {\n",
       "        vertical-align: top;\n",
       "    }\n",
       "\n",
       "    .dataframe thead th {\n",
       "        text-align: right;\n",
       "    }\n",
       "</style>\n",
       "<table border=\"1\" class=\"dataframe\">\n",
       "  <thead>\n",
       "    <tr style=\"text-align: right;\">\n",
       "      <th></th>\n",
       "      <th>index</th>\n",
       "      <th>TITLE</th>\n",
       "      <th>RELEASE_YEAR</th>\n",
       "      <th>SCORE</th>\n",
       "      <th>MAIN_GENRE</th>\n",
       "      <th>MAIN_PRODUCTION</th>\n",
       "    </tr>\n",
       "  </thead>\n",
       "  <tbody>\n",
       "    <tr>\n",
       "      <th>0</th>\n",
       "      <td>0</td>\n",
       "      <td>White Christmas</td>\n",
       "      <td>1954</td>\n",
       "      <td>7.5</td>\n",
       "      <td>romance</td>\n",
       "      <td>US</td>\n",
       "    </tr>\n",
       "    <tr>\n",
       "      <th>1</th>\n",
       "      <td>1</td>\n",
       "      <td>The Guns of Navarone</td>\n",
       "      <td>1961</td>\n",
       "      <td>7.5</td>\n",
       "      <td>war</td>\n",
       "      <td>US</td>\n",
       "    </tr>\n",
       "    <tr>\n",
       "      <th>2</th>\n",
       "      <td>2</td>\n",
       "      <td>My Fair Lady</td>\n",
       "      <td>1964</td>\n",
       "      <td>7.8</td>\n",
       "      <td>drama</td>\n",
       "      <td>US</td>\n",
       "    </tr>\n",
       "    <tr>\n",
       "      <th>3</th>\n",
       "      <td>3</td>\n",
       "      <td>Bonnie and Clyde</td>\n",
       "      <td>1967</td>\n",
       "      <td>7.7</td>\n",
       "      <td>drama</td>\n",
       "      <td>US</td>\n",
       "    </tr>\n",
       "    <tr>\n",
       "      <th>4</th>\n",
       "      <td>4</td>\n",
       "      <td>Dirty Harry</td>\n",
       "      <td>1971</td>\n",
       "      <td>7.7</td>\n",
       "      <td>thriller</td>\n",
       "      <td>US</td>\n",
       "    </tr>\n",
       "  </tbody>\n",
       "</table>\n",
       "</div>"
      ],
      "text/plain": [
       "   index                 TITLE  RELEASE_YEAR  SCORE MAIN_GENRE MAIN_PRODUCTION\n",
       "0      0       White Christmas          1954    7.5    romance              US\n",
       "1      1  The Guns of Navarone          1961    7.5        war              US\n",
       "2      2          My Fair Lady          1964    7.8      drama              US\n",
       "3      3      Bonnie and Clyde          1967    7.7      drama              US\n",
       "4      4           Dirty Harry          1971    7.7   thriller              US"
      ]
     },
     "execution_count": 7,
     "metadata": {},
     "output_type": "execute_result"
    }
   ],
   "source": [
    "df.head(5)"
   ]
  },
  {
   "cell_type": "markdown",
   "id": "28b61b73",
   "metadata": {},
   "source": [
    "4. Convert the column 'MAIN_GENRE' into a list"
   ]
  },
  {
   "cell_type": "code",
   "execution_count": 12,
   "id": "4716071d",
   "metadata": {},
   "outputs": [
    {
     "name": "stdout",
     "output_type": "stream",
     "text": [
      "<class 'list'>\n"
     ]
    }
   ],
   "source": [
    "genres = list(df[\"MAIN_GENRE\"])\n",
    "print(type(genres))"
   ]
  },
  {
   "cell_type": "markdown",
   "id": "0120b95d",
   "metadata": {},
   "source": [
    "5. How many elements of 'drama' are in the list created in question 4. "
   ]
  },
  {
   "cell_type": "code",
   "execution_count": 15,
   "id": "694e2e16",
   "metadata": {},
   "outputs": [
    {
     "data": {
      "text/plain": [
       "22"
      ]
     },
     "execution_count": 15,
     "metadata": {},
     "output_type": "execute_result"
    }
   ],
   "source": [
    "genres.count(\"drama\")"
   ]
  }
 ],
 "metadata": {
  "kernelspec": {
   "display_name": "Python 3",
   "language": "python",
   "name": "python3"
  },
  "language_info": {
   "codemirror_mode": {
    "name": "ipython",
    "version": 3
   },
   "file_extension": ".py",
   "mimetype": "text/x-python",
   "name": "python",
   "nbconvert_exporter": "python",
   "pygments_lexer": "ipython3",
   "version": "3.8.10"
  },
  "vscode": {
   "interpreter": {
    "hash": "9179d63e122556c6756b68a7ef958f74b99cc51ba44ce56116c8db8491528148"
   }
  }
 },
 "nbformat": 4,
 "nbformat_minor": 5
}
