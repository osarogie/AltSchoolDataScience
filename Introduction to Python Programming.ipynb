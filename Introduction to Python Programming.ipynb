{
 "cells": [
  {
   "cell_type": "markdown",
   "id": "0e267c85",
   "metadata": {},
   "source": [
    "### Introduction to Python"
   ]
  },
  {
   "cell_type": "markdown",
   "id": "b9c0aefc",
   "metadata": {},
   "source": [
    "### Starting with Documentation"
   ]
  },
  {
   "cell_type": "code",
   "execution_count": null,
   "id": "8b8293e8",
   "metadata": {},
   "outputs": [],
   "source": [
    "# Comments - Definition of comments:\n",
    "#   - A comment is a line of text that begins with a # character.\n",
    "#   - Comments are ignored by the interpreter.\n",
    "#   - Comments can be placed anywhere in a program, but are usually placed at the end."
   ]
  },
  {
   "cell_type": "code",
   "execution_count": null,
   "id": "d8981453",
   "metadata": {},
   "outputs": [],
   "source": [
    "my_name = 'Pablo' # Pablo is being assigned to my_name "
   ]
  },
  {
   "cell_type": "code",
   "execution_count": 2,
   "id": "4ac56dd8",
   "metadata": {
    "ExecuteTime": {
     "end_time": "2023-01-22T02:54:04.281441Z",
     "start_time": "2023-01-22T02:54:04.263276Z"
    }
   },
   "outputs": [],
   "source": [
    "# Pablo is being assigned to my_name <--- bad comment\n",
    "my_name = 'Pablo' "
   ]
  },
  {
   "cell_type": "code",
   "execution_count": 3,
   "id": "bc129cb7",
   "metadata": {
    "ExecuteTime": {
     "end_time": "2023-01-22T02:54:18.938336Z",
     "start_time": "2023-01-22T02:54:18.882042Z"
    }
   },
   "outputs": [
    {
     "name": "stdout",
     "output_type": "stream",
     "text": [
      "Pablo\n"
     ]
    }
   ],
   "source": [
    "print(my_name) # Pablo is being printed"
   ]
  },
  {
   "cell_type": "markdown",
   "id": "32e326b1",
   "metadata": {},
   "source": [
    "### Commenting Out"
   ]
  },
  {
   "cell_type": "code",
   "execution_count": 1,
   "id": "6da145d1",
   "metadata": {
    "ExecuteTime": {
     "end_time": "2023-01-22T02:53:57.757280Z",
     "start_time": "2023-01-22T02:53:57.750631Z"
    }
   },
   "outputs": [],
   "source": [
    "# p = 'Pablo' # Pablo is being assigned to p\n",
    "name_instructor = 'Pablo' # Pablo is being assigned to name_instructor"
   ]
  },
  {
   "cell_type": "markdown",
   "id": "a559bdfb",
   "metadata": {},
   "source": [
    "### Docstrings\n",
    "\n",
    "1. They are ignored by the python interpreter\n",
    "\n",
    "2. Three literal string\n",
    "\n",
    "3. They are used for functions/modules"
   ]
  },
  {
   "cell_type": "code",
   "execution_count": 4,
   "id": "76f3d2a8",
   "metadata": {
    "ExecuteTime": {
     "end_time": "2023-01-22T03:02:13.292006Z",
     "start_time": "2023-01-22T03:02:13.277391Z"
    }
   },
   "outputs": [
    {
     "data": {
      "text/plain": [
       "'\\nThis function is used to data analysis \\n\\n'"
      ]
     },
     "execution_count": 4,
     "metadata": {},
     "output_type": "execute_result"
    }
   ],
   "source": [
    "\"\"\"\n",
    "This function is used to data analysis \n",
    "\n",
    "\"\"\""
   ]
  },
  {
   "cell_type": "code",
   "execution_count": 9,
   "id": "2746d61a",
   "metadata": {
    "ExecuteTime": {
     "end_time": "2023-01-22T03:05:38.252115Z",
     "start_time": "2023-01-22T03:05:38.219896Z"
    }
   },
   "outputs": [],
   "source": [
    "def greeter(): # function for greeting\n",
    "    \"\"\" This function simply says \n",
    "    hello\n",
    "    \"\"\" \n",
    "    print(\"Hello\")"
   ]
  },
  {
   "cell_type": "code",
   "execution_count": 7,
   "id": "f7fd46b4",
   "metadata": {
    "ExecuteTime": {
     "end_time": "2023-01-22T03:03:32.459480Z",
     "start_time": "2023-01-22T03:03:32.448535Z"
    }
   },
   "outputs": [
    {
     "name": "stdout",
     "output_type": "stream",
     "text": [
      "Hello\n"
     ]
    }
   ],
   "source": [
    "greeter()"
   ]
  },
  {
   "cell_type": "markdown",
   "id": "355d6ca8",
   "metadata": {},
   "source": [
    "### Introduction to Variables"
   ]
  },
  {
   "cell_type": "code",
   "execution_count": 12,
   "id": "e5b41e77",
   "metadata": {
    "ExecuteTime": {
     "end_time": "2023-01-22T03:31:20.591196Z",
     "start_time": "2023-01-22T03:31:20.545234Z"
    }
   },
   "outputs": [],
   "source": [
    "# How to create a variable\n",
    "# Create a label "
   ]
  },
  {
   "cell_type": "code",
   "execution_count": 13,
   "id": "a84e049c",
   "metadata": {
    "ExecuteTime": {
     "end_time": "2023-01-22T03:33:56.259028Z",
     "start_time": "2023-01-22T03:33:56.254550Z"
    }
   },
   "outputs": [],
   "source": [
    "x = 'Number' # x is the variable/label, it is assigned a value 'Number'"
   ]
  },
  {
   "cell_type": "code",
   "execution_count": 14,
   "id": "d69ff9d5",
   "metadata": {
    "ExecuteTime": {
     "end_time": "2023-01-22T03:34:28.278633Z",
     "start_time": "2023-01-22T03:34:28.273400Z"
    }
   },
   "outputs": [
    {
     "name": "stdout",
     "output_type": "stream",
     "text": [
      "Number\n"
     ]
    }
   ],
   "source": [
    "print(x)"
   ]
  },
  {
   "cell_type": "code",
   "execution_count": 15,
   "id": "e58274c5",
   "metadata": {
    "ExecuteTime": {
     "end_time": "2023-01-22T03:41:39.838548Z",
     "start_time": "2023-01-22T03:41:39.830805Z"
    }
   },
   "outputs": [],
   "source": [
    "# Rules to creating labels for variables\n",
    "# 1. Variable names can contain only letters, numbers, and underscores -\n",
    "# Variables can start with letters and underscore but not numbers"
   ]
  },
  {
   "cell_type": "code",
   "execution_count": 16,
   "id": "bcf3c3d8",
   "metadata": {
    "ExecuteTime": {
     "end_time": "2023-01-22T03:43:13.575129Z",
     "start_time": "2023-01-22T03:43:13.570894Z"
    }
   },
   "outputs": [],
   "source": [
    "name_student = 'Jeremiah' # Name of an Altschool Student"
   ]
  },
  {
   "cell_type": "code",
   "execution_count": 17,
   "id": "5ab45044",
   "metadata": {
    "ExecuteTime": {
     "end_time": "2023-01-22T03:44:17.212987Z",
     "start_time": "2023-01-22T03:44:17.178483Z"
    }
   },
   "outputs": [
    {
     "ename": "SyntaxError",
     "evalue": "invalid syntax (747080813.py, line 2)",
     "output_type": "error",
     "traceback": [
      "\u001b[0;36m  File \u001b[0;32m\"/var/folders/sj/vpbs2tm52r3gw6r1vgvt92200000gn/T/ipykernel_49874/747080813.py\"\u001b[0;36m, line \u001b[0;32m2\u001b[0m\n\u001b[0;31m    1name_student = 'Trevor' # Name of an AltSchool Student\u001b[0m\n\u001b[0m     ^\u001b[0m\n\u001b[0;31mSyntaxError\u001b[0m\u001b[0;31m:\u001b[0m invalid syntax\n"
     ]
    }
   ],
   "source": [
    "# Break rule 1 \n",
    "1name_student = 'Trevor' # Name of an AltSchool Student"
   ]
  },
  {
   "cell_type": "code",
   "execution_count": 18,
   "id": "53510e92",
   "metadata": {
    "ExecuteTime": {
     "end_time": "2023-01-22T03:52:41.602925Z",
     "start_time": "2023-01-22T03:52:41.569708Z"
    }
   },
   "outputs": [],
   "source": [
    "# 2. Spaces are not allowed in variable names\n",
    "# Underscores are used to seperate characters/words in variable names"
   ]
  },
  {
   "cell_type": "code",
   "execution_count": 19,
   "id": "786f9b4d",
   "metadata": {
    "ExecuteTime": {
     "end_time": "2023-01-22T03:54:48.804241Z",
     "start_time": "2023-01-22T03:54:48.786958Z"
    }
   },
   "outputs": [
    {
     "ename": "SyntaxError",
     "evalue": "invalid syntax (3278194910.py, line 2)",
     "output_type": "error",
     "traceback": [
      "\u001b[0;36m  File \u001b[0;32m\"/var/folders/sj/vpbs2tm52r3gw6r1vgvt92200000gn/T/ipykernel_49874/3278194910.py\"\u001b[0;36m, line \u001b[0;32m2\u001b[0m\n\u001b[0;31m    name student = \"Yomi\" # The AltSchool student that is whining me\u001b[0m\n\u001b[0m         ^\u001b[0m\n\u001b[0;31mSyntaxError\u001b[0m\u001b[0;31m:\u001b[0m invalid syntax\n"
     ]
    }
   ],
   "source": [
    "# Break rule 2 \n",
    "name student = \"Yomi\" # The AltSchool student that is whining me "
   ]
  },
  {
   "cell_type": "code",
   "execution_count": null,
   "id": "0bfbe8e6",
   "metadata": {},
   "outputs": [],
   "source": []
  }
 ],
 "metadata": {
  "kernelspec": {
   "display_name": "Python 3 (ipykernel)",
   "language": "python",
   "name": "python3"
  },
  "language_info": {
   "codemirror_mode": {
    "name": "ipython",
    "version": 3
   },
   "file_extension": ".py",
   "mimetype": "text/x-python",
   "name": "python",
   "nbconvert_exporter": "python",
   "pygments_lexer": "ipython3",
   "version": "3.9.13"
  }
 },
 "nbformat": 4,
 "nbformat_minor": 5
}
