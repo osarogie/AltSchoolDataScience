{
 "cells": [
  {
   "attachments": {},
   "cell_type": "markdown",
   "id": "ebc3f85a",
   "metadata": {},
   "source": [
    "## Second Assessment Instructions\n",
    "\n",
    "1. Submission Date: 29th of May, 2023\n",
    "\n",
    "2. Submission Link: https://bit.ly/second_assessment_DS\n",
    "\n",
    "3. Your Jupyter Notebook file should be your name.\n",
    "\n",
    "4. You must Submit Jupyter Notebook, not a PDF file, not a .py file, etc\n"
   ]
  },
  {
   "attachments": {},
   "cell_type": "markdown",
   "id": "cd347577",
   "metadata": {
    "ExecuteTime": {
     "end_time": "2023-05-17T04:02:56.455969Z",
     "start_time": "2023-05-17T04:02:56.445210Z"
    }
   },
   "source": [
    "### 1st Question\n",
    "\n",
    "1. Read the dataset into DataFrame\n",
    "\n",
    "2. Display the first 5 rows\n",
    "\n",
    "3. Display the number of rows and columns\n",
    "\n",
    "4. Display a conscise summary of the dataframe\n",
    "\n",
    "5. Display the summary statistics of the numerical data types\n",
    "\n",
    "Score = 10\n"
   ]
  },
  {
   "cell_type": "code",
   "execution_count": 4,
   "id": "a22b17c4",
   "metadata": {},
   "outputs": [
    {
     "ename": "ImportError",
     "evalue": "Unable to import required dependencies:\nnumpy: \n\nIMPORTANT: PLEASE READ THIS FOR ADVICE ON HOW TO SOLVE THIS ISSUE!\n\nImporting the numpy C-extensions failed. This error can happen for\nmany reasons, often due to issues with your setup or how NumPy was\ninstalled.\n\nWe have compiled some common reasons and troubleshooting tips at:\n\n    https://numpy.org/devdocs/user/troubleshooting-importerror.html\n\nPlease note and check the following:\n\n  * The Python version is: Python3.11 from \"/Users/osarogie/Documents/Data Science/venv/bin/python\"\n  * The NumPy version is: \"1.24.2\"\n\nand make sure that they are the versions you expect.\nPlease carefully study the documentation linked above for further help.\n\nOriginal error was: No module named 'numpy.core._multiarray_umath'\n",
     "output_type": "error",
     "traceback": [
      "\u001b[0;31m---------------------------------------------------------------------------\u001b[0m",
      "\u001b[0;31mImportError\u001b[0m                               Traceback (most recent call last)",
      "Cell \u001b[0;32mIn[4], line 1\u001b[0m\n\u001b[0;32m----> 1\u001b[0m \u001b[39mimport\u001b[39;00m \u001b[39mpandas\u001b[39;00m \u001b[39mas\u001b[39;00m \u001b[39mpd\u001b[39;00m\n\u001b[1;32m      3\u001b[0m df \u001b[39m=\u001b[39m pd\u001b[39m.\u001b[39mread_csv(\u001b[39m\"\u001b[39m\u001b[39mhouse_prices.csv\u001b[39m\u001b[39m\"\u001b[39m)\n",
      "File \u001b[0;32m~/Documents/Data Science/venv/lib/python3.11/site-packages/pandas/__init__.py:16\u001b[0m\n\u001b[1;32m     13\u001b[0m         _missing_dependencies\u001b[39m.\u001b[39mappend(\u001b[39mf\u001b[39m\u001b[39m\"\u001b[39m\u001b[39m{\u001b[39;00m_dependency\u001b[39m}\u001b[39;00m\u001b[39m: \u001b[39m\u001b[39m{\u001b[39;00m_e\u001b[39m}\u001b[39;00m\u001b[39m\"\u001b[39m)\n\u001b[1;32m     15\u001b[0m \u001b[39mif\u001b[39;00m _missing_dependencies:\n\u001b[0;32m---> 16\u001b[0m     \u001b[39mraise\u001b[39;00m \u001b[39mImportError\u001b[39;00m(\n\u001b[1;32m     17\u001b[0m         \u001b[39m\"\u001b[39m\u001b[39mUnable to import required dependencies:\u001b[39m\u001b[39m\\n\u001b[39;00m\u001b[39m\"\u001b[39m \u001b[39m+\u001b[39m \u001b[39m\"\u001b[39m\u001b[39m\\n\u001b[39;00m\u001b[39m\"\u001b[39m\u001b[39m.\u001b[39mjoin(_missing_dependencies)\n\u001b[1;32m     18\u001b[0m     )\n\u001b[1;32m     19\u001b[0m \u001b[39mdel\u001b[39;00m _hard_dependencies, _dependency, _missing_dependencies\n\u001b[1;32m     21\u001b[0m \u001b[39m# numpy compat\u001b[39;00m\n",
      "\u001b[0;31mImportError\u001b[0m: Unable to import required dependencies:\nnumpy: \n\nIMPORTANT: PLEASE READ THIS FOR ADVICE ON HOW TO SOLVE THIS ISSUE!\n\nImporting the numpy C-extensions failed. This error can happen for\nmany reasons, often due to issues with your setup or how NumPy was\ninstalled.\n\nWe have compiled some common reasons and troubleshooting tips at:\n\n    https://numpy.org/devdocs/user/troubleshooting-importerror.html\n\nPlease note and check the following:\n\n  * The Python version is: Python3.11 from \"/Users/osarogie/Documents/Data Science/venv/bin/python\"\n  * The NumPy version is: \"1.24.2\"\n\nand make sure that they are the versions you expect.\nPlease carefully study the documentation linked above for further help.\n\nOriginal error was: No module named 'numpy.core._multiarray_umath'\n"
     ]
    }
   ],
   "source": [
    "import pandas as pd\n",
    "\n",
    "df = pd.read_csv(\"house_prices.csv\")"
   ]
  },
  {
   "attachments": {},
   "cell_type": "markdown",
   "id": "641301d7",
   "metadata": {},
   "source": [
    "## 2nd Question\n",
    "\n",
    "1. Extract data from The building class equal to or greater than 50 - 10 points\n",
    "\n",
    "2. Intelligently deal with the missing values in Type of alley access - 10 points\n",
    "\n",
    "3. Create two new columns named \"BuiltBefore1980 & BuiltAfter1980\", these columns should contain boolean values: True, if it was built before 1980 and False if it wasn't & True, if it was built after 1980 and False if it wasn't. - 10 points\n",
    "\n",
    "4. Encode the 'Month Sold' column with the proper months of the year. - 10 points\n",
    "\n",
    "5. Extract data of houses that where sold from 2006 to 2010 - 10 points\n",
    "\n",
    "6. Extract data of houses whose original construction date starts from 1981 - 10 points\n",
    "\n",
    "7. Finally, look at the feature \"Overall condition rating\", intuitively encode the ratings - 10 points\n"
   ]
  },
  {
   "cell_type": "code",
   "execution_count": null,
   "id": "67091dc0",
   "metadata": {},
   "outputs": [],
   "source": []
  }
 ],
 "metadata": {
  "kernelspec": {
   "display_name": "Python 3 (ipykernel)",
   "language": "python",
   "name": "python3"
  },
  "language_info": {
   "codemirror_mode": {
    "name": "ipython",
    "version": 3
   },
   "file_extension": ".py",
   "mimetype": "text/x-python",
   "name": "python",
   "nbconvert_exporter": "python",
   "pygments_lexer": "ipython3",
   "version": "3.9.16"
  }
 },
 "nbformat": 4,
 "nbformat_minor": 5
}
