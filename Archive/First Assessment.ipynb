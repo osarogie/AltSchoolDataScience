{
 "cells": [
  {
   "cell_type": "markdown",
   "id": "7d9fdc0f",
   "metadata": {},
   "source": [
    "## First Assessment Instructions \n",
    "\n",
    "1. Submission Date: 3rd of May, 2023\n",
    "\n",
    "2. Submission Link: https://bit.ly/first_assessment_DS\n",
    "\n",
    "3. You must Submit Jupyter Notebook, not a PDF file, not a .py file, etc"
   ]
  },
  {
   "cell_type": "markdown",
   "id": "aaeb4c33",
   "metadata": {},
   "source": [
    "### 1st Question\n",
    "1. Download this dataset - https://bit.ly/read_dataset\n",
    "\n",
    "2. Read the dataset into DataFrame\n",
    "\n",
    "3. Display the first 5 rows\n",
    "\n",
    "4. Score = 10"
   ]
  },
  {
   "cell_type": "markdown",
   "id": "137d2bde",
   "metadata": {},
   "source": [
    "### 2nd Question \n",
    "\n",
    "1. Print a concise summary of the DataFrame\n",
    "\n",
    "2. Score = 10"
   ]
  },
  {
   "cell_type": "markdown",
   "id": "1f441093",
   "metadata": {},
   "source": [
    "### 3rd Question\n",
    "\n",
    "1. The display from the second question will show all the columns have identical data types\n",
    "\n",
    "2. Fix this by converting the column data types appropriately\n",
    "\n",
    "3. The data types should appropriately fall within the following categories: Qualitative, Discrete quantitative & Continuous quantitative \n",
    "\n",
    "4. Score = 10"
   ]
  },
  {
   "cell_type": "code",
   "execution_count": null,
   "id": "b1dc7949",
   "metadata": {},
   "outputs": [],
   "source": []
  }
 ],
 "metadata": {
  "kernelspec": {
   "display_name": "Python 3 (ipykernel)",
   "language": "python",
   "name": "python3"
  },
  "language_info": {
   "codemirror_mode": {
    "name": "ipython",
    "version": 3
   },
   "file_extension": ".py",
   "mimetype": "text/x-python",
   "name": "python",
   "nbconvert_exporter": "python",
   "pygments_lexer": "ipython3",
   "version": "3.9.16"
  }
 },
 "nbformat": 4,
 "nbformat_minor": 5
}
