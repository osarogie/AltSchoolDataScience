{
 "cells": [
  {
   "cell_type": "markdown",
   "id": "282ea12f",
   "metadata": {},
   "source": [
    "### Second Task for Introduction to Python (Follow the Instructions diligently)\n",
    "\n",
    "1. Save your notebook file as your name, your date of submission & email. E.g \"Peter Okwukogu - 31-01-23 - pablo@altschoolafrica.com\" - Score = 4 points\n",
    "\n",
    "2. The assignment should be submitted to https://bit.ly/task-two-01-4pm - Score = 3 points\n",
    "\n",
    "3. Submission Deadline: On or before 4pm, 1st of February, 2023 - Score = 3 points"
   ]
  },
  {
   "cell_type": "markdown",
   "id": "8ee29105",
   "metadata": {},
   "source": [
    "1. Create a list containing 15 African names - Score = 7 points\n",
    "\n",
    "    - This list should be named 'african_names'- Score = 3 points"
   ]
  },
  {
   "cell_type": "code",
   "execution_count": 15,
   "id": "d6f24ee4",
   "metadata": {},
   "outputs": [
    {
     "name": "stdout",
     "output_type": "stream",
     "text": [
      "15 African Names\n",
      "['Adeola', 'Osarogie', 'Tchidi', 'Boman', 'Ige', 'Mugabe', 'Kwaku', 'Kofi', 'Effiong', 'Jabari', 'Osazemen', 'Esan', 'Dipo', 'Ndanusa', 'Nwabueze']\n"
     ]
    }
   ],
   "source": [
    "african_names = [\n",
    "  \"Adeola\",\n",
    "  \"Osarogie\",\n",
    "  \"Tchidi\",\n",
    "  \"Boman\",\n",
    "  \"Ige\",\n",
    "  \"Mugabe\",\n",
    "  \"Kwaku\",\n",
    "  \"Kofi\",\n",
    "  \"Effiong\",\n",
    "  \"Jabari\",\n",
    "  \"Osazemen\",\n",
    "  \"Esan\",\n",
    "  \"Dipo\",\n",
    "  \"Ndanusa\",\n",
    "  \"Nwabueze\",\n",
    "]\n",
    "\n",
    "print(f\"{len(african_names)} African Names\")\n",
    "print(african_names)"
   ]
  },
  {
   "cell_type": "markdown",
   "id": "11633e3a",
   "metadata": {},
   "source": [
    "2. Create a second list containing 15 numbers - Score = 7 points\n",
    "\n",
    "- This list should be named 'age'- Score = 3 points"
   ]
  },
  {
   "cell_type": "code",
   "execution_count": 19,
   "id": "77606f44",
   "metadata": {},
   "outputs": [
    {
     "name": "stdout",
     "output_type": "stream",
     "text": [
      "15 Ages\n",
      "[26, 20, 1, 18, 45, 105, 44, 20, 26, 32, 49, 92, 80, 2, 4]\n"
     ]
    }
   ],
   "source": [
    "age = [\n",
    "  26,\n",
    "  20,\n",
    "  1,\n",
    "  18,\n",
    "  45,\n",
    "  105,\n",
    "  44,\n",
    "  20,\n",
    "  26,\n",
    "  32,\n",
    "  49,\n",
    "  92,\n",
    "  80,\n",
    "  2,\n",
    "  4,\n",
    "]\n",
    "\n",
    "print(f\"{len(age)} Ages\")\n",
    "print(age)"
   ]
  },
  {
   "cell_type": "markdown",
   "id": "93936b2e",
   "metadata": {},
   "source": [
    "3. Create a Pandas dataframe using the lists created in 1 and 2, the column names should be the name of each list - Score = 7 points\n",
    "\n",
    "- The dataframe should be named 'africans_data' - Score = 3 points"
   ]
  },
  {
   "cell_type": "code",
   "execution_count": 20,
   "id": "6763dc77",
   "metadata": {},
   "outputs": [
    {
     "data": {
      "text/html": [
       "<div>\n",
       "<style scoped>\n",
       "    .dataframe tbody tr th:only-of-type {\n",
       "        vertical-align: middle;\n",
       "    }\n",
       "\n",
       "    .dataframe tbody tr th {\n",
       "        vertical-align: top;\n",
       "    }\n",
       "\n",
       "    .dataframe thead th {\n",
       "        text-align: right;\n",
       "    }\n",
       "</style>\n",
       "<table border=\"1\" class=\"dataframe\">\n",
       "  <thead>\n",
       "    <tr style=\"text-align: right;\">\n",
       "      <th></th>\n",
       "      <th>african_names</th>\n",
       "      <th>age</th>\n",
       "    </tr>\n",
       "  </thead>\n",
       "  <tbody>\n",
       "    <tr>\n",
       "      <th>0</th>\n",
       "      <td>Adeola</td>\n",
       "      <td>26</td>\n",
       "    </tr>\n",
       "    <tr>\n",
       "      <th>1</th>\n",
       "      <td>Osarogie</td>\n",
       "      <td>20</td>\n",
       "    </tr>\n",
       "    <tr>\n",
       "      <th>2</th>\n",
       "      <td>Tchidi</td>\n",
       "      <td>1</td>\n",
       "    </tr>\n",
       "    <tr>\n",
       "      <th>3</th>\n",
       "      <td>Boman</td>\n",
       "      <td>18</td>\n",
       "    </tr>\n",
       "    <tr>\n",
       "      <th>4</th>\n",
       "      <td>Ige</td>\n",
       "      <td>45</td>\n",
       "    </tr>\n",
       "    <tr>\n",
       "      <th>5</th>\n",
       "      <td>Mugabe</td>\n",
       "      <td>105</td>\n",
       "    </tr>\n",
       "    <tr>\n",
       "      <th>6</th>\n",
       "      <td>Kwaku</td>\n",
       "      <td>44</td>\n",
       "    </tr>\n",
       "    <tr>\n",
       "      <th>7</th>\n",
       "      <td>Kofi</td>\n",
       "      <td>20</td>\n",
       "    </tr>\n",
       "    <tr>\n",
       "      <th>8</th>\n",
       "      <td>Effiong</td>\n",
       "      <td>26</td>\n",
       "    </tr>\n",
       "    <tr>\n",
       "      <th>9</th>\n",
       "      <td>Jabari</td>\n",
       "      <td>32</td>\n",
       "    </tr>\n",
       "    <tr>\n",
       "      <th>10</th>\n",
       "      <td>Osazemen</td>\n",
       "      <td>49</td>\n",
       "    </tr>\n",
       "    <tr>\n",
       "      <th>11</th>\n",
       "      <td>Esan</td>\n",
       "      <td>92</td>\n",
       "    </tr>\n",
       "    <tr>\n",
       "      <th>12</th>\n",
       "      <td>Dipo</td>\n",
       "      <td>80</td>\n",
       "    </tr>\n",
       "    <tr>\n",
       "      <th>13</th>\n",
       "      <td>Ndanusa</td>\n",
       "      <td>2</td>\n",
       "    </tr>\n",
       "    <tr>\n",
       "      <th>14</th>\n",
       "      <td>Nwabueze</td>\n",
       "      <td>4</td>\n",
       "    </tr>\n",
       "  </tbody>\n",
       "</table>\n",
       "</div>"
      ],
      "text/plain": [
       "   african_names  age\n",
       "0         Adeola   26\n",
       "1       Osarogie   20\n",
       "2         Tchidi    1\n",
       "3          Boman   18\n",
       "4            Ige   45\n",
       "5         Mugabe  105\n",
       "6          Kwaku   44\n",
       "7           Kofi   20\n",
       "8        Effiong   26\n",
       "9         Jabari   32\n",
       "10      Osazemen   49\n",
       "11          Esan   92\n",
       "12          Dipo   80\n",
       "13       Ndanusa    2\n",
       "14      Nwabueze    4"
      ]
     },
     "execution_count": 20,
     "metadata": {},
     "output_type": "execute_result"
    }
   ],
   "source": [
    "import pandas as pd\n",
    "\n",
    "africans_data = pd.DataFrame({\n",
    "  'african_names': african_names,\n",
    "  'age': age,\n",
    "})\n",
    "\n",
    "africans_data"
   ]
  },
  {
   "cell_type": "markdown",
   "id": "523f8bec",
   "metadata": {},
   "source": [
    "4. Read the first 5 rows of the dataframe using a pandas method - Score = 10 points"
   ]
  },
  {
   "cell_type": "code",
   "execution_count": 21,
   "id": "dcc890e5",
   "metadata": {},
   "outputs": [
    {
     "data": {
      "text/html": [
       "<div>\n",
       "<style scoped>\n",
       "    .dataframe tbody tr th:only-of-type {\n",
       "        vertical-align: middle;\n",
       "    }\n",
       "\n",
       "    .dataframe tbody tr th {\n",
       "        vertical-align: top;\n",
       "    }\n",
       "\n",
       "    .dataframe thead th {\n",
       "        text-align: right;\n",
       "    }\n",
       "</style>\n",
       "<table border=\"1\" class=\"dataframe\">\n",
       "  <thead>\n",
       "    <tr style=\"text-align: right;\">\n",
       "      <th></th>\n",
       "      <th>african_names</th>\n",
       "      <th>age</th>\n",
       "    </tr>\n",
       "  </thead>\n",
       "  <tbody>\n",
       "    <tr>\n",
       "      <th>0</th>\n",
       "      <td>Adeola</td>\n",
       "      <td>26</td>\n",
       "    </tr>\n",
       "    <tr>\n",
       "      <th>1</th>\n",
       "      <td>Osarogie</td>\n",
       "      <td>20</td>\n",
       "    </tr>\n",
       "    <tr>\n",
       "      <th>2</th>\n",
       "      <td>Tchidi</td>\n",
       "      <td>1</td>\n",
       "    </tr>\n",
       "    <tr>\n",
       "      <th>3</th>\n",
       "      <td>Boman</td>\n",
       "      <td>18</td>\n",
       "    </tr>\n",
       "    <tr>\n",
       "      <th>4</th>\n",
       "      <td>Ige</td>\n",
       "      <td>45</td>\n",
       "    </tr>\n",
       "  </tbody>\n",
       "</table>\n",
       "</div>"
      ],
      "text/plain": [
       "  african_names  age\n",
       "0        Adeola   26\n",
       "1      Osarogie   20\n",
       "2        Tchidi    1\n",
       "3         Boman   18\n",
       "4           Ige   45"
      ]
     },
     "execution_count": 21,
     "metadata": {},
     "output_type": "execute_result"
    }
   ],
   "source": [
    "africans_data.head(5)"
   ]
  },
  {
   "cell_type": "markdown",
   "id": "618c79fe",
   "metadata": {},
   "source": [
    "### Scores\n",
    "\n",
    "1. Instructions = 10 points\n",
    "\n",
    "2. Question 1 = 10 points\n",
    "\n",
    "3. Question 2 = 10 points\n",
    "\n",
    "4. Question 3 = 10 points \n",
    "\n",
    "5. Question 4 = 10 points \n",
    "\n",
    "### Total Score = 50 points"
   ]
  }
 ],
 "metadata": {
  "kernelspec": {
   "display_name": "tensorflow",
   "language": "python",
   "name": "python3"
  },
  "language_info": {
   "codemirror_mode": {
    "name": "ipython",
    "version": 3
   },
   "file_extension": ".py",
   "mimetype": "text/x-python",
   "name": "python",
   "nbconvert_exporter": "python",
   "pygments_lexer": "ipython3",
   "version": "3.8.10"
  },
  "vscode": {
   "interpreter": {
    "hash": "9179d63e122556c6756b68a7ef958f74b99cc51ba44ce56116c8db8491528148"
   }
  }
 },
 "nbformat": 4,
 "nbformat_minor": 5
}
