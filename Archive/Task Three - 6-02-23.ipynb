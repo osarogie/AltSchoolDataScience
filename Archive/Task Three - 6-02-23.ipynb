{
 "cells": [
  {
   "cell_type": "markdown",
   "id": "7c262626",
   "metadata": {},
   "source": [
    "### Third Task for Introduction to Python (Follow the Instructions diligently)\n",
    "\n",
    "1. Save your notebook file as your name, your date of submission & email. E.g \"Peter Okwukogu - 31-01-23 - pablo@altschoolafrica.com\" - Score = 4 points\n",
    "\n",
    "2. The assignment should be submitted to https://docs.google.com/forms/d/1PY44rjZHcF7sCiVaf7pdtJueWuR63CC_fthUnEdIdq8/edit - Score = 3 points\n",
    "\n",
    "3. Submission Deadline: On or before 4pm, 8th of February, 2023 - Score = 3 points"
   ]
  },
  {
   "cell_type": "markdown",
   "id": "614f2277",
   "metadata": {},
   "source": [
    "1. Instantiate an empty list"
   ]
  },
  {
   "cell_type": "markdown",
   "id": "477c435a",
   "metadata": {},
   "source": [
    "2. Read this dataset in this link https://drive.google.com/file/d/1RsvQK2dJ1THNXB8QK4t1kgd_d8-69ahG/view?usp=share_link into a dataframe"
   ]
  },
  {
   "cell_type": "markdown",
   "id": "6d923c34",
   "metadata": {},
   "source": [
    "3. Show the first 5 rows"
   ]
  },
  {
   "cell_type": "markdown",
   "id": "28b61b73",
   "metadata": {},
   "source": [
    "4. Convert the column 'MAIN_GENRE' into a list"
   ]
  },
  {
   "cell_type": "markdown",
   "id": "0120b95d",
   "metadata": {},
   "source": [
    "5. How many elements of 'drama' are in the list created in question 4. "
   ]
  },
  {
   "cell_type": "code",
   "execution_count": null,
   "id": "694e2e16",
   "metadata": {},
   "outputs": [],
   "source": []
  }
 ],
 "metadata": {
  "kernelspec": {
   "display_name": "Python 3 (ipykernel)",
   "language": "python",
   "name": "python3"
  },
  "language_info": {
   "codemirror_mode": {
    "name": "ipython",
    "version": 3
   },
   "file_extension": ".py",
   "mimetype": "text/x-python",
   "name": "python",
   "nbconvert_exporter": "python",
   "pygments_lexer": "ipython3",
   "version": "3.9.13"
  }
 },
 "nbformat": 4,
 "nbformat_minor": 5
}
