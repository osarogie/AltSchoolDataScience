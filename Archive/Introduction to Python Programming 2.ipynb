{
 "cells": [
  {
   "cell_type": "markdown",
   "id": "0e267c85",
   "metadata": {},
   "source": [
    "### Introduction to Python"
   ]
  },
  {
   "cell_type": "markdown",
   "id": "b9c0aefc",
   "metadata": {},
   "source": [
    "### Starting with Documentation"
   ]
  },
  {
   "cell_type": "code",
   "execution_count": null,
   "id": "8b8293e8",
   "metadata": {},
   "outputs": [],
   "source": [
    "# Comments - Definition of comments:\n",
    "#   - A comment is a line of text that begins with a # character.\n",
    "#   - Comments are ignored by the interpreter.\n",
    "#   - Comments can be placed anywhere in a program, but are usually placed at the end."
   ]
  },
  {
   "cell_type": "code",
   "execution_count": null,
   "id": "d8981453",
   "metadata": {},
   "outputs": [],
   "source": [
    "my_name = 'Pablo' # Pablo is being assigned to my_name "
   ]
  },
  {
   "cell_type": "code",
   "execution_count": 2,
   "id": "4ac56dd8",
   "metadata": {
    "ExecuteTime": {
     "end_time": "2023-01-22T02:54:04.281441Z",
     "start_time": "2023-01-22T02:54:04.263276Z"
    }
   },
   "outputs": [],
   "source": [
    "# Pablo is being assigned to my_name <--- bad comment\n",
    "my_name = 'Pablo' "
   ]
  },
  {
   "cell_type": "code",
   "execution_count": 3,
   "id": "bc129cb7",
   "metadata": {
    "ExecuteTime": {
     "end_time": "2023-01-22T02:54:18.938336Z",
     "start_time": "2023-01-22T02:54:18.882042Z"
    }
   },
   "outputs": [
    {
     "name": "stdout",
     "output_type": "stream",
     "text": [
      "Pablo\n"
     ]
    }
   ],
   "source": [
    "print(my_name) # Pablo is being printed"
   ]
  },
  {
   "cell_type": "markdown",
   "id": "32e326b1",
   "metadata": {},
   "source": [
    "### Commenting Out"
   ]
  },
  {
   "cell_type": "code",
   "execution_count": 1,
   "id": "6da145d1",
   "metadata": {
    "ExecuteTime": {
     "end_time": "2023-01-22T02:53:57.757280Z",
     "start_time": "2023-01-22T02:53:57.750631Z"
    }
   },
   "outputs": [],
   "source": [
    "# p = 'Pablo' # Pablo is being assigned to p\n",
    "name_instructor = 'Pablo' # Pablo is being assigned to name_instructor"
   ]
  },
  {
   "cell_type": "markdown",
   "id": "a559bdfb",
   "metadata": {},
   "source": [
    "### Docstrings\n",
    "\n",
    "1. They are ignored by the python interpreter\n",
    "\n",
    "2. Three literal string\n",
    "\n",
    "3. They are used for functions/modules"
   ]
  },
  {
   "cell_type": "code",
   "execution_count": 4,
   "id": "76f3d2a8",
   "metadata": {
    "ExecuteTime": {
     "end_time": "2023-01-22T03:02:13.292006Z",
     "start_time": "2023-01-22T03:02:13.277391Z"
    }
   },
   "outputs": [
    {
     "data": {
      "text/plain": [
       "'\\nThis function is used to data analysis \\n\\n'"
      ]
     },
     "execution_count": 4,
     "metadata": {},
     "output_type": "execute_result"
    }
   ],
   "source": [
    "\"\"\"\n",
    "This function is used to data analysis \n",
    "\n",
    "\"\"\""
   ]
  },
  {
   "cell_type": "code",
   "execution_count": 13,
   "id": "2746d61a",
   "metadata": {
    "ExecuteTime": {
     "end_time": "2023-01-29T02:49:34.750595Z",
     "start_time": "2023-01-29T02:49:34.720152Z"
    }
   },
   "outputs": [],
   "source": [
    "def greeter(): # function for greeting\n",
    "    \"\"\" This function simply says \n",
    "    hello\n",
    "    \"\"\" \n",
    "    print(\"Hello\")"
   ]
  },
  {
   "cell_type": "code",
   "execution_count": 7,
   "id": "f7fd46b4",
   "metadata": {
    "ExecuteTime": {
     "end_time": "2023-01-22T03:03:32.459480Z",
     "start_time": "2023-01-22T03:03:32.448535Z"
    }
   },
   "outputs": [
    {
     "name": "stdout",
     "output_type": "stream",
     "text": [
      "Hello\n"
     ]
    }
   ],
   "source": [
    "greeter()"
   ]
  },
  {
   "cell_type": "markdown",
   "id": "355d6ca8",
   "metadata": {},
   "source": [
    "### Introduction to Variables"
   ]
  },
  {
   "cell_type": "code",
   "execution_count": 12,
   "id": "e5b41e77",
   "metadata": {
    "ExecuteTime": {
     "end_time": "2023-01-22T03:31:20.591196Z",
     "start_time": "2023-01-22T03:31:20.545234Z"
    }
   },
   "outputs": [],
   "source": [
    "# How to create a variable\n",
    "# Create a label "
   ]
  },
  {
   "cell_type": "code",
   "execution_count": 13,
   "id": "a84e049c",
   "metadata": {
    "ExecuteTime": {
     "end_time": "2023-01-22T03:33:56.259028Z",
     "start_time": "2023-01-22T03:33:56.254550Z"
    }
   },
   "outputs": [],
   "source": [
    "x = 'Number' # x is the variable/label, it is assigned a value 'Number'"
   ]
  },
  {
   "cell_type": "code",
   "execution_count": 14,
   "id": "d69ff9d5",
   "metadata": {
    "ExecuteTime": {
     "end_time": "2023-01-22T03:34:28.278633Z",
     "start_time": "2023-01-22T03:34:28.273400Z"
    }
   },
   "outputs": [
    {
     "name": "stdout",
     "output_type": "stream",
     "text": [
      "Number\n"
     ]
    }
   ],
   "source": [
    "print(x)"
   ]
  },
  {
   "cell_type": "code",
   "execution_count": 15,
   "id": "e58274c5",
   "metadata": {
    "ExecuteTime": {
     "end_time": "2023-01-22T03:41:39.838548Z",
     "start_time": "2023-01-22T03:41:39.830805Z"
    }
   },
   "outputs": [],
   "source": [
    "# Rules to creating labels for variables\n",
    "# 1. Variable names can contain only letters, numbers, and underscores -\n",
    "# Variables can start with letters and underscore but not numbers"
   ]
  },
  {
   "cell_type": "code",
   "execution_count": 16,
   "id": "bcf3c3d8",
   "metadata": {
    "ExecuteTime": {
     "end_time": "2023-01-22T03:43:13.575129Z",
     "start_time": "2023-01-22T03:43:13.570894Z"
    }
   },
   "outputs": [],
   "source": [
    "name_student = 'Jeremiah' # Name of an Altschool Student"
   ]
  },
  {
   "cell_type": "code",
   "execution_count": 17,
   "id": "5ab45044",
   "metadata": {
    "ExecuteTime": {
     "end_time": "2023-01-22T03:44:17.212987Z",
     "start_time": "2023-01-22T03:44:17.178483Z"
    }
   },
   "outputs": [
    {
     "ename": "SyntaxError",
     "evalue": "invalid syntax (747080813.py, line 2)",
     "output_type": "error",
     "traceback": [
      "\u001b[0;36m  File \u001b[0;32m\"/var/folders/sj/vpbs2tm52r3gw6r1vgvt92200000gn/T/ipykernel_49874/747080813.py\"\u001b[0;36m, line \u001b[0;32m2\u001b[0m\n\u001b[0;31m    1name_student = 'Trevor' # Name of an AltSchool Student\u001b[0m\n\u001b[0m     ^\u001b[0m\n\u001b[0;31mSyntaxError\u001b[0m\u001b[0;31m:\u001b[0m invalid syntax\n"
     ]
    }
   ],
   "source": [
    "# Break rule 1 \n",
    "1name_student = 'Trevor' # Name of an AltSchool Student"
   ]
  },
  {
   "cell_type": "code",
   "execution_count": 18,
   "id": "53510e92",
   "metadata": {
    "ExecuteTime": {
     "end_time": "2023-01-22T03:52:41.602925Z",
     "start_time": "2023-01-22T03:52:41.569708Z"
    }
   },
   "outputs": [],
   "source": [
    "# 2. Spaces are not allowed in variable names\n",
    "# Underscores are used to seperate characters/words in variable names"
   ]
  },
  {
   "cell_type": "code",
   "execution_count": 19,
   "id": "786f9b4d",
   "metadata": {
    "ExecuteTime": {
     "end_time": "2023-01-22T03:54:48.804241Z",
     "start_time": "2023-01-22T03:54:48.786958Z"
    }
   },
   "outputs": [
    {
     "ename": "SyntaxError",
     "evalue": "invalid syntax (3278194910.py, line 2)",
     "output_type": "error",
     "traceback": [
      "\u001b[0;36m  File \u001b[0;32m\"/var/folders/sj/vpbs2tm52r3gw6r1vgvt92200000gn/T/ipykernel_49874/3278194910.py\"\u001b[0;36m, line \u001b[0;32m2\u001b[0m\n\u001b[0;31m    name student = \"Yomi\" # The AltSchool student that is whining me\u001b[0m\n\u001b[0m         ^\u001b[0m\n\u001b[0;31mSyntaxError\u001b[0m\u001b[0;31m:\u001b[0m invalid syntax\n"
     ]
    }
   ],
   "source": [
    "# Break rule 2 \n",
    "name student = \"Yomi\" # The AltSchool student that is whining me "
   ]
  },
  {
   "cell_type": "code",
   "execution_count": 10,
   "id": "ec7eabd9",
   "metadata": {
    "ExecuteTime": {
     "end_time": "2023-01-26T02:43:48.030752Z",
     "start_time": "2023-01-26T02:43:47.977212Z"
    }
   },
   "outputs": [],
   "source": [
    "# Part of the 2nd Rule\n",
    "nameStudent = \"Yomi\" # The AltSchool student that is whining me "
   ]
  },
  {
   "cell_type": "code",
   "execution_count": null,
   "id": "adb92d5d",
   "metadata": {},
   "outputs": [],
   "source": [
    "# Rule 3(Guide): Avoid using reserved Python Keywords & function names\n",
    "import \n",
    "print \n",
    "as \n",
    "not \n",
    "or \n",
    "and \n",
    "in \n",
    "is \n",
    "if \n",
    "else \n",
    "elif \n",
    "while \n",
    "for \n",
    "def \n",
    "class \n",
    "try \n",
    "except \n",
    "finally \n",
    "with \n",
    "yield \n",
    "from \n",
    "import \n",
    "as \n",
    "global \n",
    "nonlocal \n",
    "assert \n",
    "del \n",
    "pass \n",
    "continue \n",
    "break \n",
    "raise \n",
    "return \n",
    "lambda \n",
    "with \n",
    "async \n",
    "await "
   ]
  },
  {
   "cell_type": "code",
   "execution_count": 1,
   "id": "5c6e2082",
   "metadata": {
    "ExecuteTime": {
     "end_time": "2023-01-26T03:07:44.216124Z",
     "start_time": "2023-01-26T03:07:44.179540Z"
    }
   },
   "outputs": [
    {
     "data": {
      "text/plain": [
       "15"
      ]
     },
     "execution_count": 1,
     "metadata": {},
     "output_type": "execute_result"
    }
   ],
   "source": [
    "# Method or function call sum \n",
    "num_list = [1, 2, 3, 4, 5] # A list of numbers \n",
    "sum(num_list) # Used the sum function on the list"
   ]
  },
  {
   "cell_type": "code",
   "execution_count": 13,
   "id": "6cd3ce2d",
   "metadata": {
    "ExecuteTime": {
     "end_time": "2023-01-26T03:06:26.706099Z",
     "start_time": "2023-01-26T03:06:26.636220Z"
    }
   },
   "outputs": [],
   "source": [
    "# Create a variable with a name sum\n",
    "# sum = [1, 2, 3, 4, 5] # Assigned the list to the variable sum"
   ]
  },
  {
   "cell_type": "code",
   "execution_count": null,
   "id": "bcdd3967",
   "metadata": {},
   "outputs": [],
   "source": [
    "# Rule 4: Variable names should be descriptive \n",
    "my_country = 'Nigeria' # Nigeria has been assigned to my_country"
   ]
  },
  {
   "cell_type": "code",
   "execution_count": null,
   "id": "03865f5b",
   "metadata": {},
   "outputs": [],
   "source": [
    "# Break the rule \n",
    "m_c = \"Algeria\" # Algeria has been assigned to m_c"
   ]
  },
  {
   "cell_type": "code",
   "execution_count": null,
   "id": "4de6918e",
   "metadata": {},
   "outputs": [],
   "source": [
    "# Rule 5: Do not mix up similar letter and numbers in our variable labels"
   ]
  },
  {
   "cell_type": "code",
   "execution_count": 2,
   "id": "a5473f6d",
   "metadata": {
    "ExecuteTime": {
     "end_time": "2023-01-26T03:17:49.903760Z",
     "start_time": "2023-01-26T03:17:49.859428Z"
    }
   },
   "outputs": [],
   "source": [
    "# Possible errors that can occur with variables \n",
    "message = \"Please log in with your laptops\""
   ]
  },
  {
   "cell_type": "code",
   "execution_count": 3,
   "id": "cb86dd5a",
   "metadata": {
    "ExecuteTime": {
     "end_time": "2023-01-26T03:18:02.530670Z",
     "start_time": "2023-01-26T03:18:02.117423Z"
    }
   },
   "outputs": [
    {
     "ename": "NameError",
     "evalue": "name 'mesage' is not defined",
     "output_type": "error",
     "traceback": [
      "\u001b[0;31m---------------------------------------------------------------------------\u001b[0m",
      "\u001b[0;31mNameError\u001b[0m                                 Traceback (most recent call last)",
      "\u001b[0;32m/var/folders/sj/vpbs2tm52r3gw6r1vgvt92200000gn/T/ipykernel_92519/1473675084.py\u001b[0m in \u001b[0;36m<module>\u001b[0;34m\u001b[0m\n\u001b[0;32m----> 1\u001b[0;31m \u001b[0mprint\u001b[0m\u001b[0;34m(\u001b[0m\u001b[0mmesage\u001b[0m\u001b[0;34m)\u001b[0m\u001b[0;34m\u001b[0m\u001b[0;34m\u001b[0m\u001b[0m\n\u001b[0m",
      "\u001b[0;31mNameError\u001b[0m: name 'mesage' is not defined"
     ]
    }
   ],
   "source": [
    "print(mesage)"
   ]
  },
  {
   "cell_type": "code",
   "execution_count": null,
   "id": "963897d3",
   "metadata": {},
   "outputs": [],
   "source": [
    "# Variables are label \n",
    "# Label variable with the values you have in mind   "
   ]
  },
  {
   "cell_type": "code",
   "execution_count": 5,
   "id": "eb2d6d15",
   "metadata": {
    "ExecuteTime": {
     "end_time": "2023-01-26T03:26:26.755549Z",
     "start_time": "2023-01-26T03:26:26.716664Z"
    }
   },
   "outputs": [
    {
     "name": "stdout",
     "output_type": "stream",
     "text": [
      "Please log in with your laptops\n"
     ]
    }
   ],
   "source": [
    "print(message) "
   ]
  },
  {
   "cell_type": "code",
   "execution_count": 1,
   "id": "0bfbe8e6",
   "metadata": {
    "ExecuteTime": {
     "end_time": "2023-01-26T02:17:24.940904Z",
     "start_time": "2023-01-26T02:17:24.901474Z"
    }
   },
   "outputs": [],
   "source": [
    "# Create a variable \n",
    "# Variable will have extra spaces(Whitespaces)\n",
    "# Take away the whitespaces "
   ]
  },
  {
   "cell_type": "code",
   "execution_count": 2,
   "id": "a97e1bf3",
   "metadata": {
    "ExecuteTime": {
     "end_time": "2023-01-26T02:18:01.552626Z",
     "start_time": "2023-01-26T02:18:01.547412Z"
    }
   },
   "outputs": [],
   "source": [
    "my_location = \"   Kaduna  \""
   ]
  },
  {
   "cell_type": "code",
   "execution_count": 3,
   "id": "abaa4f66",
   "metadata": {
    "ExecuteTime": {
     "end_time": "2023-01-26T02:18:18.420268Z",
     "start_time": "2023-01-26T02:18:18.413985Z"
    }
   },
   "outputs": [
    {
     "name": "stdout",
     "output_type": "stream",
     "text": [
      "   Kaduna  \n"
     ]
    }
   ],
   "source": [
    "print(my_location)"
   ]
  },
  {
   "cell_type": "code",
   "execution_count": 4,
   "id": "59e0b462",
   "metadata": {
    "ExecuteTime": {
     "end_time": "2023-01-26T02:29:08.859517Z",
     "start_time": "2023-01-26T02:29:08.774197Z"
    }
   },
   "outputs": [
    {
     "data": {
      "text/plain": [
       "'hello  apple'"
      ]
     },
     "execution_count": 4,
     "metadata": {},
     "output_type": "execute_result"
    }
   ],
   "source": [
    "sentence = ' hello  apple' # Variable with hello apple assigned\n",
    "sentence.strip() # Using the strip method to remove the whitespaces"
   ]
  },
  {
   "cell_type": "code",
   "execution_count": 5,
   "id": "df39ac25",
   "metadata": {
    "ExecuteTime": {
     "end_time": "2023-01-26T02:34:46.128469Z",
     "start_time": "2023-01-26T02:34:46.108091Z"
    }
   },
   "outputs": [
    {
     "name": "stdout",
     "output_type": "stream",
     "text": [
      "Kaduna       \n"
     ]
    }
   ],
   "source": [
    "my_location = \"Kaduna       \"\n",
    "print(my_location)"
   ]
  },
  {
   "cell_type": "code",
   "execution_count": 6,
   "id": "bec6f25d",
   "metadata": {
    "ExecuteTime": {
     "end_time": "2023-01-26T02:36:05.966087Z",
     "start_time": "2023-01-26T02:36:05.958957Z"
    }
   },
   "outputs": [
    {
     "data": {
      "text/plain": [
       "'Kaduna'"
      ]
     },
     "execution_count": 6,
     "metadata": {},
     "output_type": "execute_result"
    }
   ],
   "source": [
    "my_location.rstrip() # Removes a trailing white space on the right"
   ]
  },
  {
   "cell_type": "code",
   "execution_count": 7,
   "id": "ffa45f75",
   "metadata": {
    "ExecuteTime": {
     "end_time": "2023-01-26T02:36:37.233592Z",
     "start_time": "2023-01-26T02:36:37.223021Z"
    }
   },
   "outputs": [],
   "source": [
    "my_location = \"       Kaduna\" "
   ]
  },
  {
   "cell_type": "code",
   "execution_count": 8,
   "id": "1684951a",
   "metadata": {
    "ExecuteTime": {
     "end_time": "2023-01-26T02:36:42.626810Z",
     "start_time": "2023-01-26T02:36:42.621367Z"
    }
   },
   "outputs": [
    {
     "data": {
      "text/plain": [
       "'       Kaduna'"
      ]
     },
     "execution_count": 8,
     "metadata": {},
     "output_type": "execute_result"
    }
   ],
   "source": [
    "my_location"
   ]
  },
  {
   "cell_type": "code",
   "execution_count": 9,
   "id": "936ae9df",
   "metadata": {
    "ExecuteTime": {
     "end_time": "2023-01-26T02:37:08.388014Z",
     "start_time": "2023-01-26T02:37:08.374331Z"
    }
   },
   "outputs": [
    {
     "data": {
      "text/plain": [
       "'Kaduna'"
      ]
     },
     "execution_count": 9,
     "metadata": {},
     "output_type": "execute_result"
    }
   ],
   "source": [
    "my_location.lstrip() # Removes a trailing white space on the left "
   ]
  },
  {
   "cell_type": "markdown",
   "id": "bbbb9579",
   "metadata": {},
   "source": [
    "### Introduction to Strings "
   ]
  },
  {
   "cell_type": "code",
   "execution_count": null,
   "id": "e2b84052",
   "metadata": {},
   "outputs": [],
   "source": [
    "# Series of letters, a single word, a single letter\n",
    "# They are surrounded by quotes: single, double or triple\n",
    "# Strings is a data type \n",
    "# Strings are immutable "
   ]
  },
  {
   "cell_type": "code",
   "execution_count": 6,
   "id": "8a5ba5bd",
   "metadata": {
    "ExecuteTime": {
     "end_time": "2023-01-26T03:54:30.489013Z",
     "start_time": "2023-01-26T03:54:30.459432Z"
    }
   },
   "outputs": [],
   "source": [
    "# Create a variable\n",
    "my_class = \"Python\""
   ]
  },
  {
   "cell_type": "code",
   "execution_count": 7,
   "id": "170ee079",
   "metadata": {
    "ExecuteTime": {
     "end_time": "2023-01-26T03:54:53.582930Z",
     "start_time": "2023-01-26T03:54:53.507044Z"
    }
   },
   "outputs": [
    {
     "data": {
      "text/plain": [
       "str"
      ]
     },
     "execution_count": 7,
     "metadata": {},
     "output_type": "execute_result"
    }
   ],
   "source": [
    "type(my_class)"
   ]
  },
  {
   "cell_type": "code",
   "execution_count": 24,
   "id": "12a3e450",
   "metadata": {
    "ExecuteTime": {
     "end_time": "2023-01-29T03:03:12.132302Z",
     "start_time": "2023-01-29T03:03:12.127246Z"
    }
   },
   "outputs": [],
   "source": [
    "name = \"Peter\"\n",
    "first_name = \"Peter\"\n",
    "last_name = \"Okwukogu\"\n",
    "alias = \"Pablo\"\n",
    "job = \"\"\"I am a data scientist & \n",
    "Data Science Instructor\"\"\""
   ]
  },
  {
   "cell_type": "code",
   "execution_count": 10,
   "id": "16f09186",
   "metadata": {
    "ExecuteTime": {
     "end_time": "2023-01-26T03:57:59.642626Z",
     "start_time": "2023-01-26T03:57:59.634859Z"
    }
   },
   "outputs": [
    {
     "data": {
      "text/plain": [
       "str"
      ]
     },
     "execution_count": 10,
     "metadata": {},
     "output_type": "execute_result"
    }
   ],
   "source": [
    "type(job)"
   ]
  },
  {
   "cell_type": "code",
   "execution_count": 11,
   "id": "f71d8364",
   "metadata": {
    "ExecuteTime": {
     "end_time": "2023-01-26T04:00:21.853450Z",
     "start_time": "2023-01-26T04:00:21.770635Z"
    }
   },
   "outputs": [
    {
     "ename": "SyntaxError",
     "evalue": "invalid syntax (2221099425.py, line 2)",
     "output_type": "error",
     "traceback": [
      "\u001b[0;36m  File \u001b[0;32m\"/var/folders/sj/vpbs2tm52r3gw6r1vgvt92200000gn/T/ipykernel_92519/2221099425.py\"\u001b[0;36m, line \u001b[0;32m2\u001b[0m\n\u001b[0;31m    rant = 'Miriam's laptop is a mac'\u001b[0m\n\u001b[0m                   ^\u001b[0m\n\u001b[0;31mSyntaxError\u001b[0m\u001b[0;31m:\u001b[0m invalid syntax\n"
     ]
    }
   ],
   "source": [
    "# Why single or double quotes \n",
    "rant = 'Miriam's laptop is a mac' "
   ]
  },
  {
   "cell_type": "code",
   "execution_count": 12,
   "id": "a6ac2ff1",
   "metadata": {
    "ExecuteTime": {
     "end_time": "2023-01-26T04:00:45.698347Z",
     "start_time": "2023-01-26T04:00:45.688121Z"
    }
   },
   "outputs": [],
   "source": [
    "rant = \"Miriam's laptop is a mac\""
   ]
  },
  {
   "cell_type": "code",
   "execution_count": 16,
   "id": "49129d84",
   "metadata": {
    "ExecuteTime": {
     "end_time": "2023-01-26T04:06:00.983129Z",
     "start_time": "2023-01-26T04:05:56.659345Z"
    }
   },
   "outputs": [],
   "source": [
    "# import a data analysis library \n",
    "import pandas as pd # importing a pandas package for analysis"
   ]
  },
  {
   "cell_type": "code",
   "execution_count": 14,
   "id": "b3f71590",
   "metadata": {
    "ExecuteTime": {
     "end_time": "2023-01-29T02:58:34.674491Z",
     "start_time": "2023-01-29T02:58:34.662612Z"
    }
   },
   "outputs": [],
   "source": [
    "data_movies = pd.read_csv(\"/Users/pablo/Desktop/movies.csv\") # Converting the dataset to a dataframe"
   ]
  },
  {
   "cell_type": "code",
   "execution_count": 15,
   "id": "5d89ec03",
   "metadata": {
    "ExecuteTime": {
     "end_time": "2023-01-29T02:58:35.557798Z",
     "start_time": "2023-01-29T02:58:35.536850Z"
    }
   },
   "outputs": [
    {
     "data": {
      "text/html": [
       "<div>\n",
       "<style scoped>\n",
       "    .dataframe tbody tr th:only-of-type {\n",
       "        vertical-align: middle;\n",
       "    }\n",
       "\n",
       "    .dataframe tbody tr th {\n",
       "        vertical-align: top;\n",
       "    }\n",
       "\n",
       "    .dataframe thead th {\n",
       "        text-align: right;\n",
       "    }\n",
       "</style>\n",
       "<table border=\"1\" class=\"dataframe\">\n",
       "  <thead>\n",
       "    <tr style=\"text-align: right;\">\n",
       "      <th></th>\n",
       "      <th>index</th>\n",
       "      <th>movie_name</th>\n",
       "      <th>year_of_release</th>\n",
       "      <th>category</th>\n",
       "      <th>run_time</th>\n",
       "      <th>genre</th>\n",
       "      <th>imdb_rating</th>\n",
       "      <th>votes</th>\n",
       "      <th>gross_total</th>\n",
       "    </tr>\n",
       "  </thead>\n",
       "  <tbody>\n",
       "    <tr>\n",
       "      <th>0</th>\n",
       "      <td>1.0</td>\n",
       "      <td>The Godfather</td>\n",
       "      <td>(1972)</td>\n",
       "      <td>R</td>\n",
       "      <td>175 min</td>\n",
       "      <td>Crime, Drama</td>\n",
       "      <td>9.2</td>\n",
       "      <td>1,860,471</td>\n",
       "      <td>$134.97M</td>\n",
       "    </tr>\n",
       "    <tr>\n",
       "      <th>1</th>\n",
       "      <td>2.0</td>\n",
       "      <td>The Silence of the Lambs</td>\n",
       "      <td>(1991)</td>\n",
       "      <td>R</td>\n",
       "      <td>118 min</td>\n",
       "      <td>Crime, Drama, Thriller</td>\n",
       "      <td>8.6</td>\n",
       "      <td>1,435,344</td>\n",
       "      <td>$130.74M</td>\n",
       "    </tr>\n",
       "    <tr>\n",
       "      <th>2</th>\n",
       "      <td>3.0</td>\n",
       "      <td>Star Wars: Episode V - The Empire Strikes Back</td>\n",
       "      <td>(1980)</td>\n",
       "      <td>PG</td>\n",
       "      <td>124 min</td>\n",
       "      <td>Action, Adventure, Fantasy</td>\n",
       "      <td>8.7</td>\n",
       "      <td>1,294,805</td>\n",
       "      <td>$290.48M</td>\n",
       "    </tr>\n",
       "    <tr>\n",
       "      <th>3</th>\n",
       "      <td>4.0</td>\n",
       "      <td>The Shawshank Redemption</td>\n",
       "      <td>(1994)</td>\n",
       "      <td>R</td>\n",
       "      <td>142 min</td>\n",
       "      <td>Drama</td>\n",
       "      <td>9.3</td>\n",
       "      <td>2,683,302</td>\n",
       "      <td>$28.34M</td>\n",
       "    </tr>\n",
       "    <tr>\n",
       "      <th>4</th>\n",
       "      <td>5.0</td>\n",
       "      <td>The Shining</td>\n",
       "      <td>(1980)</td>\n",
       "      <td>R</td>\n",
       "      <td>146 min</td>\n",
       "      <td>Drama, Horror</td>\n",
       "      <td>8.4</td>\n",
       "      <td>1,025,560</td>\n",
       "      <td>$44.02M</td>\n",
       "    </tr>\n",
       "  </tbody>\n",
       "</table>\n",
       "</div>"
      ],
      "text/plain": [
       "   index                                      movie_name year_of_release  \\\n",
       "0    1.0                                   The Godfather          (1972)   \n",
       "1    2.0                        The Silence of the Lambs          (1991)   \n",
       "2    3.0  Star Wars: Episode V - The Empire Strikes Back          (1980)   \n",
       "3    4.0                        The Shawshank Redemption          (1994)   \n",
       "4    5.0                                     The Shining          (1980)   \n",
       "\n",
       "  category run_time                       genre  imdb_rating      votes  \\\n",
       "0        R  175 min                Crime, Drama          9.2  1,860,471   \n",
       "1        R  118 min      Crime, Drama, Thriller          8.6  1,435,344   \n",
       "2       PG  124 min  Action, Adventure, Fantasy          8.7  1,294,805   \n",
       "3        R  142 min                       Drama          9.3  2,683,302   \n",
       "4        R  146 min               Drama, Horror          8.4  1,025,560   \n",
       "\n",
       "  gross_total  \n",
       "0    $134.97M  \n",
       "1    $130.74M  \n",
       "2    $290.48M  \n",
       "3     $28.34M  \n",
       "4     $44.02M  "
      ]
     },
     "execution_count": 15,
     "metadata": {},
     "output_type": "execute_result"
    }
   ],
   "source": [
    "data_movies.head() "
   ]
  },
  {
   "cell_type": "code",
   "execution_count": 16,
   "id": "9f2812dd",
   "metadata": {
    "ExecuteTime": {
     "end_time": "2023-01-29T02:58:38.668428Z",
     "start_time": "2023-01-29T02:58:38.574952Z"
    }
   },
   "outputs": [
    {
     "name": "stdout",
     "output_type": "stream",
     "text": [
      "<class 'pandas.core.frame.DataFrame'>\n",
      "RangeIndex: 99 entries, 0 to 98\n",
      "Data columns (total 9 columns):\n",
      " #   Column           Non-Null Count  Dtype  \n",
      "---  ------           --------------  -----  \n",
      " 0   index            99 non-null     float64\n",
      " 1   movie_name       99 non-null     object \n",
      " 2   year_of_release  99 non-null     object \n",
      " 3   category         99 non-null     object \n",
      " 4   run_time         99 non-null     object \n",
      " 5   genre            99 non-null     object \n",
      " 6   imdb_rating      99 non-null     float64\n",
      " 7   votes            99 non-null     object \n",
      " 8   gross_total      98 non-null     object \n",
      "dtypes: float64(2), object(7)\n",
      "memory usage: 7.1+ KB\n"
     ]
    }
   ],
   "source": [
    "data_movies.info() "
   ]
  },
  {
   "cell_type": "code",
   "execution_count": 19,
   "id": "6c06dcba",
   "metadata": {
    "ExecuteTime": {
     "end_time": "2023-01-29T02:59:46.809938Z",
     "start_time": "2023-01-29T02:59:46.798990Z"
    }
   },
   "outputs": [
    {
     "data": {
      "text/plain": [
       "dtype('O')"
      ]
     },
     "execution_count": 19,
     "metadata": {},
     "output_type": "execute_result"
    }
   ],
   "source": [
    "data_movies['movie_name'].dtype # Checking the data type"
   ]
  },
  {
   "cell_type": "code",
   "execution_count": 21,
   "id": "0681e33f",
   "metadata": {
    "ExecuteTime": {
     "end_time": "2023-01-29T03:02:12.197597Z",
     "start_time": "2023-01-29T03:02:12.194003Z"
    }
   },
   "outputs": [],
   "source": [
    "movie_names = data_movies['movie_name'].astype('string')"
   ]
  },
  {
   "cell_type": "code",
   "execution_count": 22,
   "id": "d44536e3",
   "metadata": {
    "ExecuteTime": {
     "end_time": "2023-01-29T03:02:29.638207Z",
     "start_time": "2023-01-29T03:02:29.633341Z"
    }
   },
   "outputs": [
    {
     "data": {
      "text/plain": [
       "string[python]"
      ]
     },
     "execution_count": 22,
     "metadata": {},
     "output_type": "execute_result"
    }
   ],
   "source": [
    "movie_names.dtype"
   ]
  },
  {
   "cell_type": "code",
   "execution_count": 23,
   "id": "af8469ef",
   "metadata": {
    "ExecuteTime": {
     "end_time": "2023-01-29T03:02:39.237498Z",
     "start_time": "2023-01-29T03:02:39.227632Z"
    }
   },
   "outputs": [
    {
     "data": {
      "text/plain": [
       "0                                      The Godfather\n",
       "1                           The Silence of the Lambs\n",
       "2     Star Wars: Episode V - The Empire Strikes Back\n",
       "3                           The Shawshank Redemption\n",
       "4                                        The Shining\n",
       "                           ...                      \n",
       "94                                The Usual Suspects\n",
       "95                                    Cool Hand Luke\n",
       "96             Eternal Sunshine of the Spotless Mind\n",
       "97                                       City Lights\n",
       "98                                        The Matrix\n",
       "Name: movie_name, Length: 99, dtype: string"
      ]
     },
     "execution_count": 23,
     "metadata": {},
     "output_type": "execute_result"
    }
   ],
   "source": [
    "movie_names"
   ]
  },
  {
   "cell_type": "code",
   "execution_count": null,
   "id": "8080d355",
   "metadata": {},
   "outputs": [],
   "source": [
    "# Go to any data repository\n",
    "# Get any data\n",
    "# Read the first three rows (Pandas library)\n",
    "# Take a screenshot and post it on the data science channel"
   ]
  },
  {
   "cell_type": "code",
   "execution_count": 1,
   "id": "4f6f172d",
   "metadata": {
    "ExecuteTime": {
     "end_time": "2023-01-29T02:37:41.181504Z",
     "start_time": "2023-01-29T02:37:36.337829Z"
    }
   },
   "outputs": [],
   "source": [
    "# import the pandas library\n",
    "import pandas as pd # importing the pandas module"
   ]
  },
  {
   "cell_type": "code",
   "execution_count": null,
   "id": "18da3ed3",
   "metadata": {},
   "outputs": [],
   "source": [
    "pd."
   ]
  },
  {
   "cell_type": "code",
   "execution_count": 11,
   "id": "72207139",
   "metadata": {
    "ExecuteTime": {
     "end_time": "2023-01-29T02:46:26.381161Z",
     "start_time": "2023-01-29T02:46:26.367688Z"
    }
   },
   "outputs": [],
   "source": [
    "df = pd.read_csv(\n",
    "    '/Users/pablo/Library/Mobile Documents/com~apple~CloudDocs/Documents - Peter’s MacBook Pro - 1/GitHub/AltSchool Africa/auto-mpg.data', \n",
    "    sep = '\\t',) # Read the dataset into a dataframe"
   ]
  },
  {
   "cell_type": "code",
   "execution_count": 12,
   "id": "a780bb58",
   "metadata": {
    "ExecuteTime": {
     "end_time": "2023-01-29T02:46:27.037651Z",
     "start_time": "2023-01-29T02:46:27.023542Z"
    }
   },
   "outputs": [
    {
     "data": {
      "text/html": [
       "<div>\n",
       "<style scoped>\n",
       "    .dataframe tbody tr th:only-of-type {\n",
       "        vertical-align: middle;\n",
       "    }\n",
       "\n",
       "    .dataframe tbody tr th {\n",
       "        vertical-align: top;\n",
       "    }\n",
       "\n",
       "    .dataframe thead th {\n",
       "        text-align: right;\n",
       "    }\n",
       "</style>\n",
       "<table border=\"1\" class=\"dataframe\">\n",
       "  <thead>\n",
       "    <tr style=\"text-align: right;\">\n",
       "      <th></th>\n",
       "      <th>18.0   8   307.0      130.0      3504.      12.0   70  1</th>\n",
       "      <th>chevrolet chevelle malibu</th>\n",
       "    </tr>\n",
       "  </thead>\n",
       "  <tbody>\n",
       "    <tr>\n",
       "      <th>0</th>\n",
       "      <td>15.0   8   350.0      165.0      3693.      11...</td>\n",
       "      <td>buick skylark 320</td>\n",
       "    </tr>\n",
       "    <tr>\n",
       "      <th>1</th>\n",
       "      <td>18.0   8   318.0      150.0      3436.      11...</td>\n",
       "      <td>plymouth satellite</td>\n",
       "    </tr>\n",
       "    <tr>\n",
       "      <th>2</th>\n",
       "      <td>16.0   8   304.0      150.0      3433.      12...</td>\n",
       "      <td>amc rebel sst</td>\n",
       "    </tr>\n",
       "  </tbody>\n",
       "</table>\n",
       "</div>"
      ],
      "text/plain": [
       "  18.0   8   307.0      130.0      3504.      12.0   70  1  \\\n",
       "0  15.0   8   350.0      165.0      3693.      11...         \n",
       "1  18.0   8   318.0      150.0      3436.      11...         \n",
       "2  16.0   8   304.0      150.0      3433.      12...         \n",
       "\n",
       "  chevrolet chevelle malibu  \n",
       "0         buick skylark 320  \n",
       "1        plymouth satellite  \n",
       "2             amc rebel sst  "
      ]
     },
     "execution_count": 12,
     "metadata": {},
     "output_type": "execute_result"
    }
   ],
   "source": [
    "df.head(3) # The first three rows"
   ]
  },
  {
   "cell_type": "code",
   "execution_count": 25,
   "id": "b5655b86",
   "metadata": {
    "ExecuteTime": {
     "end_time": "2023-01-29T03:03:19.727862Z",
     "start_time": "2023-01-29T03:03:19.708000Z"
    }
   },
   "outputs": [
    {
     "data": {
      "text/plain": [
       "'Peter'"
      ]
     },
     "execution_count": 25,
     "metadata": {},
     "output_type": "execute_result"
    }
   ],
   "source": [
    "name # A variable assigned the value Peter"
   ]
  },
  {
   "cell_type": "code",
   "execution_count": 32,
   "id": "612e4886",
   "metadata": {
    "ExecuteTime": {
     "end_time": "2023-01-29T03:13:16.299613Z",
     "start_time": "2023-01-29T03:13:16.292975Z"
    }
   },
   "outputs": [],
   "source": [
    "num = 5 # 5 is assigned to the variable num "
   ]
  },
  {
   "cell_type": "code",
   "execution_count": 33,
   "id": "7dc76652",
   "metadata": {
    "ExecuteTime": {
     "end_time": "2023-01-29T03:13:27.162328Z",
     "start_time": "2023-01-29T03:13:27.156691Z"
    }
   },
   "outputs": [
    {
     "data": {
      "text/plain": [
       "int"
      ]
     },
     "execution_count": 33,
     "metadata": {},
     "output_type": "execute_result"
    }
   ],
   "source": [
    "type(num) "
   ]
  },
  {
   "cell_type": "code",
   "execution_count": 34,
   "id": "503c2936",
   "metadata": {
    "ExecuteTime": {
     "end_time": "2023-01-29T03:13:42.237135Z",
     "start_time": "2023-01-29T03:13:42.178207Z"
    }
   },
   "outputs": [
    {
     "data": {
      "text/plain": [
       "['__abs__',\n",
       " '__add__',\n",
       " '__and__',\n",
       " '__bool__',\n",
       " '__ceil__',\n",
       " '__class__',\n",
       " '__delattr__',\n",
       " '__dir__',\n",
       " '__divmod__',\n",
       " '__doc__',\n",
       " '__eq__',\n",
       " '__float__',\n",
       " '__floor__',\n",
       " '__floordiv__',\n",
       " '__format__',\n",
       " '__ge__',\n",
       " '__getattribute__',\n",
       " '__getnewargs__',\n",
       " '__gt__',\n",
       " '__hash__',\n",
       " '__index__',\n",
       " '__init__',\n",
       " '__init_subclass__',\n",
       " '__int__',\n",
       " '__invert__',\n",
       " '__le__',\n",
       " '__lshift__',\n",
       " '__lt__',\n",
       " '__mod__',\n",
       " '__mul__',\n",
       " '__ne__',\n",
       " '__neg__',\n",
       " '__new__',\n",
       " '__or__',\n",
       " '__pos__',\n",
       " '__pow__',\n",
       " '__radd__',\n",
       " '__rand__',\n",
       " '__rdivmod__',\n",
       " '__reduce__',\n",
       " '__reduce_ex__',\n",
       " '__repr__',\n",
       " '__rfloordiv__',\n",
       " '__rlshift__',\n",
       " '__rmod__',\n",
       " '__rmul__',\n",
       " '__ror__',\n",
       " '__round__',\n",
       " '__rpow__',\n",
       " '__rrshift__',\n",
       " '__rshift__',\n",
       " '__rsub__',\n",
       " '__rtruediv__',\n",
       " '__rxor__',\n",
       " '__setattr__',\n",
       " '__sizeof__',\n",
       " '__str__',\n",
       " '__sub__',\n",
       " '__subclasshook__',\n",
       " '__truediv__',\n",
       " '__trunc__',\n",
       " '__xor__',\n",
       " 'as_integer_ratio',\n",
       " 'bit_length',\n",
       " 'conjugate',\n",
       " 'denominator',\n",
       " 'from_bytes',\n",
       " 'imag',\n",
       " 'numerator',\n",
       " 'real',\n",
       " 'to_bytes']"
      ]
     },
     "execution_count": 34,
     "metadata": {},
     "output_type": "execute_result"
    }
   ],
   "source": [
    "dir(num)"
   ]
  },
  {
   "cell_type": "code",
   "execution_count": 26,
   "id": "3fe25ea5",
   "metadata": {
    "ExecuteTime": {
     "end_time": "2023-01-29T03:03:56.920560Z",
     "start_time": "2023-01-29T03:03:56.911838Z"
    }
   },
   "outputs": [
    {
     "data": {
      "text/plain": [
       "['__add__',\n",
       " '__class__',\n",
       " '__contains__',\n",
       " '__delattr__',\n",
       " '__dir__',\n",
       " '__doc__',\n",
       " '__eq__',\n",
       " '__format__',\n",
       " '__ge__',\n",
       " '__getattribute__',\n",
       " '__getitem__',\n",
       " '__getnewargs__',\n",
       " '__gt__',\n",
       " '__hash__',\n",
       " '__init__',\n",
       " '__init_subclass__',\n",
       " '__iter__',\n",
       " '__le__',\n",
       " '__len__',\n",
       " '__lt__',\n",
       " '__mod__',\n",
       " '__mul__',\n",
       " '__ne__',\n",
       " '__new__',\n",
       " '__reduce__',\n",
       " '__reduce_ex__',\n",
       " '__repr__',\n",
       " '__rmod__',\n",
       " '__rmul__',\n",
       " '__setattr__',\n",
       " '__sizeof__',\n",
       " '__str__',\n",
       " '__subclasshook__',\n",
       " 'capitalize',\n",
       " 'casefold',\n",
       " 'center',\n",
       " 'count',\n",
       " 'encode',\n",
       " 'endswith',\n",
       " 'expandtabs',\n",
       " 'find',\n",
       " 'format',\n",
       " 'format_map',\n",
       " 'index',\n",
       " 'isalnum',\n",
       " 'isalpha',\n",
       " 'isascii',\n",
       " 'isdecimal',\n",
       " 'isdigit',\n",
       " 'isidentifier',\n",
       " 'islower',\n",
       " 'isnumeric',\n",
       " 'isprintable',\n",
       " 'isspace',\n",
       " 'istitle',\n",
       " 'isupper',\n",
       " 'join',\n",
       " 'ljust',\n",
       " 'lower',\n",
       " 'lstrip',\n",
       " 'maketrans',\n",
       " 'partition',\n",
       " 'removeprefix',\n",
       " 'removesuffix',\n",
       " 'replace',\n",
       " 'rfind',\n",
       " 'rindex',\n",
       " 'rjust',\n",
       " 'rpartition',\n",
       " 'rsplit',\n",
       " 'rstrip',\n",
       " 'split',\n",
       " 'splitlines',\n",
       " 'startswith',\n",
       " 'strip',\n",
       " 'swapcase',\n",
       " 'title',\n",
       " 'translate',\n",
       " 'upper',\n",
       " 'zfill']"
      ]
     },
     "execution_count": 26,
     "metadata": {},
     "output_type": "execute_result"
    }
   ],
   "source": [
    "dir(name) # a function that lists all the possibilities of a data type"
   ]
  },
  {
   "cell_type": "code",
   "execution_count": 29,
   "id": "20f14b0f",
   "metadata": {
    "ExecuteTime": {
     "end_time": "2023-01-29T03:05:39.026720Z",
     "start_time": "2023-01-29T03:05:39.011943Z"
    }
   },
   "outputs": [
    {
     "data": {
      "text/plain": [
       "'PETER'"
      ]
     },
     "execution_count": 29,
     "metadata": {},
     "output_type": "execute_result"
    }
   ],
   "source": [
    "name.upper() # Using the upper method"
   ]
  },
  {
   "cell_type": "code",
   "execution_count": 30,
   "id": "4958c49c",
   "metadata": {
    "ExecuteTime": {
     "end_time": "2023-01-29T03:11:15.956811Z",
     "start_time": "2023-01-29T03:11:15.949596Z"
    }
   },
   "outputs": [
    {
     "data": {
      "text/plain": [
       "'Peter'"
      ]
     },
     "execution_count": 30,
     "metadata": {},
     "output_type": "execute_result"
    }
   ],
   "source": [
    "# Format a string\n",
    "# f-string\n",
    "name "
   ]
  },
  {
   "cell_type": "code",
   "execution_count": 31,
   "id": "1d11b99f",
   "metadata": {
    "ExecuteTime": {
     "end_time": "2023-01-29T03:11:49.669846Z",
     "start_time": "2023-01-29T03:11:49.628751Z"
    }
   },
   "outputs": [
    {
     "name": "stdout",
     "output_type": "stream",
     "text": [
      "My name is Peter\n"
     ]
    }
   ],
   "source": [
    "print(f'My name is {name}')"
   ]
  },
  {
   "cell_type": "code",
   "execution_count": 36,
   "id": "094ccf88",
   "metadata": {
    "ExecuteTime": {
     "end_time": "2023-01-29T03:16:33.638384Z",
     "start_time": "2023-01-29T03:16:33.608103Z"
    }
   },
   "outputs": [
    {
     "name": "stdout",
     "output_type": "stream",
     "text": [
      "My name is Peter\n"
     ]
    }
   ],
   "source": [
    "# Formating using %s\n",
    "print('My name is %s'% name)"
   ]
  },
  {
   "cell_type": "code",
   "execution_count": 39,
   "id": "e7922a73",
   "metadata": {
    "ExecuteTime": {
     "end_time": "2023-01-29T03:20:19.944613Z",
     "start_time": "2023-01-29T03:20:19.892228Z"
    }
   },
   "outputs": [
    {
     "data": {
      "text/plain": [
       "'Pablo Picasso'"
      ]
     },
     "execution_count": 39,
     "metadata": {},
     "output_type": "execute_result"
    }
   ],
   "source": [
    "# String Concatenation \n",
    "first_name = 'Pablo'\n",
    "last_name = 'Picasso'\n",
    "\n",
    "first_name + \" \" + last_name "
   ]
  },
  {
   "cell_type": "code",
   "execution_count": 42,
   "id": "bd435bb3",
   "metadata": {
    "ExecuteTime": {
     "end_time": "2023-01-29T03:34:44.074245Z",
     "start_time": "2023-01-29T03:34:44.066975Z"
    }
   },
   "outputs": [
    {
     "data": {
      "text/plain": [
       "int"
      ]
     },
     "execution_count": 42,
     "metadata": {},
     "output_type": "execute_result"
    }
   ],
   "source": [
    "# str - it is used for data type conversion\n",
    "num_number = 10 \n",
    "type(num_number)"
   ]
  },
  {
   "cell_type": "code",
   "execution_count": 43,
   "id": "28dcfcfd",
   "metadata": {
    "ExecuteTime": {
     "end_time": "2023-01-29T03:35:32.872018Z",
     "start_time": "2023-01-29T03:35:32.862836Z"
    }
   },
   "outputs": [
    {
     "data": {
      "text/plain": [
       "str"
      ]
     },
     "execution_count": 43,
     "metadata": {},
     "output_type": "execute_result"
    }
   ],
   "source": [
    "num_string = str(num_number) # Converted the int to string \n",
    "type(num_string)"
   ]
  },
  {
   "cell_type": "code",
   "execution_count": 44,
   "id": "d96e7f0d",
   "metadata": {
    "ExecuteTime": {
     "end_time": "2023-01-29T03:35:45.040247Z",
     "start_time": "2023-01-29T03:35:44.985294Z"
    }
   },
   "outputs": [
    {
     "data": {
      "text/plain": [
       "'10'"
      ]
     },
     "execution_count": 44,
     "metadata": {},
     "output_type": "execute_result"
    }
   ],
   "source": [
    "num_string"
   ]
  },
  {
   "cell_type": "markdown",
   "id": "999ea110",
   "metadata": {},
   "source": [
    "### Numeric Data type"
   ]
  },
  {
   "cell_type": "code",
   "execution_count": 40,
   "id": "bf69da7e",
   "metadata": {
    "ExecuteTime": {
     "end_time": "2023-01-29T03:30:01.621931Z",
     "start_time": "2023-01-29T03:30:01.616081Z"
    }
   },
   "outputs": [],
   "source": [
    "# Int\n",
    "# Float\n",
    "# Compex"
   ]
  },
  {
   "cell_type": "code",
   "execution_count": 41,
   "id": "9365f611",
   "metadata": {
    "ExecuteTime": {
     "end_time": "2023-01-29T03:32:25.448975Z",
     "start_time": "2023-01-29T03:32:25.325898Z"
    }
   },
   "outputs": [
    {
     "data": {
      "text/plain": [
       "int"
      ]
     },
     "execution_count": 41,
     "metadata": {},
     "output_type": "execute_result"
    }
   ],
   "source": [
    "# Integers\n",
    "num = 5 # 5 is assigned to num \n",
    "type(num)"
   ]
  },
  {
   "cell_type": "code",
   "execution_count": null,
   "id": "04909762",
   "metadata": {},
   "outputs": [],
   "source": [
    "# The equal sign(the assignment operator)"
   ]
  },
  {
   "cell_type": "code",
   "execution_count": 45,
   "id": "0f046c5b",
   "metadata": {
    "ExecuteTime": {
     "end_time": "2023-01-29T03:36:42.903517Z",
     "start_time": "2023-01-29T03:36:42.896846Z"
    }
   },
   "outputs": [
    {
     "data": {
      "text/plain": [
       "'10'"
      ]
     },
     "execution_count": 45,
     "metadata": {},
     "output_type": "execute_result"
    }
   ],
   "source": [
    "num_string"
   ]
  },
  {
   "cell_type": "code",
   "execution_count": 46,
   "id": "f7d03516",
   "metadata": {
    "ExecuteTime": {
     "end_time": "2023-01-29T03:37:08.964306Z",
     "start_time": "2023-01-29T03:37:08.959447Z"
    }
   },
   "outputs": [],
   "source": [
    "# Convert num_string to int\n",
    "num_number = int(num_string)"
   ]
  },
  {
   "cell_type": "code",
   "execution_count": 47,
   "id": "fb88add0",
   "metadata": {
    "ExecuteTime": {
     "end_time": "2023-01-29T03:37:12.965294Z",
     "start_time": "2023-01-29T03:37:12.957089Z"
    }
   },
   "outputs": [
    {
     "data": {
      "text/plain": [
       "10"
      ]
     },
     "execution_count": 47,
     "metadata": {},
     "output_type": "execute_result"
    }
   ],
   "source": [
    "num_number"
   ]
  },
  {
   "cell_type": "code",
   "execution_count": 48,
   "id": "003bbb68",
   "metadata": {
    "ExecuteTime": {
     "end_time": "2023-01-29T03:38:31.797886Z",
     "start_time": "2023-01-29T03:38:31.790896Z"
    }
   },
   "outputs": [],
   "source": [
    "# Can we convert a string into an int\n",
    "str_word = 'convert'"
   ]
  },
  {
   "cell_type": "code",
   "execution_count": 49,
   "id": "ce2ca3b0",
   "metadata": {
    "ExecuteTime": {
     "end_time": "2023-01-29T03:38:44.222786Z",
     "start_time": "2023-01-29T03:38:44.216097Z"
    }
   },
   "outputs": [
    {
     "data": {
      "text/plain": [
       "str"
      ]
     },
     "execution_count": 49,
     "metadata": {},
     "output_type": "execute_result"
    }
   ],
   "source": [
    "type(str_word) "
   ]
  },
  {
   "cell_type": "code",
   "execution_count": 50,
   "id": "ec7a5f0b",
   "metadata": {
    "ExecuteTime": {
     "end_time": "2023-01-29T03:39:06.156182Z",
     "start_time": "2023-01-29T03:39:06.121284Z"
    }
   },
   "outputs": [
    {
     "ename": "ValueError",
     "evalue": "invalid literal for int() with base 10: 'convert'",
     "output_type": "error",
     "traceback": [
      "\u001b[0;31m---------------------------------------------------------------------------\u001b[0m",
      "\u001b[0;31mValueError\u001b[0m                                Traceback (most recent call last)",
      "\u001b[0;32m/var/folders/sj/vpbs2tm52r3gw6r1vgvt92200000gn/T/ipykernel_17357/2561489719.py\u001b[0m in \u001b[0;36m<module>\u001b[0;34m\u001b[0m\n\u001b[0;32m----> 1\u001b[0;31m \u001b[0mstr_num\u001b[0m \u001b[0;34m=\u001b[0m \u001b[0mint\u001b[0m\u001b[0;34m(\u001b[0m\u001b[0mstr_word\u001b[0m\u001b[0;34m)\u001b[0m\u001b[0;34m\u001b[0m\u001b[0;34m\u001b[0m\u001b[0m\n\u001b[0m",
      "\u001b[0;31mValueError\u001b[0m: invalid literal for int() with base 10: 'convert'"
     ]
    }
   ],
   "source": [
    "str_num = int(str_word)"
   ]
  },
  {
   "cell_type": "code",
   "execution_count": 51,
   "id": "0d55f678",
   "metadata": {
    "ExecuteTime": {
     "end_time": "2023-01-29T03:41:09.636389Z",
     "start_time": "2023-01-29T03:41:09.620751Z"
    }
   },
   "outputs": [
    {
     "data": {
      "text/plain": [
       "float"
      ]
     },
     "execution_count": 51,
     "metadata": {},
     "output_type": "execute_result"
    }
   ],
   "source": [
    "# Floats\n",
    "# Are integers with decimal points\n",
    "fl_num = 10.4 \n",
    "type(fl_num)"
   ]
  },
  {
   "cell_type": "code",
   "execution_count": 52,
   "id": "fc0a8869",
   "metadata": {
    "ExecuteTime": {
     "end_time": "2023-01-29T03:43:27.569355Z",
     "start_time": "2023-01-29T03:43:27.545438Z"
    }
   },
   "outputs": [],
   "source": [
    "# A string can be converted to a float\n",
    "str_float = \"20.5\" # a string"
   ]
  },
  {
   "cell_type": "code",
   "execution_count": 53,
   "id": "7bc98166",
   "metadata": {
    "ExecuteTime": {
     "end_time": "2023-01-29T03:44:02.545950Z",
     "start_time": "2023-01-29T03:44:02.529953Z"
    }
   },
   "outputs": [
    {
     "data": {
      "text/plain": [
       "str"
      ]
     },
     "execution_count": 53,
     "metadata": {},
     "output_type": "execute_result"
    }
   ],
   "source": [
    "type(str_float)"
   ]
  },
  {
   "cell_type": "code",
   "execution_count": 54,
   "id": "64be9956",
   "metadata": {
    "ExecuteTime": {
     "end_time": "2023-01-29T03:44:51.520739Z",
     "start_time": "2023-01-29T03:44:51.507416Z"
    }
   },
   "outputs": [],
   "source": [
    "float_str = float(str_float) # converting a string to floats"
   ]
  },
  {
   "cell_type": "code",
   "execution_count": 56,
   "id": "0c190a25",
   "metadata": {
    "ExecuteTime": {
     "end_time": "2023-01-29T03:45:22.618341Z",
     "start_time": "2023-01-29T03:45:22.610676Z"
    }
   },
   "outputs": [
    {
     "data": {
      "text/plain": [
       "20.5"
      ]
     },
     "execution_count": 56,
     "metadata": {},
     "output_type": "execute_result"
    }
   ],
   "source": [
    "float_str # The converted string"
   ]
  },
  {
   "cell_type": "code",
   "execution_count": 57,
   "id": "deb55cd7",
   "metadata": {
    "ExecuteTime": {
     "end_time": "2023-01-29T03:48:44.857235Z",
     "start_time": "2023-01-29T03:48:44.851143Z"
    }
   },
   "outputs": [],
   "source": [
    "# Complex numbers \n",
    "# Has a real and an imaginary part\n",
    "num_complex = 3 + 4j "
   ]
  },
  {
   "cell_type": "code",
   "execution_count": 58,
   "id": "9c991592",
   "metadata": {
    "ExecuteTime": {
     "end_time": "2023-01-29T03:48:54.679735Z",
     "start_time": "2023-01-29T03:48:54.667851Z"
    }
   },
   "outputs": [
    {
     "data": {
      "text/plain": [
       "complex"
      ]
     },
     "execution_count": 58,
     "metadata": {},
     "output_type": "execute_result"
    }
   ],
   "source": [
    "type(num_complex)"
   ]
  },
  {
   "cell_type": "code",
   "execution_count": 59,
   "id": "305792e0",
   "metadata": {
    "ExecuteTime": {
     "end_time": "2023-01-29T03:49:15.785395Z",
     "start_time": "2023-01-29T03:49:15.752538Z"
    }
   },
   "outputs": [
    {
     "data": {
      "text/plain": [
       "3.0"
      ]
     },
     "execution_count": 59,
     "metadata": {},
     "output_type": "execute_result"
    }
   ],
   "source": [
    "num_complex.real # Showing the real number"
   ]
  },
  {
   "cell_type": "code",
   "execution_count": 60,
   "id": "d2dc4d1d",
   "metadata": {
    "ExecuteTime": {
     "end_time": "2023-01-29T03:49:43.179941Z",
     "start_time": "2023-01-29T03:49:43.154165Z"
    }
   },
   "outputs": [
    {
     "data": {
      "text/plain": [
       "4.0"
      ]
     },
     "execution_count": 60,
     "metadata": {},
     "output_type": "execute_result"
    }
   ],
   "source": [
    "num_complex.imag"
   ]
  },
  {
   "cell_type": "code",
   "execution_count": null,
   "id": "84730b1a",
   "metadata": {},
   "outputs": [],
   "source": [
    "# Numerical Operation\n",
    "# +, -, *, /, %, //"
   ]
  },
  {
   "cell_type": "code",
   "execution_count": null,
   "id": "e70d55b9",
   "metadata": {},
   "outputs": [],
   "source": [
    "4 + 5\n",
    "4 - 5\n",
    "4 * 5\n",
    "4 / 5\n",
    "5 % 4 \n",
    "5 // 4"
   ]
  },
  {
   "cell_type": "code",
   "execution_count": 61,
   "id": "9af6cbed",
   "metadata": {
    "ExecuteTime": {
     "end_time": "2023-01-29T03:55:09.734457Z",
     "start_time": "2023-01-29T03:55:09.727181Z"
    }
   },
   "outputs": [
    {
     "data": {
      "text/plain": [
       "9"
      ]
     },
     "execution_count": 61,
     "metadata": {},
     "output_type": "execute_result"
    }
   ],
   "source": [
    "4 + 5 # Addition"
   ]
  },
  {
   "cell_type": "code",
   "execution_count": 62,
   "id": "1cbe5201",
   "metadata": {
    "ExecuteTime": {
     "end_time": "2023-01-29T03:55:18.244411Z",
     "start_time": "2023-01-29T03:55:18.226334Z"
    }
   },
   "outputs": [
    {
     "data": {
      "text/plain": [
       "-1"
      ]
     },
     "execution_count": 62,
     "metadata": {},
     "output_type": "execute_result"
    }
   ],
   "source": [
    "4 - 5 # Subtraction"
   ]
  },
  {
   "cell_type": "code",
   "execution_count": 63,
   "id": "c22de27c",
   "metadata": {
    "ExecuteTime": {
     "end_time": "2023-01-29T03:55:27.749233Z",
     "start_time": "2023-01-29T03:55:27.729458Z"
    }
   },
   "outputs": [
    {
     "data": {
      "text/plain": [
       "20"
      ]
     },
     "execution_count": 63,
     "metadata": {},
     "output_type": "execute_result"
    }
   ],
   "source": [
    "4 * 5 # Multiplication"
   ]
  },
  {
   "cell_type": "code",
   "execution_count": 71,
   "id": "329f344f",
   "metadata": {
    "ExecuteTime": {
     "end_time": "2023-01-29T03:58:16.627117Z",
     "start_time": "2023-01-29T03:58:16.611232Z"
    }
   },
   "outputs": [
    {
     "data": {
      "text/plain": [
       "0.6666666666666666"
      ]
     },
     "execution_count": 71,
     "metadata": {},
     "output_type": "execute_result"
    }
   ],
   "source": [
    "4 / 6 # Division"
   ]
  },
  {
   "cell_type": "code",
   "execution_count": 65,
   "id": "c34e7b93",
   "metadata": {
    "ExecuteTime": {
     "end_time": "2023-01-29T03:55:47.351562Z",
     "start_time": "2023-01-29T03:55:47.306446Z"
    }
   },
   "outputs": [
    {
     "data": {
      "text/plain": [
       "1"
      ]
     },
     "execution_count": 65,
     "metadata": {},
     "output_type": "execute_result"
    }
   ],
   "source": [
    "5 % 4 # Finding the remainder after dividing"
   ]
  },
  {
   "cell_type": "code",
   "execution_count": 77,
   "id": "069e4e51",
   "metadata": {
    "ExecuteTime": {
     "end_time": "2023-01-29T04:05:49.056077Z",
     "start_time": "2023-01-29T04:05:49.048397Z"
    }
   },
   "outputs": [
    {
     "data": {
      "text/plain": [
       "5"
      ]
     },
     "execution_count": 77,
     "metadata": {},
     "output_type": "execute_result"
    }
   ],
   "source": [
    "5 // 1 # Divides but rounds to the closest whole number"
   ]
  },
  {
   "cell_type": "code",
   "execution_count": null,
   "id": "b169e098",
   "metadata": {},
   "outputs": [],
   "source": []
  },
  {
   "cell_type": "code",
   "execution_count": 72,
   "id": "c5e6738d",
   "metadata": {
    "ExecuteTime": {
     "end_time": "2023-01-29T03:59:51.099620Z",
     "start_time": "2023-01-29T03:59:51.094365Z"
    }
   },
   "outputs": [],
   "source": [
    "# Augmented Assignment\n",
    "x = 5 "
   ]
  },
  {
   "cell_type": "code",
   "execution_count": 73,
   "id": "01284d51",
   "metadata": {
    "ExecuteTime": {
     "end_time": "2023-01-29T04:00:36.410865Z",
     "start_time": "2023-01-29T04:00:36.333656Z"
    }
   },
   "outputs": [
    {
     "data": {
      "text/plain": [
       "7"
      ]
     },
     "execution_count": 73,
     "metadata": {},
     "output_type": "execute_result"
    }
   ],
   "source": [
    "x = 5 + 2 \n",
    "x"
   ]
  },
  {
   "cell_type": "code",
   "execution_count": 74,
   "id": "17fb242c",
   "metadata": {
    "ExecuteTime": {
     "end_time": "2023-01-29T04:01:18.163688Z",
     "start_time": "2023-01-29T04:01:18.154551Z"
    }
   },
   "outputs": [
    {
     "data": {
      "text/plain": [
       "7"
      ]
     },
     "execution_count": 74,
     "metadata": {},
     "output_type": "execute_result"
    }
   ],
   "source": [
    "# Augment\n",
    "x = 5\n",
    "x += 2\n",
    "x "
   ]
  },
  {
   "cell_type": "markdown",
   "id": "96d4d936",
   "metadata": {},
   "source": [
    "### Review Meeting"
   ]
  },
  {
   "cell_type": "code",
   "execution_count": 1,
   "id": "1925526f",
   "metadata": {
    "ExecuteTime": {
     "end_time": "2023-02-01T17:44:45.136504Z",
     "start_time": "2023-02-01T17:44:45.127716Z"
    }
   },
   "outputs": [],
   "source": [
    "# f-string - Makes values readable\n",
    "player = \"Enzo\""
   ]
  },
  {
   "cell_type": "code",
   "execution_count": 3,
   "id": "6b857387",
   "metadata": {
    "ExecuteTime": {
     "end_time": "2023-02-01T17:48:05.483918Z",
     "start_time": "2023-02-01T17:48:05.465233Z"
    }
   },
   "outputs": [
    {
     "name": "stdout",
     "output_type": "stream",
     "text": [
      "Enzo!!!!!! The most explensive football player in the planet\n"
     ]
    }
   ],
   "source": [
    "print(f\"{player}!!!!!! The most explensive football player in the planet\")"
   ]
  },
  {
   "cell_type": "code",
   "execution_count": 5,
   "id": "3c3af975",
   "metadata": {
    "ExecuteTime": {
     "end_time": "2023-02-01T17:49:55.724290Z",
     "start_time": "2023-02-01T17:49:55.621659Z"
    }
   },
   "outputs": [
    {
     "name": "stdout",
     "output_type": "stream",
     "text": [
      "The most expensive player on earth is Enzo\n"
     ]
    }
   ],
   "source": [
    "# Using %s\n",
    "print(\"The most expensive player on earth is %s\" % player)"
   ]
  },
  {
   "cell_type": "markdown",
   "id": "80c594f3",
   "metadata": {},
   "source": [
    "### Lists"
   ]
  },
  {
   "cell_type": "code",
   "execution_count": 6,
   "id": "9ca634d6",
   "metadata": {
    "ExecuteTime": {
     "end_time": "2023-02-01T18:04:40.966212Z",
     "start_time": "2023-02-01T18:04:40.960362Z"
    }
   },
   "outputs": [],
   "source": [
    "# Elements - Popular term that I'll be using\n",
    "# Items - Popular term that I'll be using "
   ]
  },
  {
   "cell_type": "code",
   "execution_count": null,
   "id": "4fadfd6c",
   "metadata": {},
   "outputs": [],
   "source": [
    "# List lets you store information. \n",
    "# You can also retrieve information from lists\n",
    "# Inside a list, there can be different data types\n",
    "# I can refer to a list as a collection\n",
    "# A list is known for being inside a square bracket []\n",
    "# A list can be separated by commas"
   ]
  },
  {
   "cell_type": "code",
   "execution_count": 9,
   "id": "963647a3",
   "metadata": {
    "ExecuteTime": {
     "end_time": "2023-02-01T18:20:12.306707Z",
     "start_time": "2023-02-01T18:20:12.296299Z"
    }
   },
   "outputs": [],
   "source": [
    "# Create a list\n",
    "class_names = ['Pablo', 27, 'Adeolu', 'Dara', 'Victor', 'Esther', 'Miriam', 'Trevor', False]"
   ]
  },
  {
   "cell_type": "code",
   "execution_count": 10,
   "id": "38c40980",
   "metadata": {
    "ExecuteTime": {
     "end_time": "2023-02-01T18:21:25.958652Z",
     "start_time": "2023-02-01T18:21:25.899965Z"
    }
   },
   "outputs": [
    {
     "name": "stdout",
     "output_type": "stream",
     "text": [
      "['Pablo', 27, 'Adeolu', 'Dara', 'Victor', 'Esther', 'Miriam', 'Trevor', False]\n"
     ]
    }
   ],
   "source": [
    "print(class_names)"
   ]
  },
  {
   "cell_type": "code",
   "execution_count": 11,
   "id": "51d443ef",
   "metadata": {
    "ExecuteTime": {
     "end_time": "2023-02-01T18:21:41.048202Z",
     "start_time": "2023-02-01T18:21:41.022146Z"
    }
   },
   "outputs": [
    {
     "data": {
      "text/plain": [
       "list"
      ]
     },
     "execution_count": 11,
     "metadata": {},
     "output_type": "execute_result"
    }
   ],
   "source": [
    "type(class_names)"
   ]
  },
  {
   "cell_type": "code",
   "execution_count": 12,
   "id": "2948febf",
   "metadata": {
    "ExecuteTime": {
     "end_time": "2023-02-01T18:24:30.443370Z",
     "start_time": "2023-02-01T18:24:30.429481Z"
    }
   },
   "outputs": [],
   "source": [
    "letters = 'This class is amazing' # a string assigned to letters"
   ]
  },
  {
   "cell_type": "code",
   "execution_count": 13,
   "id": "cb2721eb",
   "metadata": {
    "ExecuteTime": {
     "end_time": "2023-02-01T18:24:39.743405Z",
     "start_time": "2023-02-01T18:24:39.725164Z"
    }
   },
   "outputs": [
    {
     "data": {
      "text/plain": [
       "str"
      ]
     },
     "execution_count": 13,
     "metadata": {},
     "output_type": "execute_result"
    }
   ],
   "source": [
    "type(letters)"
   ]
  },
  {
   "cell_type": "code",
   "execution_count": 14,
   "id": "59e202c3",
   "metadata": {
    "ExecuteTime": {
     "end_time": "2023-02-01T18:25:37.510640Z",
     "start_time": "2023-02-01T18:25:37.486286Z"
    }
   },
   "outputs": [],
   "source": [
    "# Introduce the list function\n",
    "list_letters = list(letters)"
   ]
  },
  {
   "cell_type": "code",
   "execution_count": 15,
   "id": "29576fd3",
   "metadata": {
    "ExecuteTime": {
     "end_time": "2023-02-01T18:25:49.988671Z",
     "start_time": "2023-02-01T18:25:49.980965Z"
    }
   },
   "outputs": [
    {
     "name": "stdout",
     "output_type": "stream",
     "text": [
      "['T', 'h', 'i', 's', ' ', 'c', 'l', 'a', 's', 's', ' ', 'i', 's', ' ', 'a', 'm', 'a', 'z', 'i', 'n', 'g']\n"
     ]
    }
   ],
   "source": [
    "print(list_letters)"
   ]
  },
  {
   "cell_type": "code",
   "execution_count": 16,
   "id": "77da328c",
   "metadata": {
    "ExecuteTime": {
     "end_time": "2023-02-01T18:27:43.461621Z",
     "start_time": "2023-02-01T18:27:43.451603Z"
    }
   },
   "outputs": [
    {
     "data": {
      "text/plain": [
       "['__add__',\n",
       " '__class__',\n",
       " '__class_getitem__',\n",
       " '__contains__',\n",
       " '__delattr__',\n",
       " '__delitem__',\n",
       " '__dir__',\n",
       " '__doc__',\n",
       " '__eq__',\n",
       " '__format__',\n",
       " '__ge__',\n",
       " '__getattribute__',\n",
       " '__getitem__',\n",
       " '__gt__',\n",
       " '__hash__',\n",
       " '__iadd__',\n",
       " '__imul__',\n",
       " '__init__',\n",
       " '__init_subclass__',\n",
       " '__iter__',\n",
       " '__le__',\n",
       " '__len__',\n",
       " '__lt__',\n",
       " '__mul__',\n",
       " '__ne__',\n",
       " '__new__',\n",
       " '__reduce__',\n",
       " '__reduce_ex__',\n",
       " '__repr__',\n",
       " '__reversed__',\n",
       " '__rmul__',\n",
       " '__setattr__',\n",
       " '__setitem__',\n",
       " '__sizeof__',\n",
       " '__str__',\n",
       " '__subclasshook__',\n",
       " 'append',\n",
       " 'clear',\n",
       " 'copy',\n",
       " 'count',\n",
       " 'extend',\n",
       " 'index',\n",
       " 'insert',\n",
       " 'pop',\n",
       " 'remove',\n",
       " 'reverse',\n",
       " 'sort']"
      ]
     },
     "execution_count": 16,
     "metadata": {},
     "output_type": "execute_result"
    }
   ],
   "source": [
    "dir(class_names)"
   ]
  },
  {
   "cell_type": "code",
   "execution_count": null,
   "id": "37e3bb2f",
   "metadata": {},
   "outputs": [],
   "source": [
    "# These numberings/Sequences/Indexes...start from 0"
   ]
  },
  {
   "cell_type": "markdown",
   "id": "930cdc99",
   "metadata": {},
   "source": [
    "### Accessing lists/ List methods"
   ]
  },
  {
   "cell_type": "code",
   "execution_count": 17,
   "id": "725e85be",
   "metadata": {
    "ExecuteTime": {
     "end_time": "2023-02-01T18:34:19.260789Z",
     "start_time": "2023-02-01T18:34:19.250698Z"
    }
   },
   "outputs": [
    {
     "data": {
      "text/plain": [
       "['Pablo', 27, 'Adeolu', 'Dara', 'Victor', 'Esther', 'Miriam', 'Trevor', False]"
      ]
     },
     "execution_count": 17,
     "metadata": {},
     "output_type": "execute_result"
    }
   ],
   "source": [
    "class_names"
   ]
  },
  {
   "cell_type": "code",
   "execution_count": 18,
   "id": "5c8de141",
   "metadata": {
    "ExecuteTime": {
     "end_time": "2023-02-01T18:35:41.929015Z",
     "start_time": "2023-02-01T18:35:41.896918Z"
    }
   },
   "outputs": [
    {
     "name": "stdout",
     "output_type": "stream",
     "text": [
      "Dara\n"
     ]
    }
   ],
   "source": [
    "print(class_names[3]) # Accessing element(s) in a list using index"
   ]
  },
  {
   "cell_type": "code",
   "execution_count": 19,
   "id": "d2bed3c1",
   "metadata": {
    "ExecuteTime": {
     "end_time": "2023-02-01T18:37:11.664280Z",
     "start_time": "2023-02-01T18:37:11.659504Z"
    }
   },
   "outputs": [
    {
     "name": "stdout",
     "output_type": "stream",
     "text": [
      "Miriam\n"
     ]
    }
   ],
   "source": [
    "print(class_names[-3])"
   ]
  },
  {
   "cell_type": "code",
   "execution_count": 21,
   "id": "649b8a58",
   "metadata": {
    "ExecuteTime": {
     "end_time": "2023-02-01T18:40:07.151215Z",
     "start_time": "2023-02-01T18:40:07.145653Z"
    }
   },
   "outputs": [
    {
     "name": "stdout",
     "output_type": "stream",
     "text": [
      "Miriam is one of the females in the live class\n"
     ]
    }
   ],
   "source": [
    "# You things all in together\n",
    "print(f\"{class_names[-3]} is one of the females in the live class\")"
   ]
  },
  {
   "cell_type": "code",
   "execution_count": 22,
   "id": "5222236b",
   "metadata": {
    "ExecuteTime": {
     "end_time": "2023-02-01T18:59:57.658882Z",
     "start_time": "2023-02-01T18:59:57.602938Z"
    }
   },
   "outputs": [
    {
     "ename": "IndexError",
     "evalue": "list index out of range",
     "output_type": "error",
     "traceback": [
      "\u001b[0;31m---------------------------------------------------------------------------\u001b[0m",
      "\u001b[0;31mIndexError\u001b[0m                                Traceback (most recent call last)",
      "\u001b[0;32m/var/folders/sj/vpbs2tm52r3gw6r1vgvt92200000gn/T/ipykernel_24422/3577630233.py\u001b[0m in \u001b[0;36m<module>\u001b[0;34m\u001b[0m\n\u001b[0;32m----> 1\u001b[0;31m \u001b[0mclass_names\u001b[0m\u001b[0;34m[\u001b[0m\u001b[0;36m14\u001b[0m\u001b[0;34m]\u001b[0m\u001b[0;34m\u001b[0m\u001b[0;34m\u001b[0m\u001b[0m\n\u001b[0m",
      "\u001b[0;31mIndexError\u001b[0m: list index out of range"
     ]
    }
   ],
   "source": [
    "# Possible index error for lists\n",
    "class_names[14]"
   ]
  },
  {
   "cell_type": "code",
   "execution_count": null,
   "id": "e074f08a",
   "metadata": {},
   "outputs": [],
   "source": []
  }
 ],
 "metadata": {
  "kernelspec": {
   "display_name": "Python 3 (ipykernel)",
   "language": "python",
   "name": "python3"
  },
  "language_info": {
   "codemirror_mode": {
    "name": "ipython",
    "version": 3
   },
   "file_extension": ".py",
   "mimetype": "text/x-python",
   "name": "python",
   "nbconvert_exporter": "python",
   "pygments_lexer": "ipython3",
   "version": "3.9.13"
  }
 },
 "nbformat": 4,
 "nbformat_minor": 5
}
